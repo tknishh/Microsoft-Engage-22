{
 "cells": [
  {
   "cell_type": "code",
   "execution_count": 2,
   "metadata": {},
   "outputs": [],
   "source": [
    "# Importing the necessary libraries\n",
    "import pandas as pd\n",
    "import numpy as np\n",
    "import seaborn as sns\n",
    "import matplotlib.pyplot as plt\n",
    "import matplotlib.ticker as plticker\n",
    "from imblearn.over_sampling import SMOTE\n",
    "%matplotlib inline"
   ]
  },
  {
   "cell_type": "code",
   "execution_count": 3,
   "metadata": {},
   "outputs": [],
   "source": [
    "# Importing playlist dataframes\n",
    "df = pd.read_csv('data/encoded_playlist_songs.csv')\n",
    "df_fav = pd.read_csv('data/favorite_songs.csv')"
   ]
  },
  {
   "cell_type": "markdown",
   "metadata": {},
   "source": [
    "### Preparing data for model"
   ]
  },
  {
   "cell_type": "code",
   "execution_count": 4,
   "metadata": {},
   "outputs": [
    {
     "data": {
      "text/plain": [
       "(8933, 13)"
      ]
     },
     "execution_count": 4,
     "metadata": {},
     "output_type": "execute_result"
    }
   ],
   "source": [
    "# Remove song name, artist, album\n",
    "df = pd.concat([df, df_fav], axis=0)\n",
    "df.shape"
   ]
  },
  {
   "cell_type": "code",
   "execution_count": 5,
   "metadata": {},
   "outputs": [
    {
     "data": {
      "text/html": [
       "<div>\n",
       "<style scoped>\n",
       "    .dataframe tbody tr th:only-of-type {\n",
       "        vertical-align: middle;\n",
       "    }\n",
       "\n",
       "    .dataframe tbody tr th {\n",
       "        vertical-align: top;\n",
       "    }\n",
       "\n",
       "    .dataframe thead th {\n",
       "        text-align: right;\n",
       "    }\n",
       "</style>\n",
       "<table border=\"1\" class=\"dataframe\">\n",
       "  <thead>\n",
       "    <tr style=\"text-align: right;\">\n",
       "      <th></th>\n",
       "      <th>track_id</th>\n",
       "      <th>length</th>\n",
       "      <th>popularity</th>\n",
       "      <th>danceability</th>\n",
       "      <th>acousticness</th>\n",
       "      <th>energy</th>\n",
       "      <th>instrumentalness</th>\n",
       "      <th>liveness</th>\n",
       "      <th>loudness</th>\n",
       "      <th>speechiness</th>\n",
       "      <th>tempo</th>\n",
       "      <th>time_signature</th>\n",
       "      <th>favorite</th>\n",
       "    </tr>\n",
       "  </thead>\n",
       "  <tbody>\n",
       "    <tr>\n",
       "      <th>0</th>\n",
       "      <td>7MAibcTli4IisCtbHKrGMh</td>\n",
       "      <td>242096</td>\n",
       "      <td>90</td>\n",
       "      <td>0.586</td>\n",
       "      <td>0.1820</td>\n",
       "      <td>0.616</td>\n",
       "      <td>0.000000</td>\n",
       "      <td>0.0927</td>\n",
       "      <td>-7.964</td>\n",
       "      <td>0.0324</td>\n",
       "      <td>148.088</td>\n",
       "      <td>4</td>\n",
       "      <td>0</td>\n",
       "    </tr>\n",
       "    <tr>\n",
       "      <th>1</th>\n",
       "      <td>5QO79kh1waicV47BqGRL3g</td>\n",
       "      <td>215626</td>\n",
       "      <td>97</td>\n",
       "      <td>0.680</td>\n",
       "      <td>0.0212</td>\n",
       "      <td>0.826</td>\n",
       "      <td>0.000012</td>\n",
       "      <td>0.5430</td>\n",
       "      <td>-5.487</td>\n",
       "      <td>0.0309</td>\n",
       "      <td>118.051</td>\n",
       "      <td>4</td>\n",
       "      <td>0</td>\n",
       "    </tr>\n",
       "    <tr>\n",
       "      <th>2</th>\n",
       "      <td>1diS6nkxMQc3wwC4G1j0bh</td>\n",
       "      <td>165506</td>\n",
       "      <td>88</td>\n",
       "      <td>0.722</td>\n",
       "      <td>0.0319</td>\n",
       "      <td>0.588</td>\n",
       "      <td>0.000000</td>\n",
       "      <td>0.1830</td>\n",
       "      <td>-5.932</td>\n",
       "      <td>0.0544</td>\n",
       "      <td>134.010</td>\n",
       "      <td>4</td>\n",
       "      <td>0</td>\n",
       "    </tr>\n",
       "    <tr>\n",
       "      <th>3</th>\n",
       "      <td>4u4NyuceXP7Uzh7XFJKCr1</td>\n",
       "      <td>170813</td>\n",
       "      <td>89</td>\n",
       "      <td>0.658</td>\n",
       "      <td>0.0106</td>\n",
       "      <td>0.634</td>\n",
       "      <td>0.000000</td>\n",
       "      <td>0.1320</td>\n",
       "      <td>-5.797</td>\n",
       "      <td>0.0413</td>\n",
       "      <td>139.980</td>\n",
       "      <td>4</td>\n",
       "      <td>0</td>\n",
       "    </tr>\n",
       "    <tr>\n",
       "      <th>4</th>\n",
       "      <td>3Ofmpyhv5UAQ70mENzB277</td>\n",
       "      <td>132780</td>\n",
       "      <td>94</td>\n",
       "      <td>0.778</td>\n",
       "      <td>0.1750</td>\n",
       "      <td>0.695</td>\n",
       "      <td>0.000000</td>\n",
       "      <td>0.1500</td>\n",
       "      <td>-6.865</td>\n",
       "      <td>0.0913</td>\n",
       "      <td>149.996</td>\n",
       "      <td>4</td>\n",
       "      <td>0</td>\n",
       "    </tr>\n",
       "  </tbody>\n",
       "</table>\n",
       "</div>"
      ],
      "text/plain": [
       "                 track_id  length  popularity  danceability  acousticness  \\\n",
       "0  7MAibcTli4IisCtbHKrGMh  242096          90         0.586        0.1820   \n",
       "1  5QO79kh1waicV47BqGRL3g  215626          97         0.680        0.0212   \n",
       "2  1diS6nkxMQc3wwC4G1j0bh  165506          88         0.722        0.0319   \n",
       "3  4u4NyuceXP7Uzh7XFJKCr1  170813          89         0.658        0.0106   \n",
       "4  3Ofmpyhv5UAQ70mENzB277  132780          94         0.778        0.1750   \n",
       "\n",
       "   energy  instrumentalness  liveness  loudness  speechiness    tempo  \\\n",
       "0   0.616          0.000000    0.0927    -7.964       0.0324  148.088   \n",
       "1   0.826          0.000012    0.5430    -5.487       0.0309  118.051   \n",
       "2   0.588          0.000000    0.1830    -5.932       0.0544  134.010   \n",
       "3   0.634          0.000000    0.1320    -5.797       0.0413  139.980   \n",
       "4   0.695          0.000000    0.1500    -6.865       0.0913  149.996   \n",
       "\n",
       "   time_signature  favorite  \n",
       "0               4         0  \n",
       "1               4         0  \n",
       "2               4         0  \n",
       "3               4         0  \n",
       "4               4         0  "
      ]
     },
     "execution_count": 5,
     "metadata": {},
     "output_type": "execute_result"
    }
   ],
   "source": [
    "df.head()"
   ]
  },
  {
   "cell_type": "code",
   "execution_count": 6,
   "metadata": {},
   "outputs": [
    {
     "data": {
      "text/plain": [
       "0    8883\n",
       "1      50\n",
       "Name: favorite, dtype: int64"
      ]
     },
     "execution_count": 6,
     "metadata": {},
     "output_type": "execute_result"
    }
   ],
   "source": [
    "df['favorite'].value_counts()"
   ]
  },
  {
   "cell_type": "markdown",
   "metadata": {},
   "source": [
    "# Data Prep Contd, Model Selection & Hyperparameter Tuning"
   ]
  },
  {
   "cell_type": "code",
   "execution_count": 7,
   "metadata": {},
   "outputs": [],
   "source": [
    "# Importing required libraries\n",
    "import sklearn\n",
    "from sklearn.pipeline import Pipeline\n",
    "from sklearn.model_selection import cross_val_score\n",
    "from sklearn.model_selection import train_test_split\n",
    "from sklearn.model_selection import GridSearchCV\n",
    "from sklearn.metrics import plot_confusion_matrix\n",
    "from sklearn import metrics \n",
    "from sklearn.metrics import f1_score\n",
    "# Models\n",
    "from sklearn.ensemble import RandomForestClassifier\n",
    "from sklearn.linear_model import LogisticRegression \n",
    "from sklearn.tree import DecisionTreeClassifier"
   ]
  },
  {
   "cell_type": "markdown",
   "metadata": {},
   "source": [
    "## Creating train & test sets"
   ]
  },
  {
   "cell_type": "code",
   "execution_count": 8,
   "metadata": {},
   "outputs": [],
   "source": [
    "# Shuffle your dataset \n",
    "shuffle_df = df.sample(frac=1)\n",
    "\n",
    "# Define a size for your train set \n",
    "train_size = int(0.8 * len(df))\n",
    "\n",
    "# Split dataset \n",
    "train_set = shuffle_df[:train_size]\n",
    "test_set = shuffle_df[train_size:]"
   ]
  },
  {
   "cell_type": "code",
   "execution_count": 9,
   "metadata": {},
   "outputs": [
    {
     "data": {
      "text/html": [
       "<div>\n",
       "<style scoped>\n",
       "    .dataframe tbody tr th:only-of-type {\n",
       "        vertical-align: middle;\n",
       "    }\n",
       "\n",
       "    .dataframe tbody tr th {\n",
       "        vertical-align: top;\n",
       "    }\n",
       "\n",
       "    .dataframe thead th {\n",
       "        text-align: right;\n",
       "    }\n",
       "</style>\n",
       "<table border=\"1\" class=\"dataframe\">\n",
       "  <thead>\n",
       "    <tr style=\"text-align: right;\">\n",
       "      <th></th>\n",
       "      <th>track_id</th>\n",
       "      <th>length</th>\n",
       "      <th>popularity</th>\n",
       "      <th>danceability</th>\n",
       "      <th>acousticness</th>\n",
       "      <th>energy</th>\n",
       "      <th>instrumentalness</th>\n",
       "      <th>liveness</th>\n",
       "      <th>loudness</th>\n",
       "      <th>speechiness</th>\n",
       "      <th>tempo</th>\n",
       "      <th>time_signature</th>\n",
       "      <th>favorite</th>\n",
       "    </tr>\n",
       "  </thead>\n",
       "  <tbody>\n",
       "    <tr>\n",
       "      <th>6799</th>\n",
       "      <td>1ZWrhcwnYsVI32FGt0Lc0o</td>\n",
       "      <td>244533</td>\n",
       "      <td>30</td>\n",
       "      <td>0.469</td>\n",
       "      <td>0.989</td>\n",
       "      <td>0.00314</td>\n",
       "      <td>0.909</td>\n",
       "      <td>0.0920</td>\n",
       "      <td>-27.364</td>\n",
       "      <td>0.1390</td>\n",
       "      <td>72.146</td>\n",
       "      <td>3</td>\n",
       "      <td>0</td>\n",
       "    </tr>\n",
       "    <tr>\n",
       "      <th>6281</th>\n",
       "      <td>34PRwPPXX9VYJHJqNqWIRa</td>\n",
       "      <td>247933</td>\n",
       "      <td>19</td>\n",
       "      <td>0.477</td>\n",
       "      <td>0.603</td>\n",
       "      <td>0.40600</td>\n",
       "      <td>0.000</td>\n",
       "      <td>0.0491</td>\n",
       "      <td>-15.246</td>\n",
       "      <td>0.2070</td>\n",
       "      <td>90.005</td>\n",
       "      <td>4</td>\n",
       "      <td>0</td>\n",
       "    </tr>\n",
       "    <tr>\n",
       "      <th>8831</th>\n",
       "      <td>5Nxjc7qVeZTcNv7lCNTiSS</td>\n",
       "      <td>478546</td>\n",
       "      <td>18</td>\n",
       "      <td>0.292</td>\n",
       "      <td>0.978</td>\n",
       "      <td>0.11300</td>\n",
       "      <td>0.504</td>\n",
       "      <td>0.1080</td>\n",
       "      <td>-20.097</td>\n",
       "      <td>0.0392</td>\n",
       "      <td>112.857</td>\n",
       "      <td>4</td>\n",
       "      <td>0</td>\n",
       "    </tr>\n",
       "    <tr>\n",
       "      <th>7001</th>\n",
       "      <td>6RrUDnlhUXGwlWh0M6cYT4</td>\n",
       "      <td>379135</td>\n",
       "      <td>0</td>\n",
       "      <td>0.411</td>\n",
       "      <td>0.989</td>\n",
       "      <td>0.28100</td>\n",
       "      <td>0.916</td>\n",
       "      <td>0.1340</td>\n",
       "      <td>-14.311</td>\n",
       "      <td>0.0522</td>\n",
       "      <td>126.676</td>\n",
       "      <td>4</td>\n",
       "      <td>0</td>\n",
       "    </tr>\n",
       "    <tr>\n",
       "      <th>396</th>\n",
       "      <td>0NMhB5jf4SJhzqnx6pBHNh</td>\n",
       "      <td>174720</td>\n",
       "      <td>57</td>\n",
       "      <td>0.544</td>\n",
       "      <td>0.126</td>\n",
       "      <td>0.91600</td>\n",
       "      <td>0.798</td>\n",
       "      <td>0.2130</td>\n",
       "      <td>-4.732</td>\n",
       "      <td>0.0314</td>\n",
       "      <td>124.984</td>\n",
       "      <td>4</td>\n",
       "      <td>0</td>\n",
       "    </tr>\n",
       "  </tbody>\n",
       "</table>\n",
       "</div>"
      ],
      "text/plain": [
       "                    track_id  length  popularity  danceability  acousticness  \\\n",
       "6799  1ZWrhcwnYsVI32FGt0Lc0o  244533          30         0.469         0.989   \n",
       "6281  34PRwPPXX9VYJHJqNqWIRa  247933          19         0.477         0.603   \n",
       "8831  5Nxjc7qVeZTcNv7lCNTiSS  478546          18         0.292         0.978   \n",
       "7001  6RrUDnlhUXGwlWh0M6cYT4  379135           0         0.411         0.989   \n",
       "396   0NMhB5jf4SJhzqnx6pBHNh  174720          57         0.544         0.126   \n",
       "\n",
       "       energy  instrumentalness  liveness  loudness  speechiness    tempo  \\\n",
       "6799  0.00314             0.909    0.0920   -27.364       0.1390   72.146   \n",
       "6281  0.40600             0.000    0.0491   -15.246       0.2070   90.005   \n",
       "8831  0.11300             0.504    0.1080   -20.097       0.0392  112.857   \n",
       "7001  0.28100             0.916    0.1340   -14.311       0.0522  126.676   \n",
       "396   0.91600             0.798    0.2130    -4.732       0.0314  124.984   \n",
       "\n",
       "      time_signature  favorite  \n",
       "6799               3         0  \n",
       "6281               4         0  \n",
       "8831               4         0  \n",
       "7001               4         0  \n",
       "396                4         0  "
      ]
     },
     "execution_count": 9,
     "metadata": {},
     "output_type": "execute_result"
    }
   ],
   "source": [
    "train_set.head()"
   ]
  },
  {
   "cell_type": "code",
   "execution_count": 10,
   "metadata": {},
   "outputs": [
    {
     "data": {
      "text/html": [
       "<div>\n",
       "<style scoped>\n",
       "    .dataframe tbody tr th:only-of-type {\n",
       "        vertical-align: middle;\n",
       "    }\n",
       "\n",
       "    .dataframe tbody tr th {\n",
       "        vertical-align: top;\n",
       "    }\n",
       "\n",
       "    .dataframe thead th {\n",
       "        text-align: right;\n",
       "    }\n",
       "</style>\n",
       "<table border=\"1\" class=\"dataframe\">\n",
       "  <thead>\n",
       "    <tr style=\"text-align: right;\">\n",
       "      <th></th>\n",
       "      <th>length</th>\n",
       "      <th>popularity</th>\n",
       "      <th>danceability</th>\n",
       "      <th>acousticness</th>\n",
       "      <th>energy</th>\n",
       "      <th>instrumentalness</th>\n",
       "      <th>liveness</th>\n",
       "      <th>loudness</th>\n",
       "      <th>speechiness</th>\n",
       "      <th>tempo</th>\n",
       "      <th>time_signature</th>\n",
       "    </tr>\n",
       "  </thead>\n",
       "  <tbody>\n",
       "    <tr>\n",
       "      <th>6799</th>\n",
       "      <td>244533</td>\n",
       "      <td>30</td>\n",
       "      <td>0.469</td>\n",
       "      <td>0.989</td>\n",
       "      <td>0.00314</td>\n",
       "      <td>0.909</td>\n",
       "      <td>0.0920</td>\n",
       "      <td>-27.364</td>\n",
       "      <td>0.1390</td>\n",
       "      <td>72.146</td>\n",
       "      <td>3</td>\n",
       "    </tr>\n",
       "    <tr>\n",
       "      <th>6281</th>\n",
       "      <td>247933</td>\n",
       "      <td>19</td>\n",
       "      <td>0.477</td>\n",
       "      <td>0.603</td>\n",
       "      <td>0.40600</td>\n",
       "      <td>0.000</td>\n",
       "      <td>0.0491</td>\n",
       "      <td>-15.246</td>\n",
       "      <td>0.2070</td>\n",
       "      <td>90.005</td>\n",
       "      <td>4</td>\n",
       "    </tr>\n",
       "    <tr>\n",
       "      <th>8831</th>\n",
       "      <td>478546</td>\n",
       "      <td>18</td>\n",
       "      <td>0.292</td>\n",
       "      <td>0.978</td>\n",
       "      <td>0.11300</td>\n",
       "      <td>0.504</td>\n",
       "      <td>0.1080</td>\n",
       "      <td>-20.097</td>\n",
       "      <td>0.0392</td>\n",
       "      <td>112.857</td>\n",
       "      <td>4</td>\n",
       "    </tr>\n",
       "    <tr>\n",
       "      <th>7001</th>\n",
       "      <td>379135</td>\n",
       "      <td>0</td>\n",
       "      <td>0.411</td>\n",
       "      <td>0.989</td>\n",
       "      <td>0.28100</td>\n",
       "      <td>0.916</td>\n",
       "      <td>0.1340</td>\n",
       "      <td>-14.311</td>\n",
       "      <td>0.0522</td>\n",
       "      <td>126.676</td>\n",
       "      <td>4</td>\n",
       "    </tr>\n",
       "    <tr>\n",
       "      <th>396</th>\n",
       "      <td>174720</td>\n",
       "      <td>57</td>\n",
       "      <td>0.544</td>\n",
       "      <td>0.126</td>\n",
       "      <td>0.91600</td>\n",
       "      <td>0.798</td>\n",
       "      <td>0.2130</td>\n",
       "      <td>-4.732</td>\n",
       "      <td>0.0314</td>\n",
       "      <td>124.984</td>\n",
       "      <td>4</td>\n",
       "    </tr>\n",
       "  </tbody>\n",
       "</table>\n",
       "</div>"
      ],
      "text/plain": [
       "      length  popularity  danceability  acousticness   energy  \\\n",
       "6799  244533          30         0.469         0.989  0.00314   \n",
       "6281  247933          19         0.477         0.603  0.40600   \n",
       "8831  478546          18         0.292         0.978  0.11300   \n",
       "7001  379135           0         0.411         0.989  0.28100   \n",
       "396   174720          57         0.544         0.126  0.91600   \n",
       "\n",
       "      instrumentalness  liveness  loudness  speechiness    tempo  \\\n",
       "6799             0.909    0.0920   -27.364       0.1390   72.146   \n",
       "6281             0.000    0.0491   -15.246       0.2070   90.005   \n",
       "8831             0.504    0.1080   -20.097       0.0392  112.857   \n",
       "7001             0.916    0.1340   -14.311       0.0522  126.676   \n",
       "396              0.798    0.2130    -4.732       0.0314  124.984   \n",
       "\n",
       "      time_signature  \n",
       "6799               3  \n",
       "6281               4  \n",
       "8831               4  \n",
       "7001               4  \n",
       "396                4  "
      ]
     },
     "execution_count": 10,
     "metadata": {},
     "output_type": "execute_result"
    }
   ],
   "source": [
    "X = train_set.drop(columns=['favorite', 'track_id'])\n",
    "y = train_set.favorite\n",
    "\n",
    "X.head()"
   ]
  },
  {
   "cell_type": "code",
   "execution_count": 11,
   "metadata": {},
   "outputs": [
    {
     "data": {
      "text/plain": [
       "0    7106\n",
       "1      40\n",
       "Name: favorite, dtype: int64"
      ]
     },
     "execution_count": 11,
     "metadata": {},
     "output_type": "execute_result"
    }
   ],
   "source": [
    "# Checking for imbalance\n",
    "y.value_counts()"
   ]
  },
  {
   "cell_type": "markdown",
   "metadata": {},
   "source": [
    "Since the number of favorite songs is so little compared to non-favorite songs, I decided to oversample the favorite class to train a classificaiton model on. "
   ]
  },
  {
   "cell_type": "code",
   "execution_count": 12,
   "metadata": {},
   "outputs": [],
   "source": [
    "# Train / Split Data\n",
    "oversample = SMOTE()\n",
    "X_train, y_train = oversample.fit_resample(X, y) "
   ]
  },
  {
   "cell_type": "code",
   "execution_count": 13,
   "metadata": {},
   "outputs": [
    {
     "data": {
      "text/html": [
       "<div>\n",
       "<style scoped>\n",
       "    .dataframe tbody tr th:only-of-type {\n",
       "        vertical-align: middle;\n",
       "    }\n",
       "\n",
       "    .dataframe tbody tr th {\n",
       "        vertical-align: top;\n",
       "    }\n",
       "\n",
       "    .dataframe thead th {\n",
       "        text-align: right;\n",
       "    }\n",
       "</style>\n",
       "<table border=\"1\" class=\"dataframe\">\n",
       "  <thead>\n",
       "    <tr style=\"text-align: right;\">\n",
       "      <th></th>\n",
       "      <th>length</th>\n",
       "      <th>popularity</th>\n",
       "      <th>danceability</th>\n",
       "      <th>acousticness</th>\n",
       "      <th>energy</th>\n",
       "      <th>instrumentalness</th>\n",
       "      <th>liveness</th>\n",
       "      <th>loudness</th>\n",
       "      <th>speechiness</th>\n",
       "      <th>tempo</th>\n",
       "      <th>time_signature</th>\n",
       "    </tr>\n",
       "  </thead>\n",
       "  <tbody>\n",
       "    <tr>\n",
       "      <th>0</th>\n",
       "      <td>244533</td>\n",
       "      <td>30</td>\n",
       "      <td>0.469</td>\n",
       "      <td>0.989</td>\n",
       "      <td>0.00314</td>\n",
       "      <td>0.909</td>\n",
       "      <td>0.0920</td>\n",
       "      <td>-27.364</td>\n",
       "      <td>0.1390</td>\n",
       "      <td>72.146</td>\n",
       "      <td>3</td>\n",
       "    </tr>\n",
       "    <tr>\n",
       "      <th>1</th>\n",
       "      <td>247933</td>\n",
       "      <td>19</td>\n",
       "      <td>0.477</td>\n",
       "      <td>0.603</td>\n",
       "      <td>0.40600</td>\n",
       "      <td>0.000</td>\n",
       "      <td>0.0491</td>\n",
       "      <td>-15.246</td>\n",
       "      <td>0.2070</td>\n",
       "      <td>90.005</td>\n",
       "      <td>4</td>\n",
       "    </tr>\n",
       "    <tr>\n",
       "      <th>2</th>\n",
       "      <td>478546</td>\n",
       "      <td>18</td>\n",
       "      <td>0.292</td>\n",
       "      <td>0.978</td>\n",
       "      <td>0.11300</td>\n",
       "      <td>0.504</td>\n",
       "      <td>0.1080</td>\n",
       "      <td>-20.097</td>\n",
       "      <td>0.0392</td>\n",
       "      <td>112.857</td>\n",
       "      <td>4</td>\n",
       "    </tr>\n",
       "    <tr>\n",
       "      <th>3</th>\n",
       "      <td>379135</td>\n",
       "      <td>0</td>\n",
       "      <td>0.411</td>\n",
       "      <td>0.989</td>\n",
       "      <td>0.28100</td>\n",
       "      <td>0.916</td>\n",
       "      <td>0.1340</td>\n",
       "      <td>-14.311</td>\n",
       "      <td>0.0522</td>\n",
       "      <td>126.676</td>\n",
       "      <td>4</td>\n",
       "    </tr>\n",
       "    <tr>\n",
       "      <th>4</th>\n",
       "      <td>174720</td>\n",
       "      <td>57</td>\n",
       "      <td>0.544</td>\n",
       "      <td>0.126</td>\n",
       "      <td>0.91600</td>\n",
       "      <td>0.798</td>\n",
       "      <td>0.2130</td>\n",
       "      <td>-4.732</td>\n",
       "      <td>0.0314</td>\n",
       "      <td>124.984</td>\n",
       "      <td>4</td>\n",
       "    </tr>\n",
       "  </tbody>\n",
       "</table>\n",
       "</div>"
      ],
      "text/plain": [
       "   length  popularity  danceability  acousticness   energy  instrumentalness  \\\n",
       "0  244533          30         0.469         0.989  0.00314             0.909   \n",
       "1  247933          19         0.477         0.603  0.40600             0.000   \n",
       "2  478546          18         0.292         0.978  0.11300             0.504   \n",
       "3  379135           0         0.411         0.989  0.28100             0.916   \n",
       "4  174720          57         0.544         0.126  0.91600             0.798   \n",
       "\n",
       "   liveness  loudness  speechiness    tempo  time_signature  \n",
       "0    0.0920   -27.364       0.1390   72.146               3  \n",
       "1    0.0491   -15.246       0.2070   90.005               4  \n",
       "2    0.1080   -20.097       0.0392  112.857               4  \n",
       "3    0.1340   -14.311       0.0522  126.676               4  \n",
       "4    0.2130    -4.732       0.0314  124.984               4  "
      ]
     },
     "execution_count": 13,
     "metadata": {},
     "output_type": "execute_result"
    }
   ],
   "source": [
    "X_train.head()"
   ]
  },
  {
   "cell_type": "code",
   "execution_count": 14,
   "metadata": {},
   "outputs": [
    {
     "data": {
      "text/plain": [
       "0    7106\n",
       "1    7106\n",
       "Name: favorite, dtype: int64"
      ]
     },
     "execution_count": 14,
     "metadata": {},
     "output_type": "execute_result"
    }
   ],
   "source": [
    "# Checking if imbalance is gone\n",
    "y_train.value_counts()"
   ]
  },
  {
   "cell_type": "markdown",
   "metadata": {},
   "source": [
    "Now that the classes in the train set are balanced, the model will be less biased towards a song being a non-favorite and be more accurate on the test data and real life application."
   ]
  },
  {
   "cell_type": "code",
   "execution_count": 15,
   "metadata": {},
   "outputs": [
    {
     "data": {
      "text/html": [
       "<div>\n",
       "<style scoped>\n",
       "    .dataframe tbody tr th:only-of-type {\n",
       "        vertical-align: middle;\n",
       "    }\n",
       "\n",
       "    .dataframe tbody tr th {\n",
       "        vertical-align: top;\n",
       "    }\n",
       "\n",
       "    .dataframe thead th {\n",
       "        text-align: right;\n",
       "    }\n",
       "</style>\n",
       "<table border=\"1\" class=\"dataframe\">\n",
       "  <thead>\n",
       "    <tr style=\"text-align: right;\">\n",
       "      <th></th>\n",
       "      <th>track_id</th>\n",
       "      <th>length</th>\n",
       "      <th>popularity</th>\n",
       "      <th>danceability</th>\n",
       "      <th>acousticness</th>\n",
       "      <th>energy</th>\n",
       "      <th>instrumentalness</th>\n",
       "      <th>liveness</th>\n",
       "      <th>loudness</th>\n",
       "      <th>speechiness</th>\n",
       "      <th>tempo</th>\n",
       "      <th>time_signature</th>\n",
       "      <th>favorite</th>\n",
       "    </tr>\n",
       "  </thead>\n",
       "  <tbody>\n",
       "    <tr>\n",
       "      <th>7549</th>\n",
       "      <td>0djPEnudddxPWXqR1eFfUq</td>\n",
       "      <td>757333</td>\n",
       "      <td>28</td>\n",
       "      <td>0.1950</td>\n",
       "      <td>0.97800</td>\n",
       "      <td>0.2250</td>\n",
       "      <td>0.000403</td>\n",
       "      <td>0.1660</td>\n",
       "      <td>-14.132</td>\n",
       "      <td>0.0420</td>\n",
       "      <td>81.595</td>\n",
       "      <td>4</td>\n",
       "      <td>0</td>\n",
       "    </tr>\n",
       "    <tr>\n",
       "      <th>3327</th>\n",
       "      <td>4TCc369aRPRubv1m8R1TBG</td>\n",
       "      <td>178146</td>\n",
       "      <td>75</td>\n",
       "      <td>0.5120</td>\n",
       "      <td>0.62100</td>\n",
       "      <td>0.5800</td>\n",
       "      <td>0.000017</td>\n",
       "      <td>0.5130</td>\n",
       "      <td>-6.658</td>\n",
       "      <td>0.0290</td>\n",
       "      <td>159.847</td>\n",
       "      <td>3</td>\n",
       "      <td>0</td>\n",
       "    </tr>\n",
       "    <tr>\n",
       "      <th>6926</th>\n",
       "      <td>4XdzPrd5c4Gj9Hc4eZLhnS</td>\n",
       "      <td>230520</td>\n",
       "      <td>27</td>\n",
       "      <td>0.4430</td>\n",
       "      <td>0.24900</td>\n",
       "      <td>0.4220</td>\n",
       "      <td>0.042100</td>\n",
       "      <td>0.0683</td>\n",
       "      <td>-11.174</td>\n",
       "      <td>0.0300</td>\n",
       "      <td>138.961</td>\n",
       "      <td>4</td>\n",
       "      <td>0</td>\n",
       "    </tr>\n",
       "    <tr>\n",
       "      <th>2607</th>\n",
       "      <td>7IY2JF7AlVN5uvIUBVnSJd</td>\n",
       "      <td>247968</td>\n",
       "      <td>66</td>\n",
       "      <td>0.4420</td>\n",
       "      <td>0.00458</td>\n",
       "      <td>0.6890</td>\n",
       "      <td>0.000000</td>\n",
       "      <td>0.1100</td>\n",
       "      <td>-5.289</td>\n",
       "      <td>0.0251</td>\n",
       "      <td>89.001</td>\n",
       "      <td>3</td>\n",
       "      <td>0</td>\n",
       "    </tr>\n",
       "    <tr>\n",
       "      <th>7443</th>\n",
       "      <td>5rfq2lQI7eEn8tQoQWnVgS</td>\n",
       "      <td>361160</td>\n",
       "      <td>47</td>\n",
       "      <td>0.0757</td>\n",
       "      <td>0.78400</td>\n",
       "      <td>0.0435</td>\n",
       "      <td>0.860000</td>\n",
       "      <td>0.1090</td>\n",
       "      <td>-30.073</td>\n",
       "      <td>0.0518</td>\n",
       "      <td>67.100</td>\n",
       "      <td>3</td>\n",
       "      <td>0</td>\n",
       "    </tr>\n",
       "  </tbody>\n",
       "</table>\n",
       "</div>"
      ],
      "text/plain": [
       "                    track_id  length  popularity  danceability  acousticness  \\\n",
       "7549  0djPEnudddxPWXqR1eFfUq  757333          28        0.1950       0.97800   \n",
       "3327  4TCc369aRPRubv1m8R1TBG  178146          75        0.5120       0.62100   \n",
       "6926  4XdzPrd5c4Gj9Hc4eZLhnS  230520          27        0.4430       0.24900   \n",
       "2607  7IY2JF7AlVN5uvIUBVnSJd  247968          66        0.4420       0.00458   \n",
       "7443  5rfq2lQI7eEn8tQoQWnVgS  361160          47        0.0757       0.78400   \n",
       "\n",
       "      energy  instrumentalness  liveness  loudness  speechiness    tempo  \\\n",
       "7549  0.2250          0.000403    0.1660   -14.132       0.0420   81.595   \n",
       "3327  0.5800          0.000017    0.5130    -6.658       0.0290  159.847   \n",
       "6926  0.4220          0.042100    0.0683   -11.174       0.0300  138.961   \n",
       "2607  0.6890          0.000000    0.1100    -5.289       0.0251   89.001   \n",
       "7443  0.0435          0.860000    0.1090   -30.073       0.0518   67.100   \n",
       "\n",
       "      time_signature  favorite  \n",
       "7549               4         0  \n",
       "3327               3         0  \n",
       "6926               4         0  \n",
       "2607               3         0  \n",
       "7443               3         0  "
      ]
     },
     "execution_count": 15,
     "metadata": {},
     "output_type": "execute_result"
    }
   ],
   "source": [
    "test_set.head()"
   ]
  },
  {
   "cell_type": "code",
   "execution_count": 16,
   "metadata": {},
   "outputs": [],
   "source": [
    "# Setting test datasets\n",
    "X_test = test_set.drop(columns=['favorite', 'track_id'])\n",
    "y_test = test_set['favorite']"
   ]
  },
  {
   "cell_type": "code",
   "execution_count": 17,
   "metadata": {},
   "outputs": [
    {
     "data": {
      "text/html": [
       "<div>\n",
       "<style scoped>\n",
       "    .dataframe tbody tr th:only-of-type {\n",
       "        vertical-align: middle;\n",
       "    }\n",
       "\n",
       "    .dataframe tbody tr th {\n",
       "        vertical-align: top;\n",
       "    }\n",
       "\n",
       "    .dataframe thead th {\n",
       "        text-align: right;\n",
       "    }\n",
       "</style>\n",
       "<table border=\"1\" class=\"dataframe\">\n",
       "  <thead>\n",
       "    <tr style=\"text-align: right;\">\n",
       "      <th></th>\n",
       "      <th>length</th>\n",
       "      <th>popularity</th>\n",
       "      <th>danceability</th>\n",
       "      <th>acousticness</th>\n",
       "      <th>energy</th>\n",
       "      <th>instrumentalness</th>\n",
       "      <th>liveness</th>\n",
       "      <th>loudness</th>\n",
       "      <th>speechiness</th>\n",
       "      <th>tempo</th>\n",
       "      <th>time_signature</th>\n",
       "    </tr>\n",
       "  </thead>\n",
       "  <tbody>\n",
       "    <tr>\n",
       "      <th>7549</th>\n",
       "      <td>757333</td>\n",
       "      <td>28</td>\n",
       "      <td>0.1950</td>\n",
       "      <td>0.97800</td>\n",
       "      <td>0.2250</td>\n",
       "      <td>0.000403</td>\n",
       "      <td>0.1660</td>\n",
       "      <td>-14.132</td>\n",
       "      <td>0.0420</td>\n",
       "      <td>81.595</td>\n",
       "      <td>4</td>\n",
       "    </tr>\n",
       "    <tr>\n",
       "      <th>3327</th>\n",
       "      <td>178146</td>\n",
       "      <td>75</td>\n",
       "      <td>0.5120</td>\n",
       "      <td>0.62100</td>\n",
       "      <td>0.5800</td>\n",
       "      <td>0.000017</td>\n",
       "      <td>0.5130</td>\n",
       "      <td>-6.658</td>\n",
       "      <td>0.0290</td>\n",
       "      <td>159.847</td>\n",
       "      <td>3</td>\n",
       "    </tr>\n",
       "    <tr>\n",
       "      <th>6926</th>\n",
       "      <td>230520</td>\n",
       "      <td>27</td>\n",
       "      <td>0.4430</td>\n",
       "      <td>0.24900</td>\n",
       "      <td>0.4220</td>\n",
       "      <td>0.042100</td>\n",
       "      <td>0.0683</td>\n",
       "      <td>-11.174</td>\n",
       "      <td>0.0300</td>\n",
       "      <td>138.961</td>\n",
       "      <td>4</td>\n",
       "    </tr>\n",
       "    <tr>\n",
       "      <th>2607</th>\n",
       "      <td>247968</td>\n",
       "      <td>66</td>\n",
       "      <td>0.4420</td>\n",
       "      <td>0.00458</td>\n",
       "      <td>0.6890</td>\n",
       "      <td>0.000000</td>\n",
       "      <td>0.1100</td>\n",
       "      <td>-5.289</td>\n",
       "      <td>0.0251</td>\n",
       "      <td>89.001</td>\n",
       "      <td>3</td>\n",
       "    </tr>\n",
       "    <tr>\n",
       "      <th>7443</th>\n",
       "      <td>361160</td>\n",
       "      <td>47</td>\n",
       "      <td>0.0757</td>\n",
       "      <td>0.78400</td>\n",
       "      <td>0.0435</td>\n",
       "      <td>0.860000</td>\n",
       "      <td>0.1090</td>\n",
       "      <td>-30.073</td>\n",
       "      <td>0.0518</td>\n",
       "      <td>67.100</td>\n",
       "      <td>3</td>\n",
       "    </tr>\n",
       "  </tbody>\n",
       "</table>\n",
       "</div>"
      ],
      "text/plain": [
       "      length  popularity  danceability  acousticness  energy  \\\n",
       "7549  757333          28        0.1950       0.97800  0.2250   \n",
       "3327  178146          75        0.5120       0.62100  0.5800   \n",
       "6926  230520          27        0.4430       0.24900  0.4220   \n",
       "2607  247968          66        0.4420       0.00458  0.6890   \n",
       "7443  361160          47        0.0757       0.78400  0.0435   \n",
       "\n",
       "      instrumentalness  liveness  loudness  speechiness    tempo  \\\n",
       "7549          0.000403    0.1660   -14.132       0.0420   81.595   \n",
       "3327          0.000017    0.5130    -6.658       0.0290  159.847   \n",
       "6926          0.042100    0.0683   -11.174       0.0300  138.961   \n",
       "2607          0.000000    0.1100    -5.289       0.0251   89.001   \n",
       "7443          0.860000    0.1090   -30.073       0.0518   67.100   \n",
       "\n",
       "      time_signature  \n",
       "7549               4  \n",
       "3327               3  \n",
       "6926               4  \n",
       "2607               3  \n",
       "7443               3  "
      ]
     },
     "execution_count": 17,
     "metadata": {},
     "output_type": "execute_result"
    }
   ],
   "source": [
    "X_test.head()"
   ]
  },
  {
   "cell_type": "code",
   "execution_count": 18,
   "metadata": {},
   "outputs": [
    {
     "data": {
      "text/plain": [
       "0    1777\n",
       "1      10\n",
       "Name: favorite, dtype: int64"
      ]
     },
     "execution_count": 18,
     "metadata": {},
     "output_type": "execute_result"
    }
   ],
   "source": [
    "# Checking for imbalance in test set\n",
    "y_test.value_counts()"
   ]
  },
  {
   "cell_type": "markdown",
   "metadata": {},
   "source": [
    "## Testing models"
   ]
  },
  {
   "cell_type": "markdown",
   "metadata": {},
   "source": [
    "I am using logistic regression as a baseline to compare my other models to. I am using two other models: DecisionTreeClassifier and RandomForestClassifier. I am expecting these models to outperform logistic regression due to their sequential decision making."
   ]
  },
  {
   "cell_type": "code",
   "execution_count": 19,
   "metadata": {},
   "outputs": [
    {
     "name": "stdout",
     "output_type": "stream",
     "text": [
      "0.8115230948095326\n",
      "CPU times: total: 781 ms\n",
      "Wall time: 792 ms\n"
     ]
    }
   ],
   "source": [
    "%%time\n",
    "# Logistic Regression\n",
    "lr = LogisticRegression(solver='lbfgs', max_iter=400).fit(X_train, y_train)\n",
    "lr_scores = cross_val_score(lr, X_train, y_train, cv=10, scoring=\"f1\")\n",
    "print(np.mean(lr_scores))"
   ]
  },
  {
   "cell_type": "code",
   "execution_count": 20,
   "metadata": {},
   "outputs": [
    {
     "name": "stderr",
     "output_type": "stream",
     "text": [
      "c:\\Users\\Tedd\\AppData\\Local\\Programs\\Python\\Python310\\lib\\site-packages\\sklearn\\utils\\deprecation.py:87: FutureWarning: Function plot_confusion_matrix is deprecated; Function `plot_confusion_matrix` is deprecated in 1.0 and will be removed in 1.2. Use one of the class methods: ConfusionMatrixDisplay.from_predictions or ConfusionMatrixDisplay.from_estimator.\n",
      "  warnings.warn(msg, category=FutureWarning)\n"
     ]
    },
    {
     "data": {
      "text/plain": [
       "<sklearn.metrics._plot.confusion_matrix.ConfusionMatrixDisplay at 0x1fa0b8d1f30>"
      ]
     },
     "execution_count": 20,
     "metadata": {},
     "output_type": "execute_result"
    },
    {
     "data": {
      "image/png": "[encoded data removed]",
      "text/plain": [
       "<Figure size 432x288 with 2 Axes>"
      ]
     },
     "metadata": {
      "needs_background": "light"
     },
     "output_type": "display_data"
    }
   ],
   "source": [
    "# Logistic Regression confusion matrix\n",
    "lr_preds = lr.predict(X_train)\n",
    "plot_confusion_matrix(lr, X_train, y_train)"
   ]
  },
  {
   "cell_type": "code",
   "execution_count": 21,
   "metadata": {
    "tags": []
   },
   "outputs": [
    {
     "data": {
      "text/plain": [
       "{'max_depth': 30}"
      ]
     },
     "execution_count": 21,
     "metadata": {},
     "output_type": "execute_result"
    }
   ],
   "source": [
    "# Hyperparameter optimization for Decision Tree Classifier\n",
    "parameters = {\n",
    "    'max_depth':[3, 4, 5, 6, 10, 15,20,30],\n",
    "}\n",
    "dtc = Pipeline([('CV',GridSearchCV(DecisionTreeClassifier(), parameters, cv = 5))])\n",
    "dtc.fit(X_train, y_train)\n",
    "dtc.named_steps['CV'].best_params_"
   ]
  },
  {
   "cell_type": "code",
   "execution_count": 22,
   "metadata": {},
   "outputs": [
    {
     "name": "stdout",
     "output_type": "stream",
     "text": [
      "CPU times: total: 1.61 s\n",
      "Wall time: 1.61 s\n"
     ]
    },
    {
     "data": {
      "text/plain": [
       "0.9908208157920313"
      ]
     },
     "execution_count": 22,
     "metadata": {},
     "output_type": "execute_result"
    }
   ],
   "source": [
    "%%time\n",
    "# Decision Tree Classifier\n",
    "dt = DecisionTreeClassifier(max_depth=30).fit(X_train, y_train)\n",
    "dt_scores = cross_val_score(dt, X_train, y_train, cv=10, scoring=\"f1\")\n",
    "np.mean(dt_scores)"
   ]
  },
  {
   "cell_type": "code",
   "execution_count": 23,
   "metadata": {},
   "outputs": [
    {
     "name": "stderr",
     "output_type": "stream",
     "text": [
      "c:\\Users\\Tedd\\AppData\\Local\\Programs\\Python\\Python310\\lib\\site-packages\\sklearn\\utils\\deprecation.py:87: FutureWarning: Function plot_confusion_matrix is deprecated; Function `plot_confusion_matrix` is deprecated in 1.0 and will be removed in 1.2. Use one of the class methods: ConfusionMatrixDisplay.from_predictions or ConfusionMatrixDisplay.from_estimator.\n",
      "  warnings.warn(msg, category=FutureWarning)\n"
     ]
    },
    {
     "data": {
      "text/plain": [
       "<sklearn.metrics._plot.confusion_matrix.ConfusionMatrixDisplay at 0x1fa0b737100>"
      ]
     },
     "execution_count": 23,
     "metadata": {},
     "output_type": "execute_result"
    },
    {
     "data": {
      "image/png": "[encoded data removed]",
      "text/plain": [
       "<Figure size 432x288 with 2 Axes>"
      ]
     },
     "metadata": {
      "needs_background": "light"
     },
     "output_type": "display_data"
    }
   ],
   "source": [
    "# Decision Tree Classifier confusion matrix\n",
    "plot_confusion_matrix(dt, X_train, y_train)"
   ]
  },
  {
   "cell_type": "code",
   "execution_count": 24,
   "metadata": {},
   "outputs": [
    {
     "name": "stdout",
     "output_type": "stream",
     "text": [
      "CPU times: total: 23.8 s\n",
      "Wall time: 23.9 s\n"
     ]
    },
    {
     "data": {
      "text/plain": [
       "{'max_depth': 20, 'n_estimators': 20}"
      ]
     },
     "execution_count": 24,
     "metadata": {},
     "output_type": "execute_result"
    }
   ],
   "source": [
    "%%time\n",
    "# Hyperparameter optimization of RandomForestClassifier\n",
    "parameters = {\n",
    "    'max_depth':[3, 6,12,15,20],\n",
    "    'n_estimators':[10, 20,30]\n",
    "}\n",
    "clf = Pipeline([('CV',GridSearchCV(RandomForestClassifier(), parameters, cv = 5))])\n",
    "clf.fit(X_train, y_train)\n",
    "clf.named_steps['CV'].best_params_"
   ]
  },
  {
   "cell_type": "code",
   "execution_count": 25,
   "metadata": {},
   "outputs": [
    {
     "name": "stdout",
     "output_type": "stream",
     "text": [
      "CPU times: total: 2.58 s\n",
      "Wall time: 2.58 s\n"
     ]
    },
    {
     "data": {
      "text/plain": [
       "0.9954442762908144"
      ]
     },
     "execution_count": 25,
     "metadata": {},
     "output_type": "execute_result"
    }
   ],
   "source": [
    "%%time\n",
    "# RandomForestClassifier\n",
    "rf = Pipeline([('rf', RandomForestClassifier(n_estimators = 10, max_depth = 20).fit(X_train, y_train))])\n",
    "rf_scores = cross_val_score(rf, X_train, y_train, cv=10, scoring=\"f1\")\n",
    "np.mean(rf_scores)"
   ]
  },
  {
   "cell_type": "code",
   "execution_count": 26,
   "metadata": {},
   "outputs": [
    {
     "name": "stderr",
     "output_type": "stream",
     "text": [
      "c:\\Users\\Tedd\\AppData\\Local\\Programs\\Python\\Python310\\lib\\site-packages\\sklearn\\utils\\deprecation.py:87: FutureWarning: Function plot_confusion_matrix is deprecated; Function `plot_confusion_matrix` is deprecated in 1.0 and will be removed in 1.2. Use one of the class methods: ConfusionMatrixDisplay.from_predictions or ConfusionMatrixDisplay.from_estimator.\n",
      "  warnings.warn(msg, category=FutureWarning)\n"
     ]
    },
    {
     "data": {
      "text/plain": [
       "<sklearn.metrics._plot.confusion_matrix.ConfusionMatrixDisplay at 0x1fa0dc8efb0>"
      ]
     },
     "execution_count": 26,
     "metadata": {},
     "output_type": "execute_result"
    },
    {
     "data": {
      "image/png": "[encoded data removed]",
      "text/plain": [
       "<Figure size 432x288 with 2 Axes>"
      ]
     },
     "metadata": {
      "needs_background": "light"
     },
     "output_type": "display_data"
    }
   ],
   "source": [
    "plot_confusion_matrix(rf, X_train, y_train)"
   ]
  },
  {
   "cell_type": "markdown",
   "metadata": {},
   "source": [
    "Although the RandomForestClassifier had the highest accuracy, the confusion matrix showed the DecisionTreeClassifier truly had the higher accuracy because it has less false positives and negatives.\n",
    "\n",
    "Therefore, I will be using the DecisionTreeClassifier as my recommendation algorithm."
   ]
  },
  {
   "cell_type": "markdown",
   "metadata": {},
   "source": [
    "### Using algorithm on test data"
   ]
  },
  {
   "cell_type": "code",
   "execution_count": 27,
   "metadata": {},
   "outputs": [
    {
     "data": {
      "text/plain": [
       "0    1777\n",
       "1      10\n",
       "Name: favorite, dtype: int64"
      ]
     },
     "execution_count": 27,
     "metadata": {},
     "output_type": "execute_result"
    }
   ],
   "source": [
    "# Checking for imbalance\n",
    "y_test.value_counts()"
   ]
  },
  {
   "cell_type": "code",
   "execution_count": 28,
   "metadata": {},
   "outputs": [
    {
     "data": {
      "text/plain": [
       "0.9809736989367656"
      ]
     },
     "execution_count": 28,
     "metadata": {},
     "output_type": "execute_result"
    }
   ],
   "source": [
    "# Building a pipeline to use on regular data\n",
    "from sklearn.pipeline import make_pipeline\n",
    "from sklearn.preprocessing import StandardScaler\n",
    "\n",
    "pipe = make_pipeline(StandardScaler(), DecisionTreeClassifier(max_depth=30))\n",
    "pipe.fit(X_train, y_train)  # apply scaling on training data\n",
    "Pipeline(steps=[('standardscaler', StandardScaler()),\n",
    "                ('dt', DecisionTreeClassifier(max_depth=30))])\n",
    "\n",
    "pipe.score(X_test, y_test)"
   ]
  },
  {
   "cell_type": "code",
   "execution_count": 29,
   "metadata": {},
   "outputs": [
    {
     "name": "stderr",
     "output_type": "stream",
     "text": [
      "c:\\Users\\Tedd\\AppData\\Local\\Programs\\Python\\Python310\\lib\\site-packages\\sklearn\\utils\\deprecation.py:87: FutureWarning: Function plot_confusion_matrix is deprecated; Function `plot_confusion_matrix` is deprecated in 1.0 and will be removed in 1.2. Use one of the class methods: ConfusionMatrixDisplay.from_predictions or ConfusionMatrixDisplay.from_estimator.\n",
      "  warnings.warn(msg, category=FutureWarning)\n"
     ]
    },
    {
     "data": {
      "text/plain": [
       "<sklearn.metrics._plot.confusion_matrix.ConfusionMatrixDisplay at 0x1fa0fe54fd0>"
      ]
     },
     "execution_count": 29,
     "metadata": {},
     "output_type": "execute_result"
    },
    {
     "data": {
      "image/png": "[encoded data removed]",
      "text/plain": [
       "<Figure size 432x288 with 2 Axes>"
      ]
     },
     "metadata": {
      "needs_background": "light"
     },
     "output_type": "display_data"
    }
   ],
   "source": [
    "plot_confusion_matrix(dt, X_test, y_test)"
   ]
  },
  {
   "cell_type": "markdown",
   "metadata": {},
   "source": [
    "After running evaluating the algorithm on test data, it shows there were seventeen false positives and negatives combined. It was able to correctly recommend 6 songs, but mislabeled 24 songs as future favorites; however, this might be a good thing. The algorithm only recommended 6 songs, but for the purpose of this project, I would like for there to be atleast 15 songs in the playlist. These false positives can mitigate the issue of not enough songs."
   ]
  },
  {
   "cell_type": "markdown",
   "metadata": {},
   "source": [
    "## Predicting songs and saving to dataset"
   ]
  },
  {
   "cell_type": "code",
   "execution_count": 30,
   "metadata": {},
   "outputs": [],
   "source": [
    "# Reloading the original dataframe to test the model on\n",
    "df = pd.read_csv('data/encoded_playlist_songs.csv')"
   ]
  },
  {
   "cell_type": "code",
   "execution_count": 31,
   "metadata": {},
   "outputs": [
    {
     "data": {
      "text/html": [
       "<div>\n",
       "<style scoped>\n",
       "    .dataframe tbody tr th:only-of-type {\n",
       "        vertical-align: middle;\n",
       "    }\n",
       "\n",
       "    .dataframe tbody tr th {\n",
       "        vertical-align: top;\n",
       "    }\n",
       "\n",
       "    .dataframe thead th {\n",
       "        text-align: right;\n",
       "    }\n",
       "</style>\n",
       "<table border=\"1\" class=\"dataframe\">\n",
       "  <thead>\n",
       "    <tr style=\"text-align: right;\">\n",
       "      <th></th>\n",
       "      <th>track_id</th>\n",
       "      <th>length</th>\n",
       "      <th>popularity</th>\n",
       "      <th>danceability</th>\n",
       "      <th>acousticness</th>\n",
       "      <th>energy</th>\n",
       "      <th>instrumentalness</th>\n",
       "      <th>liveness</th>\n",
       "      <th>loudness</th>\n",
       "      <th>speechiness</th>\n",
       "      <th>tempo</th>\n",
       "      <th>time_signature</th>\n",
       "      <th>favorite</th>\n",
       "    </tr>\n",
       "  </thead>\n",
       "  <tbody>\n",
       "    <tr>\n",
       "      <th>0</th>\n",
       "      <td>7MAibcTli4IisCtbHKrGMh</td>\n",
       "      <td>242096</td>\n",
       "      <td>90</td>\n",
       "      <td>0.586</td>\n",
       "      <td>0.1820</td>\n",
       "      <td>0.616</td>\n",
       "      <td>0.000000</td>\n",
       "      <td>0.0927</td>\n",
       "      <td>-7.964</td>\n",
       "      <td>0.0324</td>\n",
       "      <td>148.088</td>\n",
       "      <td>4</td>\n",
       "      <td>0</td>\n",
       "    </tr>\n",
       "    <tr>\n",
       "      <th>1</th>\n",
       "      <td>5QO79kh1waicV47BqGRL3g</td>\n",
       "      <td>215626</td>\n",
       "      <td>97</td>\n",
       "      <td>0.680</td>\n",
       "      <td>0.0212</td>\n",
       "      <td>0.826</td>\n",
       "      <td>0.000012</td>\n",
       "      <td>0.5430</td>\n",
       "      <td>-5.487</td>\n",
       "      <td>0.0309</td>\n",
       "      <td>118.051</td>\n",
       "      <td>4</td>\n",
       "      <td>0</td>\n",
       "    </tr>\n",
       "    <tr>\n",
       "      <th>2</th>\n",
       "      <td>1diS6nkxMQc3wwC4G1j0bh</td>\n",
       "      <td>165506</td>\n",
       "      <td>88</td>\n",
       "      <td>0.722</td>\n",
       "      <td>0.0319</td>\n",
       "      <td>0.588</td>\n",
       "      <td>0.000000</td>\n",
       "      <td>0.1830</td>\n",
       "      <td>-5.932</td>\n",
       "      <td>0.0544</td>\n",
       "      <td>134.010</td>\n",
       "      <td>4</td>\n",
       "      <td>0</td>\n",
       "    </tr>\n",
       "    <tr>\n",
       "      <th>3</th>\n",
       "      <td>4u4NyuceXP7Uzh7XFJKCr1</td>\n",
       "      <td>170813</td>\n",
       "      <td>89</td>\n",
       "      <td>0.658</td>\n",
       "      <td>0.0106</td>\n",
       "      <td>0.634</td>\n",
       "      <td>0.000000</td>\n",
       "      <td>0.1320</td>\n",
       "      <td>-5.797</td>\n",
       "      <td>0.0413</td>\n",
       "      <td>139.980</td>\n",
       "      <td>4</td>\n",
       "      <td>0</td>\n",
       "    </tr>\n",
       "    <tr>\n",
       "      <th>4</th>\n",
       "      <td>3Ofmpyhv5UAQ70mENzB277</td>\n",
       "      <td>132780</td>\n",
       "      <td>94</td>\n",
       "      <td>0.778</td>\n",
       "      <td>0.1750</td>\n",
       "      <td>0.695</td>\n",
       "      <td>0.000000</td>\n",
       "      <td>0.1500</td>\n",
       "      <td>-6.865</td>\n",
       "      <td>0.0913</td>\n",
       "      <td>149.996</td>\n",
       "      <td>4</td>\n",
       "      <td>0</td>\n",
       "    </tr>\n",
       "  </tbody>\n",
       "</table>\n",
       "</div>"
      ],
      "text/plain": [
       "                 track_id  length  popularity  danceability  acousticness  \\\n",
       "0  7MAibcTli4IisCtbHKrGMh  242096          90         0.586        0.1820   \n",
       "1  5QO79kh1waicV47BqGRL3g  215626          97         0.680        0.0212   \n",
       "2  1diS6nkxMQc3wwC4G1j0bh  165506          88         0.722        0.0319   \n",
       "3  4u4NyuceXP7Uzh7XFJKCr1  170813          89         0.658        0.0106   \n",
       "4  3Ofmpyhv5UAQ70mENzB277  132780          94         0.778        0.1750   \n",
       "\n",
       "   energy  instrumentalness  liveness  loudness  speechiness    tempo  \\\n",
       "0   0.616          0.000000    0.0927    -7.964       0.0324  148.088   \n",
       "1   0.826          0.000012    0.5430    -5.487       0.0309  118.051   \n",
       "2   0.588          0.000000    0.1830    -5.932       0.0544  134.010   \n",
       "3   0.634          0.000000    0.1320    -5.797       0.0413  139.980   \n",
       "4   0.695          0.000000    0.1500    -6.865       0.0913  149.996   \n",
       "\n",
       "   time_signature  favorite  \n",
       "0               4         0  \n",
       "1               4         0  \n",
       "2               4         0  \n",
       "3               4         0  \n",
       "4               4         0  "
      ]
     },
     "execution_count": 31,
     "metadata": {},
     "output_type": "execute_result"
    }
   ],
   "source": [
    "df.head()"
   ]
  },
  {
   "cell_type": "markdown",
   "metadata": {},
   "source": [
    "Since the model has a very niche idea of what a favorite song is based on the favorites dataset, it is necessary to accept songs that might not be absolute favorites. This is done by using a threshold and sklearn's proba function.\n",
    "\n",
    "I've defined the threshold as 0.3 to get approximately 20 song recommendations from nearly 10,000 songs to choose from. You can play with this value if you'd like more or less songs in the recommendation playlist."
   ]
  },
  {
   "cell_type": "code",
   "execution_count": 32,
   "metadata": {},
   "outputs": [],
   "source": [
    "# Predicting if a song is a favorite\n",
    "prob_preds = pipe.predict_proba(df.drop(['favorite','track_id'], axis=1))\n",
    "threshold = 0.30 # define threshold here\n",
    "preds = [1 if prob_preds[i][1]> threshold else 0 for i in range(len(prob_preds))]\n",
    "df['prediction'] = preds"
   ]
  },
  {
   "cell_type": "code",
   "execution_count": 33,
   "metadata": {},
   "outputs": [
    {
     "data": {
      "text/plain": [
       "0    8845\n",
       "1      38\n",
       "Name: prediction, dtype: int64"
      ]
     },
     "execution_count": 33,
     "metadata": {},
     "output_type": "execute_result"
    }
   ],
   "source": [
    "df['prediction'].value_counts()"
   ]
  },
  {
   "cell_type": "markdown",
   "metadata": {},
   "source": [
    "## Building the playlist from recommended songs"
   ]
  },
  {
   "cell_type": "code",
   "execution_count": 34,
   "metadata": {},
   "outputs": [],
   "source": [
    "import spotipy\n",
    "import spotipy.util as util\n",
    "from spotipy.oauth2 import SpotifyClientCredentials\n",
    "from spotipy import oauth2"
   ]
  },
  {
   "cell_type": "code",
   "execution_count": 39,
   "metadata": {},
   "outputs": [],
   "source": [
    "# Insert your Spotify username and the credentials that you obtained from spotify developer\n",
    "cid = 'e5164fbe5751433e874d5fd5b59efc3b'\n",
    "secret = 'bde09ec2fbe044f689e9b64db6dcf24a'\n",
    "redirect_uri='http://localhost:8888/callback'\n",
    "username = 'c3drys7oy7f88tijr6fs0eg0i'"
   ]
  },
  {
   "cell_type": "code",
   "execution_count": 40,
   "metadata": {},
   "outputs": [],
   "source": [
    "# Once the Authorisation is complete, we just need to `sp` to call the APIs\n",
    "scope = 'user-top-read playlist-modify-private playlist-modify-public'\n",
    "token = util.prompt_for_user_token(username, scope, client_id=cid, client_secret=secret, redirect_uri=redirect_uri)\n",
    "\n",
    "if token:\n",
    "    sp = spotipy.Spotify(auth=token)\n",
    "else:\n",
    "    print(\"Can't get token for\", username)"
   ]
  },
  {
   "cell_type": "code",
   "execution_count": 41,
   "metadata": {},
   "outputs": [],
   "source": [
    "# Creating a function that builds a playlist in the user's spotify account\n",
    "def create_playlist(sp, username, playlist_name, playlist_description):\n",
    "    playlists = sp.user_playlist_create(username, playlist_name, description = playlist_description)"
   ]
  },
  {
   "cell_type": "code",
   "execution_count": 42,
   "metadata": {},
   "outputs": [],
   "source": [
    "create_playlist(sp, username, 'Your New Jams', 'This playlist was created using python!')"
   ]
  },
  {
   "cell_type": "code",
   "execution_count": 43,
   "metadata": {},
   "outputs": [],
   "source": [
    "# Function to check if the playlist was created successfully\n",
    "def fetch_playlists(sp, username):\n",
    "    \"\"\"\n",
    "    Returns the user's playlists.\n",
    "    \"\"\"\n",
    "        \n",
    "    id = []\n",
    "    name = []\n",
    "    num_tracks = []\n",
    "    \n",
    "    # Make the API request\n",
    "    playlists = sp.user_playlists(username)\n",
    "    for playlist in playlists['items']:\n",
    "        id.append(playlist['id'])\n",
    "        name.append(playlist['name'])\n",
    "        num_tracks.append(playlist['tracks']['total'])\n",
    "\n",
    "    # Create the final df   \n",
    "    df_playlists = pd.DataFrame({\"id\":id, \"name\": name, \"#tracks\": num_tracks})\n",
    "    return df_playlists"
   ]
  },
  {
   "cell_type": "code",
   "execution_count": 44,
   "metadata": {},
   "outputs": [
    {
     "data": {
      "text/html": [
       "<div>\n",
       "<style scoped>\n",
       "    .dataframe tbody tr th:only-of-type {\n",
       "        vertical-align: middle;\n",
       "    }\n",
       "\n",
       "    .dataframe tbody tr th {\n",
       "        vertical-align: top;\n",
       "    }\n",
       "\n",
       "    .dataframe thead th {\n",
       "        text-align: right;\n",
       "    }\n",
       "</style>\n",
       "<table border=\"1\" class=\"dataframe\">\n",
       "  <thead>\n",
       "    <tr style=\"text-align: right;\">\n",
       "      <th></th>\n",
       "      <th>id</th>\n",
       "      <th>name</th>\n",
       "      <th>#tracks</th>\n",
       "    </tr>\n",
       "  </thead>\n",
       "  <tbody>\n",
       "    <tr>\n",
       "      <th>0</th>\n",
       "      <td>6qI3tAoB1cCRsGfnAUWGqH</td>\n",
       "      <td>Your New Jams</td>\n",
       "      <td>0</td>\n",
       "    </tr>\n",
       "    <tr>\n",
       "      <th>1</th>\n",
       "      <td>3EFDuAyB3UQIzpQbfBKGtE</td>\n",
       "      <td>Hindara⛈️</td>\n",
       "      <td>9</td>\n",
       "    </tr>\n",
       "    <tr>\n",
       "      <th>2</th>\n",
       "      <td>6eKrdsUOc9BeFBMEDX6jq1</td>\n",
       "      <td>SleepON💤</td>\n",
       "      <td>7</td>\n",
       "    </tr>\n",
       "    <tr>\n",
       "      <th>3</th>\n",
       "      <td>3QuIkERxt32kHDKh8F2bIf</td>\n",
       "      <td>CurrFavz🍁</td>\n",
       "      <td>27</td>\n",
       "    </tr>\n",
       "    <tr>\n",
       "      <th>4</th>\n",
       "      <td>37i9dQZF1DX1uHCeFHcn8X</td>\n",
       "      <td>Soft 10s</td>\n",
       "      <td>250</td>\n",
       "    </tr>\n",
       "  </tbody>\n",
       "</table>\n",
       "</div>"
      ],
      "text/plain": [
       "                       id           name  #tracks\n",
       "0  6qI3tAoB1cCRsGfnAUWGqH  Your New Jams        0\n",
       "1  3EFDuAyB3UQIzpQbfBKGtE      Hindara⛈️        9\n",
       "2  6eKrdsUOc9BeFBMEDX6jq1       SleepON💤        7\n",
       "3  3QuIkERxt32kHDKh8F2bIf      CurrFavz🍁       27\n",
       "4  37i9dQZF1DX1uHCeFHcn8X       Soft 10s      250"
      ]
     },
     "execution_count": 44,
     "metadata": {},
     "output_type": "execute_result"
    }
   ],
   "source": [
    "fetch_playlists(sp,username).head()"
   ]
  },
  {
   "cell_type": "code",
   "execution_count": 45,
   "metadata": {},
   "outputs": [],
   "source": [
    "# Getting the playlist ID of the most recently made playlist so we can add songs to it later\n",
    "playlist_id = fetch_playlists(sp,username)['id'][0]"
   ]
  },
  {
   "cell_type": "code",
   "execution_count": 46,
   "metadata": {},
   "outputs": [],
   "source": [
    "# Function to add selected songs to playlist\n",
    "def enrich_playlist(sp, username, playlist_id, playlist_tracks):\n",
    "    index = 0\n",
    "    results = []\n",
    "    \n",
    "    while index < len(playlist_tracks):\n",
    "        results += sp.user_playlist_add_tracks(username, playlist_id, tracks = playlist_tracks[index:index + 50])\n",
    "        index += 50"
   ]
  },
  {
   "cell_type": "code",
   "execution_count": 47,
   "metadata": {},
   "outputs": [],
   "source": [
    "# Adding songs to playlist\n",
    "list_track = df.loc[df['prediction']  == 1]['track_id']\n",
    "enrich_playlist(sp, username, playlist_id, list_track)"
   ]
  },
  {
   "cell_type": "markdown",
   "metadata": {},
   "source": [
    "Now check your Spotify playlists; you'll see a playlist titled 'Your New Jams'. Enjoy!"
   ]
  }
 ],
 "metadata": {
  "interpreter": {
   "hash": "b64e5434eb6f78b23ded7093c27034844fda971e57a0689a97b233b8e8d5583b"
  },
  "kernelspec": {
   "display_name": "Python 3.10.2 64-bit",
   "language": "python",
   "name": "python3"
  },
  "language_info": {
   "codemirror_mode": {
    "name": "ipython",
    "version": 3
   },
   "file_extension": ".py",
   "mimetype": "text/x-python",
   "name": "python",
   "nbconvert_exporter": "python",
   "pygments_lexer": "ipython3",
   "version": "3.10.2"
  },
  "orig_nbformat": 2
 },
 "nbformat": 4,
 "nbformat_minor": 2
}
