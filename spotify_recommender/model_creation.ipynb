{
 "cells": [
  {
   "cell_type": "code",
   "execution_count": 47,
   "metadata": {},
   "outputs": [],
   "source": [
    "# Importing the necessary libraries\n",
    "import pandas as pd\n",
    "import numpy as np\n",
    "import seaborn as sns\n",
    "import matplotlib.pyplot as plt\n",
    "import matplotlib.ticker as plticker\n",
    "from imblearn.over_sampling import SMOTE\n",
    "%matplotlib inline"
   ]
  },
  {
   "cell_type": "code",
   "execution_count": 48,
   "metadata": {},
   "outputs": [],
   "source": [
    "# Importing playlist dataframes\n",
    "df = pd.read_csv('data/encoded_playlist_songs.csv')\n",
    "df_fav = pd.read_csv('data/favorite_songs.csv')"
   ]
  },
  {
   "cell_type": "markdown",
   "metadata": {},
   "source": [
    "### Preparing data for model"
   ]
  },
  {
   "cell_type": "code",
   "execution_count": 49,
   "metadata": {},
   "outputs": [
    {
     "data": {
      "text/plain": [
       "(8933, 13)"
      ]
     },
     "execution_count": 49,
     "metadata": {},
     "output_type": "execute_result"
    }
   ],
   "source": [
    "# Remove song name, artist, album\n",
    "df = pd.concat([df, df_fav], axis=0)\n",
    "df.shape"
   ]
  },
  {
   "cell_type": "code",
   "execution_count": 51,
   "metadata": {},
   "outputs": [
    {
     "data": {
      "text/html": [
       "<div>\n",
       "<style scoped>\n",
       "    .dataframe tbody tr th:only-of-type {\n",
       "        vertical-align: middle;\n",
       "    }\n",
       "\n",
       "    .dataframe tbody tr th {\n",
       "        vertical-align: top;\n",
       "    }\n",
       "\n",
       "    .dataframe thead th {\n",
       "        text-align: right;\n",
       "    }\n",
       "</style>\n",
       "<table border=\"1\" class=\"dataframe\">\n",
       "  <thead>\n",
       "    <tr style=\"text-align: right;\">\n",
       "      <th></th>\n",
       "      <th>track_id</th>\n",
       "      <th>length</th>\n",
       "      <th>popularity</th>\n",
       "      <th>danceability</th>\n",
       "      <th>acousticness</th>\n",
       "      <th>energy</th>\n",
       "      <th>instrumentalness</th>\n",
       "      <th>liveness</th>\n",
       "      <th>loudness</th>\n",
       "      <th>speechiness</th>\n",
       "      <th>tempo</th>\n",
       "      <th>time_signature</th>\n",
       "      <th>favorite</th>\n",
       "    </tr>\n",
       "  </thead>\n",
       "  <tbody>\n",
       "    <tr>\n",
       "      <th>0</th>\n",
       "      <td>1CzjJzPOCLkZr2oqiOrXjc</td>\n",
       "      <td>114773</td>\n",
       "      <td>39</td>\n",
       "      <td>0.790</td>\n",
       "      <td>0.0495</td>\n",
       "      <td>0.547</td>\n",
       "      <td>0.0</td>\n",
       "      <td>0.114</td>\n",
       "      <td>-9.974</td>\n",
       "      <td>0.1080</td>\n",
       "      <td>135.037</td>\n",
       "      <td>4</td>\n",
       "      <td>1</td>\n",
       "    </tr>\n",
       "    <tr>\n",
       "      <th>1</th>\n",
       "      <td>23slkWAmlcxi3XcSwC9RLZ</td>\n",
       "      <td>122813</td>\n",
       "      <td>46</td>\n",
       "      <td>0.706</td>\n",
       "      <td>0.0263</td>\n",
       "      <td>0.268</td>\n",
       "      <td>0.0</td>\n",
       "      <td>0.239</td>\n",
       "      <td>-13.220</td>\n",
       "      <td>0.2870</td>\n",
       "      <td>130.048</td>\n",
       "      <td>4</td>\n",
       "      <td>1</td>\n",
       "    </tr>\n",
       "    <tr>\n",
       "      <th>2</th>\n",
       "      <td>6GNG0YQixWuLE0M5FtrRxY</td>\n",
       "      <td>141582</td>\n",
       "      <td>62</td>\n",
       "      <td>0.472</td>\n",
       "      <td>0.0757</td>\n",
       "      <td>0.847</td>\n",
       "      <td>0.0</td>\n",
       "      <td>0.300</td>\n",
       "      <td>-6.347</td>\n",
       "      <td>0.0419</td>\n",
       "      <td>150.164</td>\n",
       "      <td>4</td>\n",
       "      <td>1</td>\n",
       "    </tr>\n",
       "    <tr>\n",
       "      <th>3</th>\n",
       "      <td>0TqNfrOY2IrpFRI2zxsMq4</td>\n",
       "      <td>107467</td>\n",
       "      <td>37</td>\n",
       "      <td>0.878</td>\n",
       "      <td>0.1230</td>\n",
       "      <td>0.584</td>\n",
       "      <td>0.0</td>\n",
       "      <td>0.105</td>\n",
       "      <td>-10.014</td>\n",
       "      <td>0.4190</td>\n",
       "      <td>125.069</td>\n",
       "      <td>4</td>\n",
       "      <td>1</td>\n",
       "    </tr>\n",
       "    <tr>\n",
       "      <th>4</th>\n",
       "      <td>1djb4ACCvrs7MPnKwA9w9I</td>\n",
       "      <td>208274</td>\n",
       "      <td>38</td>\n",
       "      <td>0.916</td>\n",
       "      <td>0.4040</td>\n",
       "      <td>0.382</td>\n",
       "      <td>0.0</td>\n",
       "      <td>0.379</td>\n",
       "      <td>-12.460</td>\n",
       "      <td>0.3680</td>\n",
       "      <td>129.985</td>\n",
       "      <td>4</td>\n",
       "      <td>1</td>\n",
       "    </tr>\n",
       "  </tbody>\n",
       "</table>\n",
       "</div>"
      ],
      "text/plain": [
       "                 track_id  length  popularity  danceability  acousticness  \\\n",
       "0  1CzjJzPOCLkZr2oqiOrXjc  114773          39         0.790        0.0495   \n",
       "1  23slkWAmlcxi3XcSwC9RLZ  122813          46         0.706        0.0263   \n",
       "2  6GNG0YQixWuLE0M5FtrRxY  141582          62         0.472        0.0757   \n",
       "3  0TqNfrOY2IrpFRI2zxsMq4  107467          37         0.878        0.1230   \n",
       "4  1djb4ACCvrs7MPnKwA9w9I  208274          38         0.916        0.4040   \n",
       "\n",
       "   energy  instrumentalness  liveness  loudness  speechiness    tempo  \\\n",
       "0   0.547               0.0     0.114    -9.974       0.1080  135.037   \n",
       "1   0.268               0.0     0.239   -13.220       0.2870  130.048   \n",
       "2   0.847               0.0     0.300    -6.347       0.0419  150.164   \n",
       "3   0.584               0.0     0.105   -10.014       0.4190  125.069   \n",
       "4   0.382               0.0     0.379   -12.460       0.3680  129.985   \n",
       "\n",
       "   time_signature  favorite  \n",
       "0               4         1  \n",
       "1               4         1  \n",
       "2               4         1  \n",
       "3               4         1  \n",
       "4               4         1  "
      ]
     },
     "execution_count": 51,
     "metadata": {},
     "output_type": "execute_result"
    }
   ],
   "source": [
    "df_fav.head()"
   ]
  },
  {
   "cell_type": "code",
   "execution_count": 52,
   "metadata": {},
   "outputs": [
    {
     "data": {
      "text/html": [
       "<div>\n",
       "<style scoped>\n",
       "    .dataframe tbody tr th:only-of-type {\n",
       "        vertical-align: middle;\n",
       "    }\n",
       "\n",
       "    .dataframe tbody tr th {\n",
       "        vertical-align: top;\n",
       "    }\n",
       "\n",
       "    .dataframe thead th {\n",
       "        text-align: right;\n",
       "    }\n",
       "</style>\n",
       "<table border=\"1\" class=\"dataframe\">\n",
       "  <thead>\n",
       "    <tr style=\"text-align: right;\">\n",
       "      <th></th>\n",
       "      <th>track_id</th>\n",
       "      <th>length</th>\n",
       "      <th>popularity</th>\n",
       "      <th>danceability</th>\n",
       "      <th>acousticness</th>\n",
       "      <th>energy</th>\n",
       "      <th>instrumentalness</th>\n",
       "      <th>liveness</th>\n",
       "      <th>loudness</th>\n",
       "      <th>speechiness</th>\n",
       "      <th>tempo</th>\n",
       "      <th>time_signature</th>\n",
       "      <th>favorite</th>\n",
       "    </tr>\n",
       "  </thead>\n",
       "  <tbody>\n",
       "    <tr>\n",
       "      <th>0</th>\n",
       "      <td>7MAibcTli4IisCtbHKrGMh</td>\n",
       "      <td>242096</td>\n",
       "      <td>90</td>\n",
       "      <td>0.586</td>\n",
       "      <td>0.1820</td>\n",
       "      <td>0.616</td>\n",
       "      <td>0.000000</td>\n",
       "      <td>0.0927</td>\n",
       "      <td>-7.964</td>\n",
       "      <td>0.0324</td>\n",
       "      <td>148.088</td>\n",
       "      <td>4</td>\n",
       "      <td>0</td>\n",
       "    </tr>\n",
       "    <tr>\n",
       "      <th>1</th>\n",
       "      <td>5QO79kh1waicV47BqGRL3g</td>\n",
       "      <td>215626</td>\n",
       "      <td>97</td>\n",
       "      <td>0.680</td>\n",
       "      <td>0.0212</td>\n",
       "      <td>0.826</td>\n",
       "      <td>0.000012</td>\n",
       "      <td>0.5430</td>\n",
       "      <td>-5.487</td>\n",
       "      <td>0.0309</td>\n",
       "      <td>118.051</td>\n",
       "      <td>4</td>\n",
       "      <td>0</td>\n",
       "    </tr>\n",
       "    <tr>\n",
       "      <th>2</th>\n",
       "      <td>1diS6nkxMQc3wwC4G1j0bh</td>\n",
       "      <td>165506</td>\n",
       "      <td>88</td>\n",
       "      <td>0.722</td>\n",
       "      <td>0.0319</td>\n",
       "      <td>0.588</td>\n",
       "      <td>0.000000</td>\n",
       "      <td>0.1830</td>\n",
       "      <td>-5.932</td>\n",
       "      <td>0.0544</td>\n",
       "      <td>134.010</td>\n",
       "      <td>4</td>\n",
       "      <td>0</td>\n",
       "    </tr>\n",
       "    <tr>\n",
       "      <th>3</th>\n",
       "      <td>4u4NyuceXP7Uzh7XFJKCr1</td>\n",
       "      <td>170813</td>\n",
       "      <td>89</td>\n",
       "      <td>0.658</td>\n",
       "      <td>0.0106</td>\n",
       "      <td>0.634</td>\n",
       "      <td>0.000000</td>\n",
       "      <td>0.1320</td>\n",
       "      <td>-5.797</td>\n",
       "      <td>0.0413</td>\n",
       "      <td>139.980</td>\n",
       "      <td>4</td>\n",
       "      <td>0</td>\n",
       "    </tr>\n",
       "    <tr>\n",
       "      <th>4</th>\n",
       "      <td>3Ofmpyhv5UAQ70mENzB277</td>\n",
       "      <td>132780</td>\n",
       "      <td>94</td>\n",
       "      <td>0.778</td>\n",
       "      <td>0.1750</td>\n",
       "      <td>0.695</td>\n",
       "      <td>0.000000</td>\n",
       "      <td>0.1500</td>\n",
       "      <td>-6.865</td>\n",
       "      <td>0.0913</td>\n",
       "      <td>149.996</td>\n",
       "      <td>4</td>\n",
       "      <td>0</td>\n",
       "    </tr>\n",
       "  </tbody>\n",
       "</table>\n",
       "</div>"
      ],
      "text/plain": [
       "                 track_id  length  popularity  danceability  acousticness  \\\n",
       "0  7MAibcTli4IisCtbHKrGMh  242096          90         0.586        0.1820   \n",
       "1  5QO79kh1waicV47BqGRL3g  215626          97         0.680        0.0212   \n",
       "2  1diS6nkxMQc3wwC4G1j0bh  165506          88         0.722        0.0319   \n",
       "3  4u4NyuceXP7Uzh7XFJKCr1  170813          89         0.658        0.0106   \n",
       "4  3Ofmpyhv5UAQ70mENzB277  132780          94         0.778        0.1750   \n",
       "\n",
       "   energy  instrumentalness  liveness  loudness  speechiness    tempo  \\\n",
       "0   0.616          0.000000    0.0927    -7.964       0.0324  148.088   \n",
       "1   0.826          0.000012    0.5430    -5.487       0.0309  118.051   \n",
       "2   0.588          0.000000    0.1830    -5.932       0.0544  134.010   \n",
       "3   0.634          0.000000    0.1320    -5.797       0.0413  139.980   \n",
       "4   0.695          0.000000    0.1500    -6.865       0.0913  149.996   \n",
       "\n",
       "   time_signature  favorite  \n",
       "0               4         0  \n",
       "1               4         0  \n",
       "2               4         0  \n",
       "3               4         0  \n",
       "4               4         0  "
      ]
     },
     "execution_count": 52,
     "metadata": {},
     "output_type": "execute_result"
    }
   ],
   "source": [
    "df.head()"
   ]
  },
  {
   "cell_type": "code",
   "execution_count": 53,
   "metadata": {},
   "outputs": [
    {
     "data": {
      "text/plain": [
       "0    8883\n",
       "1      50\n",
       "Name: favorite, dtype: int64"
      ]
     },
     "execution_count": 53,
     "metadata": {},
     "output_type": "execute_result"
    }
   ],
   "source": [
    "df['favorite'].value_counts()"
   ]
  },
  {
   "cell_type": "markdown",
   "metadata": {},
   "source": [
    "# Data Prep Contd, Model Selection & Hyperparameter Tuning"
   ]
  },
  {
   "cell_type": "code",
   "execution_count": 54,
   "metadata": {},
   "outputs": [],
   "source": [
    "# Importing required libraries\n",
    "import sklearn\n",
    "from sklearn.pipeline import Pipeline\n",
    "from sklearn.model_selection import cross_val_score\n",
    "from sklearn.model_selection import train_test_split\n",
    "from sklearn.model_selection import GridSearchCV\n",
    "from sklearn.metrics import plot_confusion_matrix\n",
    "from sklearn import metrics \n",
    "from sklearn.metrics import f1_score\n",
    "# Models\n",
    "from sklearn.ensemble import RandomForestClassifier\n",
    "from sklearn.linear_model import LogisticRegression \n",
    "from sklearn.tree import DecisionTreeClassifier"
   ]
  },
  {
   "cell_type": "markdown",
   "metadata": {},
   "source": [
    "## Creating train & test sets"
   ]
  },
  {
   "cell_type": "code",
   "execution_count": 55,
   "metadata": {},
   "outputs": [],
   "source": [
    "# Shuffle your dataset \n",
    "shuffle_df = df.sample(frac=1)\n",
    "\n",
    "# Define a size for your train set \n",
    "train_size = int(0.8 * len(df))\n",
    "\n",
    "# Split dataset \n",
    "train_set = shuffle_df[:train_size]\n",
    "test_set = shuffle_df[train_size:]"
   ]
  },
  {
   "cell_type": "code",
   "execution_count": 56,
   "metadata": {},
   "outputs": [
    {
     "data": {
      "text/html": [
       "<div>\n",
       "<style scoped>\n",
       "    .dataframe tbody tr th:only-of-type {\n",
       "        vertical-align: middle;\n",
       "    }\n",
       "\n",
       "    .dataframe tbody tr th {\n",
       "        vertical-align: top;\n",
       "    }\n",
       "\n",
       "    .dataframe thead th {\n",
       "        text-align: right;\n",
       "    }\n",
       "</style>\n",
       "<table border=\"1\" class=\"dataframe\">\n",
       "  <thead>\n",
       "    <tr style=\"text-align: right;\">\n",
       "      <th></th>\n",
       "      <th>track_id</th>\n",
       "      <th>length</th>\n",
       "      <th>popularity</th>\n",
       "      <th>danceability</th>\n",
       "      <th>acousticness</th>\n",
       "      <th>energy</th>\n",
       "      <th>instrumentalness</th>\n",
       "      <th>liveness</th>\n",
       "      <th>loudness</th>\n",
       "      <th>speechiness</th>\n",
       "      <th>tempo</th>\n",
       "      <th>time_signature</th>\n",
       "      <th>favorite</th>\n",
       "    </tr>\n",
       "  </thead>\n",
       "  <tbody>\n",
       "    <tr>\n",
       "      <th>6464</th>\n",
       "      <td>0YxLutsTRZMJ1tHwFQiOeK</td>\n",
       "      <td>330920</td>\n",
       "      <td>8</td>\n",
       "      <td>0.217</td>\n",
       "      <td>0.97400</td>\n",
       "      <td>0.0261</td>\n",
       "      <td>0.000222</td>\n",
       "      <td>0.1040</td>\n",
       "      <td>-28.782</td>\n",
       "      <td>0.0559</td>\n",
       "      <td>79.523</td>\n",
       "      <td>3</td>\n",
       "      <td>0</td>\n",
       "    </tr>\n",
       "    <tr>\n",
       "      <th>6288</th>\n",
       "      <td>5vUMdmEaauy6qSc1ovtZ30</td>\n",
       "      <td>588750</td>\n",
       "      <td>39</td>\n",
       "      <td>0.663</td>\n",
       "      <td>0.08040</td>\n",
       "      <td>0.6650</td>\n",
       "      <td>0.543000</td>\n",
       "      <td>0.1570</td>\n",
       "      <td>-10.737</td>\n",
       "      <td>0.0353</td>\n",
       "      <td>128.004</td>\n",
       "      <td>4</td>\n",
       "      <td>0</td>\n",
       "    </tr>\n",
       "    <tr>\n",
       "      <th>5237</th>\n",
       "      <td>7zBFSexzY0VEmmeBmrq3R9</td>\n",
       "      <td>165234</td>\n",
       "      <td>54</td>\n",
       "      <td>0.680</td>\n",
       "      <td>0.00177</td>\n",
       "      <td>0.9610</td>\n",
       "      <td>0.064600</td>\n",
       "      <td>0.5690</td>\n",
       "      <td>-5.653</td>\n",
       "      <td>0.0423</td>\n",
       "      <td>127.971</td>\n",
       "      <td>4</td>\n",
       "      <td>0</td>\n",
       "    </tr>\n",
       "    <tr>\n",
       "      <th>3534</th>\n",
       "      <td>5BBb0jXjJywKvkN4noKLq5</td>\n",
       "      <td>140106</td>\n",
       "      <td>0</td>\n",
       "      <td>0.801</td>\n",
       "      <td>0.70000</td>\n",
       "      <td>0.6180</td>\n",
       "      <td>0.000000</td>\n",
       "      <td>0.0735</td>\n",
       "      <td>-7.573</td>\n",
       "      <td>0.0520</td>\n",
       "      <td>108.678</td>\n",
       "      <td>4</td>\n",
       "      <td>0</td>\n",
       "    </tr>\n",
       "    <tr>\n",
       "      <th>5193</th>\n",
       "      <td>75ZMW4hqyXQ2TgF6pL1Giz</td>\n",
       "      <td>484645</td>\n",
       "      <td>48</td>\n",
       "      <td>0.681</td>\n",
       "      <td>0.00809</td>\n",
       "      <td>0.8390</td>\n",
       "      <td>0.932000</td>\n",
       "      <td>0.0992</td>\n",
       "      <td>-12.527</td>\n",
       "      <td>0.0387</td>\n",
       "      <td>123.993</td>\n",
       "      <td>4</td>\n",
       "      <td>0</td>\n",
       "    </tr>\n",
       "  </tbody>\n",
       "</table>\n",
       "</div>"
      ],
      "text/plain": [
       "                    track_id  length  popularity  danceability  acousticness  \\\n",
       "6464  0YxLutsTRZMJ1tHwFQiOeK  330920           8         0.217       0.97400   \n",
       "6288  5vUMdmEaauy6qSc1ovtZ30  588750          39         0.663       0.08040   \n",
       "5237  7zBFSexzY0VEmmeBmrq3R9  165234          54         0.680       0.00177   \n",
       "3534  5BBb0jXjJywKvkN4noKLq5  140106           0         0.801       0.70000   \n",
       "5193  75ZMW4hqyXQ2TgF6pL1Giz  484645          48         0.681       0.00809   \n",
       "\n",
       "      energy  instrumentalness  liveness  loudness  speechiness    tempo  \\\n",
       "6464  0.0261          0.000222    0.1040   -28.782       0.0559   79.523   \n",
       "6288  0.6650          0.543000    0.1570   -10.737       0.0353  128.004   \n",
       "5237  0.9610          0.064600    0.5690    -5.653       0.0423  127.971   \n",
       "3534  0.6180          0.000000    0.0735    -7.573       0.0520  108.678   \n",
       "5193  0.8390          0.932000    0.0992   -12.527       0.0387  123.993   \n",
       "\n",
       "      time_signature  favorite  \n",
       "6464               3         0  \n",
       "6288               4         0  \n",
       "5237               4         0  \n",
       "3534               4         0  \n",
       "5193               4         0  "
      ]
     },
     "execution_count": 56,
     "metadata": {},
     "output_type": "execute_result"
    }
   ],
   "source": [
    "train_set.head()"
   ]
  },
  {
   "cell_type": "code",
   "execution_count": 57,
   "metadata": {},
   "outputs": [
    {
     "data": {
      "text/html": [
       "<div>\n",
       "<style scoped>\n",
       "    .dataframe tbody tr th:only-of-type {\n",
       "        vertical-align: middle;\n",
       "    }\n",
       "\n",
       "    .dataframe tbody tr th {\n",
       "        vertical-align: top;\n",
       "    }\n",
       "\n",
       "    .dataframe thead th {\n",
       "        text-align: right;\n",
       "    }\n",
       "</style>\n",
       "<table border=\"1\" class=\"dataframe\">\n",
       "  <thead>\n",
       "    <tr style=\"text-align: right;\">\n",
       "      <th></th>\n",
       "      <th>length</th>\n",
       "      <th>popularity</th>\n",
       "      <th>danceability</th>\n",
       "      <th>acousticness</th>\n",
       "      <th>energy</th>\n",
       "      <th>instrumentalness</th>\n",
       "      <th>liveness</th>\n",
       "      <th>loudness</th>\n",
       "      <th>speechiness</th>\n",
       "      <th>tempo</th>\n",
       "      <th>time_signature</th>\n",
       "    </tr>\n",
       "  </thead>\n",
       "  <tbody>\n",
       "    <tr>\n",
       "      <th>6464</th>\n",
       "      <td>330920</td>\n",
       "      <td>8</td>\n",
       "      <td>0.217</td>\n",
       "      <td>0.97400</td>\n",
       "      <td>0.0261</td>\n",
       "      <td>0.000222</td>\n",
       "      <td>0.1040</td>\n",
       "      <td>-28.782</td>\n",
       "      <td>0.0559</td>\n",
       "      <td>79.523</td>\n",
       "      <td>3</td>\n",
       "    </tr>\n",
       "    <tr>\n",
       "      <th>6288</th>\n",
       "      <td>588750</td>\n",
       "      <td>39</td>\n",
       "      <td>0.663</td>\n",
       "      <td>0.08040</td>\n",
       "      <td>0.6650</td>\n",
       "      <td>0.543000</td>\n",
       "      <td>0.1570</td>\n",
       "      <td>-10.737</td>\n",
       "      <td>0.0353</td>\n",
       "      <td>128.004</td>\n",
       "      <td>4</td>\n",
       "    </tr>\n",
       "    <tr>\n",
       "      <th>5237</th>\n",
       "      <td>165234</td>\n",
       "      <td>54</td>\n",
       "      <td>0.680</td>\n",
       "      <td>0.00177</td>\n",
       "      <td>0.9610</td>\n",
       "      <td>0.064600</td>\n",
       "      <td>0.5690</td>\n",
       "      <td>-5.653</td>\n",
       "      <td>0.0423</td>\n",
       "      <td>127.971</td>\n",
       "      <td>4</td>\n",
       "    </tr>\n",
       "    <tr>\n",
       "      <th>3534</th>\n",
       "      <td>140106</td>\n",
       "      <td>0</td>\n",
       "      <td>0.801</td>\n",
       "      <td>0.70000</td>\n",
       "      <td>0.6180</td>\n",
       "      <td>0.000000</td>\n",
       "      <td>0.0735</td>\n",
       "      <td>-7.573</td>\n",
       "      <td>0.0520</td>\n",
       "      <td>108.678</td>\n",
       "      <td>4</td>\n",
       "    </tr>\n",
       "    <tr>\n",
       "      <th>5193</th>\n",
       "      <td>484645</td>\n",
       "      <td>48</td>\n",
       "      <td>0.681</td>\n",
       "      <td>0.00809</td>\n",
       "      <td>0.8390</td>\n",
       "      <td>0.932000</td>\n",
       "      <td>0.0992</td>\n",
       "      <td>-12.527</td>\n",
       "      <td>0.0387</td>\n",
       "      <td>123.993</td>\n",
       "      <td>4</td>\n",
       "    </tr>\n",
       "  </tbody>\n",
       "</table>\n",
       "</div>"
      ],
      "text/plain": [
       "      length  popularity  danceability  acousticness  energy  \\\n",
       "6464  330920           8         0.217       0.97400  0.0261   \n",
       "6288  588750          39         0.663       0.08040  0.6650   \n",
       "5237  165234          54         0.680       0.00177  0.9610   \n",
       "3534  140106           0         0.801       0.70000  0.6180   \n",
       "5193  484645          48         0.681       0.00809  0.8390   \n",
       "\n",
       "      instrumentalness  liveness  loudness  speechiness    tempo  \\\n",
       "6464          0.000222    0.1040   -28.782       0.0559   79.523   \n",
       "6288          0.543000    0.1570   -10.737       0.0353  128.004   \n",
       "5237          0.064600    0.5690    -5.653       0.0423  127.971   \n",
       "3534          0.000000    0.0735    -7.573       0.0520  108.678   \n",
       "5193          0.932000    0.0992   -12.527       0.0387  123.993   \n",
       "\n",
       "      time_signature  \n",
       "6464               3  \n",
       "6288               4  \n",
       "5237               4  \n",
       "3534               4  \n",
       "5193               4  "
      ]
     },
     "execution_count": 57,
     "metadata": {},
     "output_type": "execute_result"
    }
   ],
   "source": [
    "X = train_set.drop(columns=['favorite', 'track_id'])\n",
    "y = train_set.favorite\n",
    "\n",
    "X.head()"
   ]
  },
  {
   "cell_type": "code",
   "execution_count": 58,
   "metadata": {},
   "outputs": [
    {
     "data": {
      "text/plain": [
       "0    7108\n",
       "1      38\n",
       "Name: favorite, dtype: int64"
      ]
     },
     "execution_count": 58,
     "metadata": {},
     "output_type": "execute_result"
    }
   ],
   "source": [
    "# Checking for imbalance\n",
    "y.value_counts()"
   ]
  },
  {
   "cell_type": "markdown",
   "metadata": {},
   "source": [
    "Since the number of favorite songs is so little compared to non-favorite songs, I decided to oversample the favorite class to train a classificaiton model on. "
   ]
  },
  {
   "cell_type": "code",
   "execution_count": 59,
   "metadata": {},
   "outputs": [],
   "source": [
    "# Train / Split Data\n",
    "oversample = SMOTE()\n",
    "X_train, y_train = oversample.fit_resample(X, y) "
   ]
  },
  {
   "cell_type": "code",
   "execution_count": 60,
   "metadata": {},
   "outputs": [
    {
     "data": {
      "text/html": [
       "<div>\n",
       "<style scoped>\n",
       "    .dataframe tbody tr th:only-of-type {\n",
       "        vertical-align: middle;\n",
       "    }\n",
       "\n",
       "    .dataframe tbody tr th {\n",
       "        vertical-align: top;\n",
       "    }\n",
       "\n",
       "    .dataframe thead th {\n",
       "        text-align: right;\n",
       "    }\n",
       "</style>\n",
       "<table border=\"1\" class=\"dataframe\">\n",
       "  <thead>\n",
       "    <tr style=\"text-align: right;\">\n",
       "      <th></th>\n",
       "      <th>length</th>\n",
       "      <th>popularity</th>\n",
       "      <th>danceability</th>\n",
       "      <th>acousticness</th>\n",
       "      <th>energy</th>\n",
       "      <th>instrumentalness</th>\n",
       "      <th>liveness</th>\n",
       "      <th>loudness</th>\n",
       "      <th>speechiness</th>\n",
       "      <th>tempo</th>\n",
       "      <th>time_signature</th>\n",
       "    </tr>\n",
       "  </thead>\n",
       "  <tbody>\n",
       "    <tr>\n",
       "      <th>0</th>\n",
       "      <td>330920</td>\n",
       "      <td>8</td>\n",
       "      <td>0.217</td>\n",
       "      <td>0.97400</td>\n",
       "      <td>0.0261</td>\n",
       "      <td>0.000222</td>\n",
       "      <td>0.1040</td>\n",
       "      <td>-28.782</td>\n",
       "      <td>0.0559</td>\n",
       "      <td>79.523</td>\n",
       "      <td>3</td>\n",
       "    </tr>\n",
       "    <tr>\n",
       "      <th>1</th>\n",
       "      <td>588750</td>\n",
       "      <td>39</td>\n",
       "      <td>0.663</td>\n",
       "      <td>0.08040</td>\n",
       "      <td>0.6650</td>\n",
       "      <td>0.543000</td>\n",
       "      <td>0.1570</td>\n",
       "      <td>-10.737</td>\n",
       "      <td>0.0353</td>\n",
       "      <td>128.004</td>\n",
       "      <td>4</td>\n",
       "    </tr>\n",
       "    <tr>\n",
       "      <th>2</th>\n",
       "      <td>165234</td>\n",
       "      <td>54</td>\n",
       "      <td>0.680</td>\n",
       "      <td>0.00177</td>\n",
       "      <td>0.9610</td>\n",
       "      <td>0.064600</td>\n",
       "      <td>0.5690</td>\n",
       "      <td>-5.653</td>\n",
       "      <td>0.0423</td>\n",
       "      <td>127.971</td>\n",
       "      <td>4</td>\n",
       "    </tr>\n",
       "    <tr>\n",
       "      <th>3</th>\n",
       "      <td>140106</td>\n",
       "      <td>0</td>\n",
       "      <td>0.801</td>\n",
       "      <td>0.70000</td>\n",
       "      <td>0.6180</td>\n",
       "      <td>0.000000</td>\n",
       "      <td>0.0735</td>\n",
       "      <td>-7.573</td>\n",
       "      <td>0.0520</td>\n",
       "      <td>108.678</td>\n",
       "      <td>4</td>\n",
       "    </tr>\n",
       "    <tr>\n",
       "      <th>4</th>\n",
       "      <td>484645</td>\n",
       "      <td>48</td>\n",
       "      <td>0.681</td>\n",
       "      <td>0.00809</td>\n",
       "      <td>0.8390</td>\n",
       "      <td>0.932000</td>\n",
       "      <td>0.0992</td>\n",
       "      <td>-12.527</td>\n",
       "      <td>0.0387</td>\n",
       "      <td>123.993</td>\n",
       "      <td>4</td>\n",
       "    </tr>\n",
       "  </tbody>\n",
       "</table>\n",
       "</div>"
      ],
      "text/plain": [
       "   length  popularity  danceability  acousticness  energy  instrumentalness  \\\n",
       "0  330920           8         0.217       0.97400  0.0261          0.000222   \n",
       "1  588750          39         0.663       0.08040  0.6650          0.543000   \n",
       "2  165234          54         0.680       0.00177  0.9610          0.064600   \n",
       "3  140106           0         0.801       0.70000  0.6180          0.000000   \n",
       "4  484645          48         0.681       0.00809  0.8390          0.932000   \n",
       "\n",
       "   liveness  loudness  speechiness    tempo  time_signature  \n",
       "0    0.1040   -28.782       0.0559   79.523               3  \n",
       "1    0.1570   -10.737       0.0353  128.004               4  \n",
       "2    0.5690    -5.653       0.0423  127.971               4  \n",
       "3    0.0735    -7.573       0.0520  108.678               4  \n",
       "4    0.0992   -12.527       0.0387  123.993               4  "
      ]
     },
     "execution_count": 60,
     "metadata": {},
     "output_type": "execute_result"
    }
   ],
   "source": [
    "X_train.head()"
   ]
  },
  {
   "cell_type": "code",
   "execution_count": 61,
   "metadata": {},
   "outputs": [
    {
     "data": {
      "text/plain": [
       "0    7108\n",
       "1    7108\n",
       "Name: favorite, dtype: int64"
      ]
     },
     "execution_count": 61,
     "metadata": {},
     "output_type": "execute_result"
    }
   ],
   "source": [
    "# Checking if imbalance is gone\n",
    "y_train.value_counts()"
   ]
  },
  {
   "cell_type": "markdown",
   "metadata": {},
   "source": [
    "Now that the classes in the train set are balanced, the model will be less biased towards a song being a non-favorite and be more accurate on the test data and real life application."
   ]
  },
  {
   "cell_type": "code",
   "execution_count": 62,
   "metadata": {},
   "outputs": [
    {
     "data": {
      "text/html": [
       "<div>\n",
       "<style scoped>\n",
       "    .dataframe tbody tr th:only-of-type {\n",
       "        vertical-align: middle;\n",
       "    }\n",
       "\n",
       "    .dataframe tbody tr th {\n",
       "        vertical-align: top;\n",
       "    }\n",
       "\n",
       "    .dataframe thead th {\n",
       "        text-align: right;\n",
       "    }\n",
       "</style>\n",
       "<table border=\"1\" class=\"dataframe\">\n",
       "  <thead>\n",
       "    <tr style=\"text-align: right;\">\n",
       "      <th></th>\n",
       "      <th>track_id</th>\n",
       "      <th>length</th>\n",
       "      <th>popularity</th>\n",
       "      <th>danceability</th>\n",
       "      <th>acousticness</th>\n",
       "      <th>energy</th>\n",
       "      <th>instrumentalness</th>\n",
       "      <th>liveness</th>\n",
       "      <th>loudness</th>\n",
       "      <th>speechiness</th>\n",
       "      <th>tempo</th>\n",
       "      <th>time_signature</th>\n",
       "      <th>favorite</th>\n",
       "    </tr>\n",
       "  </thead>\n",
       "  <tbody>\n",
       "    <tr>\n",
       "      <th>578</th>\n",
       "      <td>3Ti0GdlrotgwsAVBBugv0I</td>\n",
       "      <td>251573</td>\n",
       "      <td>71</td>\n",
       "      <td>0.848</td>\n",
       "      <td>0.17300</td>\n",
       "      <td>0.6660</td>\n",
       "      <td>0.000699</td>\n",
       "      <td>0.1290</td>\n",
       "      <td>-6.547</td>\n",
       "      <td>0.2740</td>\n",
       "      <td>96.662</td>\n",
       "      <td>4</td>\n",
       "      <td>0</td>\n",
       "    </tr>\n",
       "    <tr>\n",
       "      <th>6784</th>\n",
       "      <td>6WIBfonmEpRgXQiaJNXctQ</td>\n",
       "      <td>290026</td>\n",
       "      <td>21</td>\n",
       "      <td>0.307</td>\n",
       "      <td>0.96200</td>\n",
       "      <td>0.1620</td>\n",
       "      <td>0.000025</td>\n",
       "      <td>0.4750</td>\n",
       "      <td>-20.539</td>\n",
       "      <td>0.0527</td>\n",
       "      <td>74.097</td>\n",
       "      <td>3</td>\n",
       "      <td>0</td>\n",
       "    </tr>\n",
       "    <tr>\n",
       "      <th>7009</th>\n",
       "      <td>2lJWbOdU6gwvmuqXzPjyVv</td>\n",
       "      <td>499133</td>\n",
       "      <td>26</td>\n",
       "      <td>0.222</td>\n",
       "      <td>0.95400</td>\n",
       "      <td>0.1310</td>\n",
       "      <td>0.723000</td>\n",
       "      <td>0.3570</td>\n",
       "      <td>-19.635</td>\n",
       "      <td>0.0435</td>\n",
       "      <td>78.447</td>\n",
       "      <td>4</td>\n",
       "      <td>0</td>\n",
       "    </tr>\n",
       "    <tr>\n",
       "      <th>2103</th>\n",
       "      <td>1VvVsess8LyFN0LJjMtvNy</td>\n",
       "      <td>110853</td>\n",
       "      <td>0</td>\n",
       "      <td>0.582</td>\n",
       "      <td>0.00242</td>\n",
       "      <td>0.8650</td>\n",
       "      <td>0.000270</td>\n",
       "      <td>0.2730</td>\n",
       "      <td>-5.240</td>\n",
       "      <td>0.0286</td>\n",
       "      <td>90.062</td>\n",
       "      <td>4</td>\n",
       "      <td>0</td>\n",
       "    </tr>\n",
       "    <tr>\n",
       "      <th>6436</th>\n",
       "      <td>1lTePek6Xkel3k4Sjli6GB</td>\n",
       "      <td>210800</td>\n",
       "      <td>34</td>\n",
       "      <td>0.270</td>\n",
       "      <td>0.98400</td>\n",
       "      <td>0.0189</td>\n",
       "      <td>0.004150</td>\n",
       "      <td>0.0883</td>\n",
       "      <td>-29.784</td>\n",
       "      <td>0.0489</td>\n",
       "      <td>127.935</td>\n",
       "      <td>4</td>\n",
       "      <td>0</td>\n",
       "    </tr>\n",
       "  </tbody>\n",
       "</table>\n",
       "</div>"
      ],
      "text/plain": [
       "                    track_id  length  popularity  danceability  acousticness  \\\n",
       "578   3Ti0GdlrotgwsAVBBugv0I  251573          71         0.848       0.17300   \n",
       "6784  6WIBfonmEpRgXQiaJNXctQ  290026          21         0.307       0.96200   \n",
       "7009  2lJWbOdU6gwvmuqXzPjyVv  499133          26         0.222       0.95400   \n",
       "2103  1VvVsess8LyFN0LJjMtvNy  110853           0         0.582       0.00242   \n",
       "6436  1lTePek6Xkel3k4Sjli6GB  210800          34         0.270       0.98400   \n",
       "\n",
       "      energy  instrumentalness  liveness  loudness  speechiness    tempo  \\\n",
       "578   0.6660          0.000699    0.1290    -6.547       0.2740   96.662   \n",
       "6784  0.1620          0.000025    0.4750   -20.539       0.0527   74.097   \n",
       "7009  0.1310          0.723000    0.3570   -19.635       0.0435   78.447   \n",
       "2103  0.8650          0.000270    0.2730    -5.240       0.0286   90.062   \n",
       "6436  0.0189          0.004150    0.0883   -29.784       0.0489  127.935   \n",
       "\n",
       "      time_signature  favorite  \n",
       "578                4         0  \n",
       "6784               3         0  \n",
       "7009               4         0  \n",
       "2103               4         0  \n",
       "6436               4         0  "
      ]
     },
     "execution_count": 62,
     "metadata": {},
     "output_type": "execute_result"
    }
   ],
   "source": [
    "test_set.head()"
   ]
  },
  {
   "cell_type": "code",
   "execution_count": 63,
   "metadata": {},
   "outputs": [],
   "source": [
    "# Setting test datasets\n",
    "X_test = test_set.drop(columns=['favorite', 'track_id'])\n",
    "y_test = test_set['favorite']"
   ]
  },
  {
   "cell_type": "code",
   "execution_count": 64,
   "metadata": {},
   "outputs": [
    {
     "data": {
      "text/html": [
       "<div>\n",
       "<style scoped>\n",
       "    .dataframe tbody tr th:only-of-type {\n",
       "        vertical-align: middle;\n",
       "    }\n",
       "\n",
       "    .dataframe tbody tr th {\n",
       "        vertical-align: top;\n",
       "    }\n",
       "\n",
       "    .dataframe thead th {\n",
       "        text-align: right;\n",
       "    }\n",
       "</style>\n",
       "<table border=\"1\" class=\"dataframe\">\n",
       "  <thead>\n",
       "    <tr style=\"text-align: right;\">\n",
       "      <th></th>\n",
       "      <th>length</th>\n",
       "      <th>popularity</th>\n",
       "      <th>danceability</th>\n",
       "      <th>acousticness</th>\n",
       "      <th>energy</th>\n",
       "      <th>instrumentalness</th>\n",
       "      <th>liveness</th>\n",
       "      <th>loudness</th>\n",
       "      <th>speechiness</th>\n",
       "      <th>tempo</th>\n",
       "      <th>time_signature</th>\n",
       "    </tr>\n",
       "  </thead>\n",
       "  <tbody>\n",
       "    <tr>\n",
       "      <th>578</th>\n",
       "      <td>251573</td>\n",
       "      <td>71</td>\n",
       "      <td>0.848</td>\n",
       "      <td>0.17300</td>\n",
       "      <td>0.6660</td>\n",
       "      <td>0.000699</td>\n",
       "      <td>0.1290</td>\n",
       "      <td>-6.547</td>\n",
       "      <td>0.2740</td>\n",
       "      <td>96.662</td>\n",
       "      <td>4</td>\n",
       "    </tr>\n",
       "    <tr>\n",
       "      <th>6784</th>\n",
       "      <td>290026</td>\n",
       "      <td>21</td>\n",
       "      <td>0.307</td>\n",
       "      <td>0.96200</td>\n",
       "      <td>0.1620</td>\n",
       "      <td>0.000025</td>\n",
       "      <td>0.4750</td>\n",
       "      <td>-20.539</td>\n",
       "      <td>0.0527</td>\n",
       "      <td>74.097</td>\n",
       "      <td>3</td>\n",
       "    </tr>\n",
       "    <tr>\n",
       "      <th>7009</th>\n",
       "      <td>499133</td>\n",
       "      <td>26</td>\n",
       "      <td>0.222</td>\n",
       "      <td>0.95400</td>\n",
       "      <td>0.1310</td>\n",
       "      <td>0.723000</td>\n",
       "      <td>0.3570</td>\n",
       "      <td>-19.635</td>\n",
       "      <td>0.0435</td>\n",
       "      <td>78.447</td>\n",
       "      <td>4</td>\n",
       "    </tr>\n",
       "    <tr>\n",
       "      <th>2103</th>\n",
       "      <td>110853</td>\n",
       "      <td>0</td>\n",
       "      <td>0.582</td>\n",
       "      <td>0.00242</td>\n",
       "      <td>0.8650</td>\n",
       "      <td>0.000270</td>\n",
       "      <td>0.2730</td>\n",
       "      <td>-5.240</td>\n",
       "      <td>0.0286</td>\n",
       "      <td>90.062</td>\n",
       "      <td>4</td>\n",
       "    </tr>\n",
       "    <tr>\n",
       "      <th>6436</th>\n",
       "      <td>210800</td>\n",
       "      <td>34</td>\n",
       "      <td>0.270</td>\n",
       "      <td>0.98400</td>\n",
       "      <td>0.0189</td>\n",
       "      <td>0.004150</td>\n",
       "      <td>0.0883</td>\n",
       "      <td>-29.784</td>\n",
       "      <td>0.0489</td>\n",
       "      <td>127.935</td>\n",
       "      <td>4</td>\n",
       "    </tr>\n",
       "  </tbody>\n",
       "</table>\n",
       "</div>"
      ],
      "text/plain": [
       "      length  popularity  danceability  acousticness  energy  \\\n",
       "578   251573          71         0.848       0.17300  0.6660   \n",
       "6784  290026          21         0.307       0.96200  0.1620   \n",
       "7009  499133          26         0.222       0.95400  0.1310   \n",
       "2103  110853           0         0.582       0.00242  0.8650   \n",
       "6436  210800          34         0.270       0.98400  0.0189   \n",
       "\n",
       "      instrumentalness  liveness  loudness  speechiness    tempo  \\\n",
       "578           0.000699    0.1290    -6.547       0.2740   96.662   \n",
       "6784          0.000025    0.4750   -20.539       0.0527   74.097   \n",
       "7009          0.723000    0.3570   -19.635       0.0435   78.447   \n",
       "2103          0.000270    0.2730    -5.240       0.0286   90.062   \n",
       "6436          0.004150    0.0883   -29.784       0.0489  127.935   \n",
       "\n",
       "      time_signature  \n",
       "578                4  \n",
       "6784               3  \n",
       "7009               4  \n",
       "2103               4  \n",
       "6436               4  "
      ]
     },
     "execution_count": 64,
     "metadata": {},
     "output_type": "execute_result"
    }
   ],
   "source": [
    "X_test.head()"
   ]
  },
  {
   "cell_type": "code",
   "execution_count": 65,
   "metadata": {},
   "outputs": [
    {
     "data": {
      "text/plain": [
       "0    1775\n",
       "1      12\n",
       "Name: favorite, dtype: int64"
      ]
     },
     "execution_count": 65,
     "metadata": {},
     "output_type": "execute_result"
    }
   ],
   "source": [
    "# Checking for imbalance in test set\n",
    "y_test.value_counts()"
   ]
  },
  {
   "cell_type": "markdown",
   "metadata": {},
   "source": [
    "## Testing models"
   ]
  },
  {
   "cell_type": "markdown",
   "metadata": {},
   "source": [
    "I am using logistic regression as a baseline to compare my other models to. I am using two other models: DecisionTreeClassifier and RandomForestClassifier. I am expecting these models to outperform logistic regression due to their sequential decision making."
   ]
  },
  {
   "cell_type": "code",
   "execution_count": 66,
   "metadata": {},
   "outputs": [
    {
     "name": "stdout",
     "output_type": "stream",
     "text": [
      "0.7859826457038954\n",
      "CPU times: total: 641 ms\n",
      "Wall time: 604 ms\n"
     ]
    }
   ],
   "source": [
    "%%time\n",
    "# Logistic Regression\n",
    "lr = LogisticRegression(solver='lbfgs', max_iter=400).fit(X_train, y_train)\n",
    "lr_scores = cross_val_score(lr, X_train, y_train, cv=10, scoring=\"f1\")\n",
    "print(np.mean(lr_scores))"
   ]
  },
  {
   "cell_type": "code",
   "execution_count": 67,
   "metadata": {},
   "outputs": [
    {
     "name": "stderr",
     "output_type": "stream",
     "text": [
      "c:\\Users\\Tedd\\AppData\\Local\\Programs\\Python\\Python310\\lib\\site-packages\\sklearn\\utils\\deprecation.py:87: FutureWarning: Function plot_confusion_matrix is deprecated; Function `plot_confusion_matrix` is deprecated in 1.0 and will be removed in 1.2. Use one of the class methods: ConfusionMatrixDisplay.from_predictions or ConfusionMatrixDisplay.from_estimator.\n",
      "  warnings.warn(msg, category=FutureWarning)\n"
     ]
    },
    {
     "data": {
      "text/plain": [
       "<sklearn.metrics._plot.confusion_matrix.ConfusionMatrixDisplay at 0x1e89e768eb0>"
      ]
     },
     "execution_count": 67,
     "metadata": {},
     "output_type": "execute_result"
    },
    {
     "data": {
      "image/png": "[encoded data removed]",
      "text/plain": [
       "<Figure size 432x288 with 2 Axes>"
      ]
     },
     "metadata": {
      "needs_background": "light"
     },
     "output_type": "display_data"
    }
   ],
   "source": [
    "# Logistic Regression confusion matrix\n",
    "lr_preds = lr.predict(X_train)\n",
    "plot_confusion_matrix(lr, X_train, y_train)"
   ]
  },
  {
   "cell_type": "code",
   "execution_count": 68,
   "metadata": {
    "tags": []
   },
   "outputs": [
    {
     "data": {
      "text/plain": [
       "{'max_depth': 30}"
      ]
     },
     "execution_count": 68,
     "metadata": {},
     "output_type": "execute_result"
    }
   ],
   "source": [
    "# Hyperparameter optimization for Decision Tree Classifier\n",
    "parameters = {\n",
    "    'max_depth':[3, 4, 5, 6, 10, 15,20,30],\n",
    "}\n",
    "dtc = Pipeline([('CV',GridSearchCV(DecisionTreeClassifier(), parameters, cv = 5))])\n",
    "dtc.fit(X_train, y_train)\n",
    "dtc.named_steps['CV'].best_params_"
   ]
  },
  {
   "cell_type": "code",
   "execution_count": 69,
   "metadata": {},
   "outputs": [
    {
     "name": "stdout",
     "output_type": "stream",
     "text": [
      "CPU times: total: 1.55 s\n",
      "Wall time: 1.59 s\n"
     ]
    },
    {
     "data": {
      "text/plain": [
       "0.9918813901473204"
      ]
     },
     "execution_count": 69,
     "metadata": {},
     "output_type": "execute_result"
    }
   ],
   "source": [
    "%%time\n",
    "# Decision Tree Classifier\n",
    "dt = DecisionTreeClassifier(max_depth=30).fit(X_train, y_train)\n",
    "dt_scores = cross_val_score(dt, X_train, y_train, cv=10, scoring=\"f1\")\n",
    "np.mean(dt_scores)"
   ]
  },
  {
   "cell_type": "code",
   "execution_count": 70,
   "metadata": {},
   "outputs": [
    {
     "name": "stderr",
     "output_type": "stream",
     "text": [
      "c:\\Users\\Tedd\\AppData\\Local\\Programs\\Python\\Python310\\lib\\site-packages\\sklearn\\utils\\deprecation.py:87: FutureWarning: Function plot_confusion_matrix is deprecated; Function `plot_confusion_matrix` is deprecated in 1.0 and will be removed in 1.2. Use one of the class methods: ConfusionMatrixDisplay.from_predictions or ConfusionMatrixDisplay.from_estimator.\n",
      "  warnings.warn(msg, category=FutureWarning)\n"
     ]
    },
    {
     "data": {
      "text/plain": [
       "<sklearn.metrics._plot.confusion_matrix.ConfusionMatrixDisplay at 0x1e8a0c41360>"
      ]
     },
     "execution_count": 70,
     "metadata": {},
     "output_type": "execute_result"
    },
    {
     "data": {
      "image/png": "[encoded data removed]",
      "text/plain": [
       "<Figure size 432x288 with 2 Axes>"
      ]
     },
     "metadata": {
      "needs_background": "light"
     },
     "output_type": "display_data"
    }
   ],
   "source": [
    "# Decision Tree Classifier confusion matrix\n",
    "plot_confusion_matrix(dt, X_train, y_train)"
   ]
  },
  {
   "cell_type": "code",
   "execution_count": 71,
   "metadata": {},
   "outputs": [
    {
     "name": "stdout",
     "output_type": "stream",
     "text": [
      "CPU times: total: 23.4 s\n",
      "Wall time: 23.4 s\n"
     ]
    },
    {
     "data": {
      "text/plain": [
       "{'max_depth': 20, 'n_estimators': 20}"
      ]
     },
     "execution_count": 71,
     "metadata": {},
     "output_type": "execute_result"
    }
   ],
   "source": [
    "%%time\n",
    "# Hyperparameter optimization of RandomForestClassifier\n",
    "parameters = {\n",
    "    'max_depth':[3, 6,12,15,20],\n",
    "    'n_estimators':[10, 20,30]\n",
    "}\n",
    "clf = Pipeline([('CV',GridSearchCV(RandomForestClassifier(), parameters, cv = 5))])\n",
    "clf.fit(X_train, y_train)\n",
    "clf.named_steps['CV'].best_params_"
   ]
  },
  {
   "cell_type": "code",
   "execution_count": 72,
   "metadata": {},
   "outputs": [
    {
     "name": "stdout",
     "output_type": "stream",
     "text": [
      "CPU times: total: 2.59 s\n",
      "Wall time: 2.59 s\n"
     ]
    },
    {
     "data": {
      "text/plain": [
       "0.9961440834951143"
      ]
     },
     "execution_count": 72,
     "metadata": {},
     "output_type": "execute_result"
    }
   ],
   "source": [
    "%%time\n",
    "# RandomForestClassifier\n",
    "rf = Pipeline([('rf', RandomForestClassifier(n_estimators = 10, max_depth = 20).fit(X_train, y_train))])\n",
    "rf_scores = cross_val_score(rf, X_train, y_train, cv=10, scoring=\"f1\")\n",
    "np.mean(rf_scores)"
   ]
  },
  {
   "cell_type": "code",
   "execution_count": 73,
   "metadata": {},
   "outputs": [
    {
     "name": "stderr",
     "output_type": "stream",
     "text": [
      "c:\\Users\\Tedd\\AppData\\Local\\Programs\\Python\\Python310\\lib\\site-packages\\sklearn\\utils\\deprecation.py:87: FutureWarning: Function plot_confusion_matrix is deprecated; Function `plot_confusion_matrix` is deprecated in 1.0 and will be removed in 1.2. Use one of the class methods: ConfusionMatrixDisplay.from_predictions or ConfusionMatrixDisplay.from_estimator.\n",
      "  warnings.warn(msg, category=FutureWarning)\n"
     ]
    },
    {
     "data": {
      "text/plain": [
       "<sklearn.metrics._plot.confusion_matrix.ConfusionMatrixDisplay at 0x1e89cb7bd60>"
      ]
     },
     "execution_count": 73,
     "metadata": {},
     "output_type": "execute_result"
    },
    {
     "data": {
      "image/png": "[encoded data removed]",
      "text/plain": [
       "<Figure size 432x288 with 2 Axes>"
      ]
     },
     "metadata": {
      "needs_background": "light"
     },
     "output_type": "display_data"
    }
   ],
   "source": [
    "plot_confusion_matrix(rf, X_train, y_train)"
   ]
  },
  {
   "cell_type": "markdown",
   "metadata": {},
   "source": [
    "Although the RandomForestClassifier had the highest accuracy, the confusion matrix showed the DecisionTreeClassifier truly had the higher accuracy because it has less false positives and negatives.\n",
    "\n",
    "Therefore, I will be using the DecisionTreeClassifier as my recommendation algorithm."
   ]
  },
  {
   "cell_type": "markdown",
   "metadata": {},
   "source": [
    "### Using algorithm on test data"
   ]
  },
  {
   "cell_type": "code",
   "execution_count": 74,
   "metadata": {},
   "outputs": [
    {
     "data": {
      "text/plain": [
       "0    1775\n",
       "1      12\n",
       "Name: favorite, dtype: int64"
      ]
     },
     "execution_count": 74,
     "metadata": {},
     "output_type": "execute_result"
    }
   ],
   "source": [
    "# Checking for imbalance\n",
    "y_test.value_counts()"
   ]
  },
  {
   "cell_type": "code",
   "execution_count": 75,
   "metadata": {},
   "outputs": [
    {
     "data": {
      "text/plain": [
       "0.9865696698377169"
      ]
     },
     "execution_count": 75,
     "metadata": {},
     "output_type": "execute_result"
    }
   ],
   "source": [
    "# Building a pipeline to use on regular data\n",
    "from sklearn.pipeline import make_pipeline\n",
    "from sklearn.preprocessing import StandardScaler\n",
    "\n",
    "pipe = make_pipeline(StandardScaler(), DecisionTreeClassifier(max_depth=30))\n",
    "pipe.fit(X_train, y_train)  # apply scaling on training data\n",
    "Pipeline(steps=[('standardscaler', StandardScaler()),\n",
    "                ('dt', DecisionTreeClassifier(max_depth=30))])\n",
    "\n",
    "pipe.score(X_test, y_test)"
   ]
  },
  {
   "cell_type": "code",
   "execution_count": 76,
   "metadata": {},
   "outputs": [
    {
     "name": "stderr",
     "output_type": "stream",
     "text": [
      "c:\\Users\\Tedd\\AppData\\Local\\Programs\\Python\\Python310\\lib\\site-packages\\sklearn\\utils\\deprecation.py:87: FutureWarning: Function plot_confusion_matrix is deprecated; Function `plot_confusion_matrix` is deprecated in 1.0 and will be removed in 1.2. Use one of the class methods: ConfusionMatrixDisplay.from_predictions or ConfusionMatrixDisplay.from_estimator.\n",
      "  warnings.warn(msg, category=FutureWarning)\n"
     ]
    },
    {
     "data": {
      "text/plain": [
       "<sklearn.metrics._plot.confusion_matrix.ConfusionMatrixDisplay at 0x1e89e7694e0>"
      ]
     },
     "execution_count": 76,
     "metadata": {},
     "output_type": "execute_result"
    },
    {
     "data": {
      "image/png": "[encoded data removed]",
      "text/plain": [
       "<Figure size 432x288 with 2 Axes>"
      ]
     },
     "metadata": {
      "needs_background": "light"
     },
     "output_type": "display_data"
    }
   ],
   "source": [
    "plot_confusion_matrix(dt, X_test, y_test)"
   ]
  },
  {
   "cell_type": "markdown",
   "metadata": {},
   "source": [
    "After running evaluating the algorithm on test data, it shows there were seventeen false positives and negatives combined. It was able to correctly recommend 6 songs, but mislabeled 24 songs as future favorites; however, this might be a good thing. The algorithm only recommended 6 songs, but for the purpose of this project, I would like for there to be atleast 15 songs in the playlist. These false positives can mitigate the issue of not enough songs."
   ]
  },
  {
   "cell_type": "markdown",
   "metadata": {},
   "source": [
    "## Predicting songs and saving to dataset"
   ]
  },
  {
   "cell_type": "code",
   "execution_count": 77,
   "metadata": {},
   "outputs": [],
   "source": [
    "# Reloading the original dataframe to test the model on\n",
    "df = pd.read_csv('data/encoded_playlist_songs.csv')"
   ]
  },
  {
   "cell_type": "code",
   "execution_count": 78,
   "metadata": {},
   "outputs": [
    {
     "data": {
      "text/html": [
       "<div>\n",
       "<style scoped>\n",
       "    .dataframe tbody tr th:only-of-type {\n",
       "        vertical-align: middle;\n",
       "    }\n",
       "\n",
       "    .dataframe tbody tr th {\n",
       "        vertical-align: top;\n",
       "    }\n",
       "\n",
       "    .dataframe thead th {\n",
       "        text-align: right;\n",
       "    }\n",
       "</style>\n",
       "<table border=\"1\" class=\"dataframe\">\n",
       "  <thead>\n",
       "    <tr style=\"text-align: right;\">\n",
       "      <th></th>\n",
       "      <th>track_id</th>\n",
       "      <th>length</th>\n",
       "      <th>popularity</th>\n",
       "      <th>danceability</th>\n",
       "      <th>acousticness</th>\n",
       "      <th>energy</th>\n",
       "      <th>instrumentalness</th>\n",
       "      <th>liveness</th>\n",
       "      <th>loudness</th>\n",
       "      <th>speechiness</th>\n",
       "      <th>tempo</th>\n",
       "      <th>time_signature</th>\n",
       "      <th>favorite</th>\n",
       "    </tr>\n",
       "  </thead>\n",
       "  <tbody>\n",
       "    <tr>\n",
       "      <th>0</th>\n",
       "      <td>7MAibcTli4IisCtbHKrGMh</td>\n",
       "      <td>242096</td>\n",
       "      <td>90</td>\n",
       "      <td>0.586</td>\n",
       "      <td>0.1820</td>\n",
       "      <td>0.616</td>\n",
       "      <td>0.000000</td>\n",
       "      <td>0.0927</td>\n",
       "      <td>-7.964</td>\n",
       "      <td>0.0324</td>\n",
       "      <td>148.088</td>\n",
       "      <td>4</td>\n",
       "      <td>0</td>\n",
       "    </tr>\n",
       "    <tr>\n",
       "      <th>1</th>\n",
       "      <td>5QO79kh1waicV47BqGRL3g</td>\n",
       "      <td>215626</td>\n",
       "      <td>97</td>\n",
       "      <td>0.680</td>\n",
       "      <td>0.0212</td>\n",
       "      <td>0.826</td>\n",
       "      <td>0.000012</td>\n",
       "      <td>0.5430</td>\n",
       "      <td>-5.487</td>\n",
       "      <td>0.0309</td>\n",
       "      <td>118.051</td>\n",
       "      <td>4</td>\n",
       "      <td>0</td>\n",
       "    </tr>\n",
       "    <tr>\n",
       "      <th>2</th>\n",
       "      <td>1diS6nkxMQc3wwC4G1j0bh</td>\n",
       "      <td>165506</td>\n",
       "      <td>88</td>\n",
       "      <td>0.722</td>\n",
       "      <td>0.0319</td>\n",
       "      <td>0.588</td>\n",
       "      <td>0.000000</td>\n",
       "      <td>0.1830</td>\n",
       "      <td>-5.932</td>\n",
       "      <td>0.0544</td>\n",
       "      <td>134.010</td>\n",
       "      <td>4</td>\n",
       "      <td>0</td>\n",
       "    </tr>\n",
       "    <tr>\n",
       "      <th>3</th>\n",
       "      <td>4u4NyuceXP7Uzh7XFJKCr1</td>\n",
       "      <td>170813</td>\n",
       "      <td>89</td>\n",
       "      <td>0.658</td>\n",
       "      <td>0.0106</td>\n",
       "      <td>0.634</td>\n",
       "      <td>0.000000</td>\n",
       "      <td>0.1320</td>\n",
       "      <td>-5.797</td>\n",
       "      <td>0.0413</td>\n",
       "      <td>139.980</td>\n",
       "      <td>4</td>\n",
       "      <td>0</td>\n",
       "    </tr>\n",
       "    <tr>\n",
       "      <th>4</th>\n",
       "      <td>3Ofmpyhv5UAQ70mENzB277</td>\n",
       "      <td>132780</td>\n",
       "      <td>94</td>\n",
       "      <td>0.778</td>\n",
       "      <td>0.1750</td>\n",
       "      <td>0.695</td>\n",
       "      <td>0.000000</td>\n",
       "      <td>0.1500</td>\n",
       "      <td>-6.865</td>\n",
       "      <td>0.0913</td>\n",
       "      <td>149.996</td>\n",
       "      <td>4</td>\n",
       "      <td>0</td>\n",
       "    </tr>\n",
       "  </tbody>\n",
       "</table>\n",
       "</div>"
      ],
      "text/plain": [
       "                 track_id  length  popularity  danceability  acousticness  \\\n",
       "0  7MAibcTli4IisCtbHKrGMh  242096          90         0.586        0.1820   \n",
       "1  5QO79kh1waicV47BqGRL3g  215626          97         0.680        0.0212   \n",
       "2  1diS6nkxMQc3wwC4G1j0bh  165506          88         0.722        0.0319   \n",
       "3  4u4NyuceXP7Uzh7XFJKCr1  170813          89         0.658        0.0106   \n",
       "4  3Ofmpyhv5UAQ70mENzB277  132780          94         0.778        0.1750   \n",
       "\n",
       "   energy  instrumentalness  liveness  loudness  speechiness    tempo  \\\n",
       "0   0.616          0.000000    0.0927    -7.964       0.0324  148.088   \n",
       "1   0.826          0.000012    0.5430    -5.487       0.0309  118.051   \n",
       "2   0.588          0.000000    0.1830    -5.932       0.0544  134.010   \n",
       "3   0.634          0.000000    0.1320    -5.797       0.0413  139.980   \n",
       "4   0.695          0.000000    0.1500    -6.865       0.0913  149.996   \n",
       "\n",
       "   time_signature  favorite  \n",
       "0               4         0  \n",
       "1               4         0  \n",
       "2               4         0  \n",
       "3               4         0  \n",
       "4               4         0  "
      ]
     },
     "execution_count": 78,
     "metadata": {},
     "output_type": "execute_result"
    }
   ],
   "source": [
    "df.head()"
   ]
  },
  {
   "cell_type": "markdown",
   "metadata": {},
   "source": [
    "Since the model has a very niche idea of what a favorite song is based on the favorites dataset, it is necessary to accept songs that might not be absolute favorites. This is done by using a threshold and sklearn's proba function.\n",
    "\n",
    "I've defined the threshold as 0.3 to get approximately 20 song recommendations from nearly 10,000 songs to choose from. You can play with this value if you'd like more or less songs in the recommendation playlist."
   ]
  },
  {
   "cell_type": "code",
   "execution_count": 79,
   "metadata": {},
   "outputs": [],
   "source": [
    "# Predicting if a song is a favorite\n",
    "prob_preds = pipe.predict_proba(df.drop(['favorite','track_id'], axis=1))\n",
    "threshold = 0.30 # define threshold here\n",
    "preds = [1 if prob_preds[i][1]> threshold else 0 for i in range(len(prob_preds))]\n",
    "df['prediction'] = preds"
   ]
  },
  {
   "cell_type": "code",
   "execution_count": 80,
   "metadata": {},
   "outputs": [
    {
     "data": {
      "text/plain": [
       "0    8864\n",
       "1      19\n",
       "Name: prediction, dtype: int64"
      ]
     },
     "execution_count": 80,
     "metadata": {},
     "output_type": "execute_result"
    }
   ],
   "source": [
    "df['prediction'].value_counts()"
   ]
  },
  {
   "cell_type": "markdown",
   "metadata": {},
   "source": [
    "## Building the playlist from recommended songs"
   ]
  },
  {
   "cell_type": "code",
   "execution_count": 81,
   "metadata": {},
   "outputs": [],
   "source": [
    "import spotipy\n",
    "import spotipy.util as util\n",
    "from spotipy.oauth2 import SpotifyClientCredentials\n",
    "from spotipy import oauth2"
   ]
  },
  {
   "cell_type": "code",
   "execution_count": 82,
   "metadata": {},
   "outputs": [],
   "source": [
    "# Insert your Spotify username and the credentials that you obtained from spotify developer\n",
    "cid = 'e5164fbe5751433e874d5fd5b59efc3b'\n",
    "secret = 'bde09ec2fbe044f689e9b64db6dcf24a'\n",
    "redirect_uri='http://localhost:8888/callback'\n",
    "username = 'c3drys7oy7f88tijr6fs0eg0i'"
   ]
  },
  {
   "cell_type": "code",
   "execution_count": 83,
   "metadata": {},
   "outputs": [],
   "source": [
    "# Once the Authorisation is complete, we just need to `sp` to call the APIs\n",
    "scope = 'user-top-read playlist-modify-private playlist-modify-public'\n",
    "token = util.prompt_for_user_token(username, scope, client_id=cid, client_secret=secret, redirect_uri=redirect_uri)\n",
    "\n",
    "if token:\n",
    "    sp = spotipy.Spotify(auth=token)\n",
    "else:\n",
    "    print(\"Can't get token for\", username)"
   ]
  },
  {
   "cell_type": "code",
   "execution_count": 84,
   "metadata": {},
   "outputs": [],
   "source": [
    "# Creating a function that builds a playlist in the user's spotify account\n",
    "def create_playlist(sp, username, playlist_name, playlist_description):\n",
    "    playlists = sp.user_playlist_create(username, playlist_name, description = playlist_description)"
   ]
  },
  {
   "cell_type": "code",
   "execution_count": 85,
   "metadata": {},
   "outputs": [],
   "source": [
    "create_playlist(sp, username, 'TeddLair', 'This playlist was created using python!')"
   ]
  },
  {
   "cell_type": "code",
   "execution_count": 86,
   "metadata": {},
   "outputs": [],
   "source": [
    "# Function to check if the playlist was created successfully\n",
    "def fetch_playlists(sp, username):\n",
    "    \"\"\"\n",
    "    Returns the user's playlists.\n",
    "    \"\"\"\n",
    "        \n",
    "    id = []\n",
    "    name = []\n",
    "    num_tracks = []\n",
    "    \n",
    "    # Make the API request\n",
    "    playlists = sp.user_playlists(username)\n",
    "    for playlist in playlists['items']:\n",
    "        id.append(playlist['id'])\n",
    "        name.append(playlist['name'])\n",
    "        num_tracks.append(playlist['tracks']['total'])\n",
    "\n",
    "    # Create the final df   \n",
    "    df_playlists = pd.DataFrame({\"id\":id, \"name\": name, \"#tracks\": num_tracks})\n",
    "    return df_playlists"
   ]
  },
  {
   "cell_type": "code",
   "execution_count": 87,
   "metadata": {},
   "outputs": [
    {
     "data": {
      "text/html": [
       "<div>\n",
       "<style scoped>\n",
       "    .dataframe tbody tr th:only-of-type {\n",
       "        vertical-align: middle;\n",
       "    }\n",
       "\n",
       "    .dataframe tbody tr th {\n",
       "        vertical-align: top;\n",
       "    }\n",
       "\n",
       "    .dataframe thead th {\n",
       "        text-align: right;\n",
       "    }\n",
       "</style>\n",
       "<table border=\"1\" class=\"dataframe\">\n",
       "  <thead>\n",
       "    <tr style=\"text-align: right;\">\n",
       "      <th></th>\n",
       "      <th>id</th>\n",
       "      <th>name</th>\n",
       "      <th>#tracks</th>\n",
       "    </tr>\n",
       "  </thead>\n",
       "  <tbody>\n",
       "    <tr>\n",
       "      <th>0</th>\n",
       "      <td>3wi9WXZmKFMyOayktxKv8L</td>\n",
       "      <td>TeddLair</td>\n",
       "      <td>0</td>\n",
       "    </tr>\n",
       "    <tr>\n",
       "      <th>1</th>\n",
       "      <td>3EFDuAyB3UQIzpQbfBKGtE</td>\n",
       "      <td>Hindara⛈️</td>\n",
       "      <td>9</td>\n",
       "    </tr>\n",
       "    <tr>\n",
       "      <th>2</th>\n",
       "      <td>6eKrdsUOc9BeFBMEDX6jq1</td>\n",
       "      <td>SleepON💤</td>\n",
       "      <td>8</td>\n",
       "    </tr>\n",
       "    <tr>\n",
       "      <th>3</th>\n",
       "      <td>3QuIkERxt32kHDKh8F2bIf</td>\n",
       "      <td>CurrFavz🍁</td>\n",
       "      <td>27</td>\n",
       "    </tr>\n",
       "    <tr>\n",
       "      <th>4</th>\n",
       "      <td>37i9dQZF1DX1uHCeFHcn8X</td>\n",
       "      <td>Soft 10s</td>\n",
       "      <td>250</td>\n",
       "    </tr>\n",
       "  </tbody>\n",
       "</table>\n",
       "</div>"
      ],
      "text/plain": [
       "                       id       name  #tracks\n",
       "0  3wi9WXZmKFMyOayktxKv8L   TeddLair        0\n",
       "1  3EFDuAyB3UQIzpQbfBKGtE  Hindara⛈️        9\n",
       "2  6eKrdsUOc9BeFBMEDX6jq1   SleepON💤        8\n",
       "3  3QuIkERxt32kHDKh8F2bIf  CurrFavz🍁       27\n",
       "4  37i9dQZF1DX1uHCeFHcn8X   Soft 10s      250"
      ]
     },
     "execution_count": 87,
     "metadata": {},
     "output_type": "execute_result"
    }
   ],
   "source": [
    "fetch_playlists(sp,username).head()"
   ]
  },
  {
   "cell_type": "code",
   "execution_count": 88,
   "metadata": {},
   "outputs": [],
   "source": [
    "# Getting the playlist ID of the most recently made playlist so we can add songs to it later\n",
    "playlist_id = fetch_playlists(sp,username)['id'][0]"
   ]
  },
  {
   "cell_type": "code",
   "execution_count": 89,
   "metadata": {},
   "outputs": [],
   "source": [
    "# Function to add selected songs to playlist\n",
    "def enrich_playlist(sp, username, playlist_id, playlist_tracks):\n",
    "    index = 0\n",
    "    results = []\n",
    "    \n",
    "    while index < len(playlist_tracks):\n",
    "        results += sp.user_playlist_add_tracks(username, playlist_id, tracks = playlist_tracks[index:index + 50])\n",
    "        index += 50"
   ]
  },
  {
   "cell_type": "code",
   "execution_count": 90,
   "metadata": {},
   "outputs": [],
   "source": [
    "# # Adding songs to playlist\n",
    "list_track = df.loc[df['prediction']  == 1]['track_id']\n",
    "enrich_playlist(sp, username, playlist_id, list_track)"
   ]
  },
  {
   "cell_type": "code",
   "execution_count": 91,
   "metadata": {},
   "outputs": [],
   "source": [
    "import pickle"
   ]
  },
  {
   "cell_type": "code",
   "execution_count": 92,
   "metadata": {},
   "outputs": [],
   "source": [
    "list_track.to_csv(\"final_pl.csv\")"
   ]
  },
  {
   "cell_type": "code",
   "execution_count": 93,
   "metadata": {},
   "outputs": [],
   "source": [
    "df_list = pd.read_csv(\"final_pl.csv\")"
   ]
  },
  {
   "cell_type": "code",
   "execution_count": 94,
   "metadata": {},
   "outputs": [],
   "source": [
    "from sklearn.metrics.pairwise import linear_kernel\n",
    "from sklearn.feature_extraction.text import TfidfVectorizer\n",
    "\n",
    "# df_list.set_index('name',inplace =True)\n",
    "\n",
    "# indices  = pd.Series(df_percent.indices)\n",
    "\n",
    "tfidf = TfidfVectorizer(analyzer='word', ngram_range=(1,2), min_df = 0, stop_words='english')\n",
    "tfidf_matrix = tfidf.fit_transform(df_list['track_id'])\n",
    "\n",
    "consine_similarities = linear_kernel(tfidf_matrix,tfidf_matrix)"
   ]
  },
  {
   "cell_type": "code",
   "execution_count": 95,
   "metadata": {},
   "outputs": [
    {
     "data": {
      "text/plain": [
       "array([[1., 0., 0., 0., 0., 0., 0., 0., 0., 0., 0., 0., 0., 0., 0., 0.,\n",
       "        0., 0., 0.],\n",
       "       [0., 1., 0., 0., 0., 0., 0., 0., 0., 0., 0., 0., 0., 0., 0., 0.,\n",
       "        0., 0., 0.],\n",
       "       [0., 0., 1., 0., 0., 0., 0., 0., 0., 0., 0., 0., 0., 0., 0., 0.,\n",
       "        0., 0., 0.],\n",
       "       [0., 0., 0., 1., 0., 0., 0., 0., 0., 0., 0., 0., 0., 0., 0., 0.,\n",
       "        0., 0., 0.],\n",
       "       [0., 0., 0., 0., 1., 0., 0., 0., 0., 0., 0., 0., 0., 0., 0., 0.,\n",
       "        0., 0., 0.],\n",
       "       [0., 0., 0., 0., 0., 1., 0., 0., 0., 0., 0., 0., 0., 0., 0., 0.,\n",
       "        0., 0., 0.],\n",
       "       [0., 0., 0., 0., 0., 0., 1., 0., 0., 0., 0., 0., 0., 0., 0., 0.,\n",
       "        0., 0., 0.],\n",
       "       [0., 0., 0., 0., 0., 0., 0., 1., 0., 0., 0., 0., 0., 0., 0., 0.,\n",
       "        0., 0., 0.],\n",
       "       [0., 0., 0., 0., 0., 0., 0., 0., 1., 0., 0., 0., 0., 0., 0., 0.,\n",
       "        0., 0., 0.],\n",
       "       [0., 0., 0., 0., 0., 0., 0., 0., 0., 1., 0., 0., 0., 0., 0., 0.,\n",
       "        0., 0., 0.],\n",
       "       [0., 0., 0., 0., 0., 0., 0., 0., 0., 0., 1., 0., 0., 0., 0., 0.,\n",
       "        0., 0., 0.],\n",
       "       [0., 0., 0., 0., 0., 0., 0., 0., 0., 0., 0., 1., 0., 0., 0., 0.,\n",
       "        0., 0., 0.],\n",
       "       [0., 0., 0., 0., 0., 0., 0., 0., 0., 0., 0., 0., 1., 0., 0., 0.,\n",
       "        0., 0., 0.],\n",
       "       [0., 0., 0., 0., 0., 0., 0., 0., 0., 0., 0., 0., 0., 1., 0., 0.,\n",
       "        0., 0., 0.],\n",
       "       [0., 0., 0., 0., 0., 0., 0., 0., 0., 0., 0., 0., 0., 0., 1., 0.,\n",
       "        0., 0., 0.],\n",
       "       [0., 0., 0., 0., 0., 0., 0., 0., 0., 0., 0., 0., 0., 0., 0., 1.,\n",
       "        0., 0., 0.],\n",
       "       [0., 0., 0., 0., 0., 0., 0., 0., 0., 0., 0., 0., 0., 0., 0., 0.,\n",
       "        1., 0., 0.],\n",
       "       [0., 0., 0., 0., 0., 0., 0., 0., 0., 0., 0., 0., 0., 0., 0., 0.,\n",
       "        0., 1., 0.],\n",
       "       [0., 0., 0., 0., 0., 0., 0., 0., 0., 0., 0., 0., 0., 0., 0., 0.,\n",
       "        0., 0., 1.]])"
      ]
     },
     "execution_count": 95,
     "metadata": {},
     "output_type": "execute_result"
    }
   ],
   "source": [
    "consine_similarities"
   ]
  },
  {
   "cell_type": "code",
   "execution_count": 96,
   "metadata": {},
   "outputs": [],
   "source": [
    "file = open(\"res.pkl\", 'wb')\n",
    "pickle.dump(list_track, file)"
   ]
  },
  {
   "cell_type": "code",
   "execution_count": 97,
   "metadata": {},
   "outputs": [],
   "source": [
    "pickle.dump(consine_similarities,open(\"consine_similarities.pkl\",\"wb\"))"
   ]
  }
 ],
 "metadata": {
  "interpreter": {
   "hash": "b64e5434eb6f78b23ded7093c27034844fda971e57a0689a97b233b8e8d5583b"
  },
  "kernelspec": {
   "display_name": "Python 3.10.2 64-bit",
   "language": "python",
   "name": "python3"
  },
  "language_info": {
   "codemirror_mode": {
    "name": "ipython",
    "version": 3
   },
   "file_extension": ".py",
   "mimetype": "text/x-python",
   "name": "python",
   "nbconvert_exporter": "python",
   "pygments_lexer": "ipython3",
   "version": "3.10.2"
  },
  "orig_nbformat": 2
 },
 "nbformat": 4,
 "nbformat_minor": 2
}
