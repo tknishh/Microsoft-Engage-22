{
 "cells": [
  {
   "cell_type": "code",
   "execution_count": 1,
   "metadata": {},
   "outputs": [],
   "source": [
    "# Importing necessary libraries and settings\n",
    "import time\n",
    "import os\n",
    "import pandas as pd\n",
    "import numpy as np\n",
    "import json\n",
    "import matplotlib.pyplot as plt\n",
    "import seaborn as sns\n",
    "%config InlineBackend.figure_format ='retina'\n",
    "import random\n",
    "from functools import reduce\n",
    "import spotipy\n",
    "import spotipy.util as util\n",
    "from spotipy.oauth2 import SpotifyClientCredentials\n",
    "from spotipy import oauth2"
   ]
  },
  {
   "cell_type": "code",
   "execution_count": 2,
   "metadata": {},
   "outputs": [],
   "source": [
    "# Insert your Spotify username and the credentials that you obtained from spotify developer\n",
    "cid = 'e5164fbe5751433e874d5fd5b59efc3b'\n",
    "secret = 'bde09ec2fbe044f689e9b64db6dcf24a'\n",
    "redirect_uri='http://localhost:8888/callback'\n",
    "username = 'c3drys7oy7f88tijr6fs0eg0i'"
   ]
  },
  {
   "cell_type": "code",
   "execution_count": 3,
   "metadata": {},
   "outputs": [],
   "source": [
    "# Once the Authorisation is complete, we just need to `sp` to call the APIs\n",
    "scope = 'user-top-read playlist-modify-private playlist-modify-public'\n",
    "token = util.prompt_for_user_token(username, scope, client_id=cid, client_secret=secret, redirect_uri=redirect_uri)\n",
    "\n",
    "if token:\n",
    "    sp = spotipy.Spotify(auth=token)\n",
    "else:\n",
    "    print(\"Can't get token for\", username)"
   ]
  },
  {
   "cell_type": "code",
   "execution_count": 4,
   "metadata": {},
   "outputs": [],
   "source": [
    "# Getting features for each song\n",
    "def fetch_audio_features(sp, df):\n",
    "    playlist = df[['track_id','track_name']] \n",
    "    index = 0\n",
    "    audio_features = []\n",
    "    \n",
    "    # Make the API request\n",
    "    while index < playlist.shape[0]:\n",
    "        audio_features += sp.audio_features(playlist.iloc[index:index + 50, 0])\n",
    "        index += 50\n",
    "    \n",
    "    # Create an empty list to feed in different charactieritcs of the tracks\n",
    "    features_list = []\n",
    "    #Create keys-values of empty lists inside nested dictionary for album\n",
    "    for features in audio_features:\n",
    "        features_list.append([features['danceability'],\n",
    "                              features['acousticness'],\n",
    "                              features['energy'], \n",
    "                              features['tempo'],\n",
    "                              features['instrumentalness'], \n",
    "                              features['loudness'],\n",
    "                              features['liveness'],\n",
    "                              features['duration_ms'],\n",
    "                              features['key'],\n",
    "                              features['valence'],\n",
    "                              features['speechiness'],\n",
    "                              features['mode']\n",
    "                             ])\n",
    "    \n",
    "    df_audio_features = pd.DataFrame(features_list, columns=['danceability', 'acousticness', 'energy','tempo', \n",
    "                                                             'instrumentalness', 'loudness', 'liveness','duration_ms', 'key',\n",
    "                                                             'valence', 'speechiness', 'mode'])\n",
    "    \n",
    "    # Create the final df, using the 'track_id' as index for future reference\n",
    "    df_playlist_audio_features = pd.concat([playlist, df_audio_features], axis=1)\n",
    "    df_playlist_audio_features.set_index('track_name', inplace=True, drop=True)\n",
    "    return df_playlist_audio_features"
   ]
  },
  {
   "cell_type": "markdown",
   "metadata": {},
   "source": [
    "### Getting the songs from all of Spotify's playlists"
   ]
  },
  {
   "cell_type": "markdown",
   "metadata": {},
   "source": [
    "The following cells are collecting the songs from all of the playlists from the official Spotify account. In this repo, I've curated a dataframe of approximately 10,000 songs. If you would like to add more songs, modify the cells below. I've commented them out because they take a long time to run and are unnecessary if you'd like to use the dataframe I've already built."
   ]
  },
  {
   "cell_type": "code",
   "execution_count": 5,
   "metadata": {
    "tags": []
   },
   "outputs": [
    {
     "data": {
      "text/plain": [
       "['37i9dQZF1DXcBWIGoYBM5M',\n",
       " '37i9dQZF1DX0XUsuxWHRQd',\n",
       " '37i9dQZF1DX1lVhptIYRda',\n",
       " '37i9dQZF1DX10zKzsJ2jva',\n",
       " '37i9dQZF1DX4JAvHpjipBk',\n",
       " '37i9dQZF1DX4sWSpwq3LiO',\n",
       " '37i9dQZF1DX4SBhb3fqCJd',\n",
       " '37i9dQZF1DWXRqgorJj26U',\n",
       " '37i9dQZF1DX4dyzvuaRJ0n',\n",
       " '37i9dQZF1DXcF6B6QPhFDv',\n",
       " '37i9dQZF1DWXJfnUiYjUKT',\n",
       " '37i9dQZF1DXcRXFNfZr7Tp',\n",
       " '37i9dQZF1DX4o1oenSJRJd',\n",
       " '37i9dQZF1DXbTxeAdrVG2l',\n",
       " '37i9dQZF1DX4UtSsGT1Sbe',\n",
       " '37i9dQZF1DWTJ7xPn4vNaz',\n",
       " '37i9dQZF1DXaKIA8E7WcJj',\n",
       " '37i9dQZF1DWSV3Tk4GO2fq',\n",
       " '37i9dQZF1DWTwnEm1IYyoj',\n",
       " '37i9dQZF1DX2A29LI7xHn1']"
      ]
     },
     "execution_count": 5,
     "metadata": {},
     "output_type": "execute_result"
    }
   ],
   "source": [
    "# Getting playlist IDs from each of Spotify's playlists\n",
    "playlists = sp.user_playlists('spotify')\n",
    "spotify_playlist_ids = []\n",
    "while playlists:\n",
    "    for i, playlist in enumerate(playlists['items']):\n",
    "        spotify_playlist_ids.append(playlist['uri'][-22:])\n",
    "    if playlists['next']:\n",
    "        playlists = sp.next(playlists)\n",
    "    else:\n",
    "        playlists = None\n",
    "spotify_playlist_ids[:20]"
   ]
  },
  {
   "cell_type": "code",
   "execution_count": 6,
   "metadata": {},
   "outputs": [
    {
     "data": {
      "text/plain": [
       "1196"
      ]
     },
     "execution_count": 6,
     "metadata": {},
     "output_type": "execute_result"
    }
   ],
   "source": [
    "len(spotify_playlist_ids)"
   ]
  },
  {
   "cell_type": "markdown",
   "metadata": {},
   "source": [
    "### Getting tracks from Spotify playlists"
   ]
  },
  {
   "cell_type": "code",
   "execution_count": 61,
   "metadata": {},
   "outputs": [],
   "source": [
    "# Creating a function to get the first 50 tracks IDs from a playlist\n",
    "def getTrackIDs(playlist_id):\n",
    "    playlist = sp.user_playlist('spotify', playlist_id)\n",
    "    for item in playlist['tracks']['items'][:1]:\n",
    "        track = item['track']\n",
    "        ids.append(track['id'])\n",
    "    return"
   ]
  },
  {
   "cell_type": "code",
   "execution_count": 62,
   "metadata": {},
   "outputs": [],
   "source": [
    "# Creating a function get features of each track from track id\n",
    "def getTrackFeatures(track_id):\n",
    "  meta = sp.track(track_id)\n",
    "  features = sp.audio_features(track_id)\n",
    "\n",
    "  # meta\n",
    "  track_id = track_id\n",
    "  name = meta['name']\n",
    "  album = meta['album']['name']\n",
    "  artist = meta['album']['artists'][0]['name']\n",
    "  release_date = meta['album']['release_date']\n",
    "  length = meta['duration_ms']\n",
    "  popularity = meta['popularity']\n",
    "\n",
    "  # features\n",
    "  acousticness = features[0]['acousticness']\n",
    "  danceability = features[0]['danceability']\n",
    "  energy = features[0]['energy']\n",
    "  instrumentalness = features[0]['instrumentalness']\n",
    "  liveness = features[0]['liveness']\n",
    "  loudness = features[0]['loudness']\n",
    "  speechiness = features[0]['speechiness']\n",
    "  tempo = features[0]['tempo']\n",
    "  time_signature = features[0]['time_signature']\n",
    "\n",
    "  track = [track_id, name, album, artist, release_date, length, popularity, danceability, acousticness, energy, instrumentalness, liveness, loudness, speechiness, tempo, time_signature]\n",
    "  return track"
   ]
  },
  {
   "cell_type": "markdown",
   "metadata": {},
   "source": [
    "The cell below takes about five minutes to run."
   ]
  },
  {
   "cell_type": "code",
   "execution_count": 63,
   "metadata": {},
   "outputs": [
    {
     "name": "stdout",
     "output_type": "stream",
     "text": [
      "CPU times: total: 3.08 s\n",
      "Wall time: 57.6 s\n"
     ]
    },
    {
     "data": {
      "text/plain": [
       "['4LRPiXqCikLlN15c3yImP7',\n",
       " '3ihIZrJreMJPjQdNLrEXnP',\n",
       " '3WMj8moIAXJhHsyLaqIIHI',\n",
       " '7dSZ6zGTQx66c2GF91xCrb',\n",
       " '1qEmFfgcLObUfQm0j1W2CK']"
      ]
     },
     "execution_count": 63,
     "metadata": {},
     "output_type": "execute_result"
    }
   ],
   "source": [
    "%%time\n",
    "# Gathering track ids\n",
    "ids = []\n",
    "for x in spotify_playlist_ids[:200]:\n",
    "    getTrackIDs(x)\n",
    "ids[:5]"
   ]
  },
  {
   "cell_type": "markdown",
   "metadata": {},
   "source": [
    "The cell below takes about 30 minutes to run."
   ]
  },
  {
   "cell_type": "code",
   "execution_count": 65,
   "metadata": {
    "tags": []
   },
   "outputs": [
    {
     "name": "stdout",
     "output_type": "stream",
     "text": [
      "CPU times: total: 2.62 s\n",
      "Wall time: 1min 13s\n"
     ]
    },
    {
     "data": {
      "text/plain": [
       "200"
      ]
     },
     "execution_count": 65,
     "metadata": {},
     "output_type": "execute_result"
    }
   ],
   "source": [
    "%%time\n",
    "# loop over track ids to get audio features for each track\n",
    "tracks = []\n",
    "for i in range(len(ids)):\n",
    "    try:  \n",
    "        track = getTrackFeatures(ids[i])\n",
    "        tracks.append(track)\n",
    "    except:\n",
    "        pass\n",
    "\n",
    "# create dataset\n",
    "df = pd.DataFrame(tracks, columns = ['track_id', 'name', 'album', 'artist', 'release_date', 'length', 'popularity', 'danceability', 'acousticness', 'energy', 'instrumentalness', 'liveness', 'loudness', 'speechiness', 'tempo', 'time_signature'])\n",
    "df.head()"
   ]
  },
  {
   "cell_type": "code",
   "execution_count": 66,
   "metadata": {},
   "outputs": [
    {
     "data": {
      "text/plain": [
       "200"
      ]
     },
     "execution_count": 66,
     "metadata": {},
     "output_type": "execute_result"
    }
   ],
   "source": [
    "len(df)"
   ]
  },
  {
   "cell_type": "code",
   "execution_count": 67,
   "metadata": {},
   "outputs": [],
   "source": [
    "df.to_csv('playlist_songs.csv',index=False)"
   ]
  },
  {
   "cell_type": "code",
   "execution_count": 68,
   "metadata": {},
   "outputs": [
    {
     "data": {
      "text/html": [
       "<div>\n",
       "<style scoped>\n",
       "    .dataframe tbody tr th:only-of-type {\n",
       "        vertical-align: middle;\n",
       "    }\n",
       "\n",
       "    .dataframe tbody tr th {\n",
       "        vertical-align: top;\n",
       "    }\n",
       "\n",
       "    .dataframe thead th {\n",
       "        text-align: right;\n",
       "    }\n",
       "</style>\n",
       "<table border=\"1\" class=\"dataframe\">\n",
       "  <thead>\n",
       "    <tr style=\"text-align: right;\">\n",
       "      <th></th>\n",
       "      <th>track_id</th>\n",
       "      <th>name</th>\n",
       "      <th>album</th>\n",
       "      <th>artist</th>\n",
       "      <th>release_date</th>\n",
       "      <th>length</th>\n",
       "      <th>popularity</th>\n",
       "      <th>danceability</th>\n",
       "      <th>acousticness</th>\n",
       "      <th>energy</th>\n",
       "      <th>instrumentalness</th>\n",
       "      <th>liveness</th>\n",
       "      <th>loudness</th>\n",
       "      <th>speechiness</th>\n",
       "      <th>tempo</th>\n",
       "      <th>time_signature</th>\n",
       "    </tr>\n",
       "  </thead>\n",
       "  <tbody>\n",
       "    <tr>\n",
       "      <th>0</th>\n",
       "      <td>7MAibcTli4IisCtbHKrGMh</td>\n",
       "      <td>Leave The Door Open</td>\n",
       "      <td>Leave The Door Open</td>\n",
       "      <td>Bruno Mars</td>\n",
       "      <td>2021-03-05</td>\n",
       "      <td>242096</td>\n",
       "      <td>90</td>\n",
       "      <td>0.586</td>\n",
       "      <td>0.1820</td>\n",
       "      <td>0.616</td>\n",
       "      <td>0.000000</td>\n",
       "      <td>0.0927</td>\n",
       "      <td>-7.964</td>\n",
       "      <td>0.0324</td>\n",
       "      <td>148.088</td>\n",
       "      <td>4</td>\n",
       "    </tr>\n",
       "    <tr>\n",
       "      <th>1</th>\n",
       "      <td>5QO79kh1waicV47BqGRL3g</td>\n",
       "      <td>Save Your Tears</td>\n",
       "      <td>After Hours</td>\n",
       "      <td>The Weeknd</td>\n",
       "      <td>2020-03-20</td>\n",
       "      <td>215626</td>\n",
       "      <td>97</td>\n",
       "      <td>0.680</td>\n",
       "      <td>0.0212</td>\n",
       "      <td>0.826</td>\n",
       "      <td>0.000012</td>\n",
       "      <td>0.5430</td>\n",
       "      <td>-5.487</td>\n",
       "      <td>0.0309</td>\n",
       "      <td>118.051</td>\n",
       "      <td>4</td>\n",
       "    </tr>\n",
       "    <tr>\n",
       "      <th>2</th>\n",
       "      <td>1diS6nkxMQc3wwC4G1j0bh</td>\n",
       "      <td>We're Good</td>\n",
       "      <td>Future Nostalgia (The Moonlight Edition)</td>\n",
       "      <td>Dua Lipa</td>\n",
       "      <td>2021-02-11</td>\n",
       "      <td>165506</td>\n",
       "      <td>88</td>\n",
       "      <td>0.722</td>\n",
       "      <td>0.0319</td>\n",
       "      <td>0.588</td>\n",
       "      <td>0.000000</td>\n",
       "      <td>0.1830</td>\n",
       "      <td>-5.932</td>\n",
       "      <td>0.0544</td>\n",
       "      <td>134.010</td>\n",
       "      <td>4</td>\n",
       "    </tr>\n",
       "    <tr>\n",
       "      <th>3</th>\n",
       "      <td>4u4NyuceXP7Uzh7XFJKCr1</td>\n",
       "      <td>Hold On</td>\n",
       "      <td>Hold On</td>\n",
       "      <td>Justin Bieber</td>\n",
       "      <td>2021-03-05</td>\n",
       "      <td>170813</td>\n",
       "      <td>89</td>\n",
       "      <td>0.658</td>\n",
       "      <td>0.0106</td>\n",
       "      <td>0.634</td>\n",
       "      <td>0.000000</td>\n",
       "      <td>0.1320</td>\n",
       "      <td>-5.797</td>\n",
       "      <td>0.0413</td>\n",
       "      <td>139.980</td>\n",
       "      <td>4</td>\n",
       "    </tr>\n",
       "    <tr>\n",
       "      <th>4</th>\n",
       "      <td>3Ofmpyhv5UAQ70mENzB277</td>\n",
       "      <td>Astronaut In The Ocean</td>\n",
       "      <td>Astronaut In The Ocean</td>\n",
       "      <td>Masked Wolf</td>\n",
       "      <td>2021-01-06</td>\n",
       "      <td>132780</td>\n",
       "      <td>94</td>\n",
       "      <td>0.778</td>\n",
       "      <td>0.1750</td>\n",
       "      <td>0.695</td>\n",
       "      <td>0.000000</td>\n",
       "      <td>0.1500</td>\n",
       "      <td>-6.865</td>\n",
       "      <td>0.0913</td>\n",
       "      <td>149.996</td>\n",
       "      <td>4</td>\n",
       "    </tr>\n",
       "  </tbody>\n",
       "</table>\n",
       "</div>"
      ],
      "text/plain": [
       "                 track_id                    name  \\\n",
       "0  7MAibcTli4IisCtbHKrGMh     Leave The Door Open   \n",
       "1  5QO79kh1waicV47BqGRL3g         Save Your Tears   \n",
       "2  1diS6nkxMQc3wwC4G1j0bh              We're Good   \n",
       "3  4u4NyuceXP7Uzh7XFJKCr1                 Hold On   \n",
       "4  3Ofmpyhv5UAQ70mENzB277  Astronaut In The Ocean   \n",
       "\n",
       "                                      album         artist release_date  \\\n",
       "0                       Leave The Door Open     Bruno Mars   2021-03-05   \n",
       "1                               After Hours     The Weeknd   2020-03-20   \n",
       "2  Future Nostalgia (The Moonlight Edition)       Dua Lipa   2021-02-11   \n",
       "3                                   Hold On  Justin Bieber   2021-03-05   \n",
       "4                    Astronaut In The Ocean    Masked Wolf   2021-01-06   \n",
       "\n",
       "   length  popularity  danceability  acousticness  energy  instrumentalness  \\\n",
       "0  242096          90         0.586        0.1820   0.616          0.000000   \n",
       "1  215626          97         0.680        0.0212   0.826          0.000012   \n",
       "2  165506          88         0.722        0.0319   0.588          0.000000   \n",
       "3  170813          89         0.658        0.0106   0.634          0.000000   \n",
       "4  132780          94         0.778        0.1750   0.695          0.000000   \n",
       "\n",
       "   liveness  loudness  speechiness    tempo  time_signature  \n",
       "0    0.0927    -7.964       0.0324  148.088               4  \n",
       "1    0.5430    -5.487       0.0309  118.051               4  \n",
       "2    0.1830    -5.932       0.0544  134.010               4  \n",
       "3    0.1320    -5.797       0.0413  139.980               4  \n",
       "4    0.1500    -6.865       0.0913  149.996               4  "
      ]
     },
     "execution_count": 68,
     "metadata": {},
     "output_type": "execute_result"
    }
   ],
   "source": [
    "df = pd.read_csv('data/playlist_songs.csv')\n",
    "df.head()"
   ]
  },
  {
   "cell_type": "code",
   "execution_count": 69,
   "metadata": {},
   "outputs": [
    {
     "data": {
      "text/html": [
       "<div>\n",
       "<style scoped>\n",
       "    .dataframe tbody tr th:only-of-type {\n",
       "        vertical-align: middle;\n",
       "    }\n",
       "\n",
       "    .dataframe tbody tr th {\n",
       "        vertical-align: top;\n",
       "    }\n",
       "\n",
       "    .dataframe thead th {\n",
       "        text-align: right;\n",
       "    }\n",
       "</style>\n",
       "<table border=\"1\" class=\"dataframe\">\n",
       "  <thead>\n",
       "    <tr style=\"text-align: right;\">\n",
       "      <th></th>\n",
       "      <th>track_id</th>\n",
       "      <th>length</th>\n",
       "      <th>popularity</th>\n",
       "      <th>danceability</th>\n",
       "      <th>acousticness</th>\n",
       "      <th>energy</th>\n",
       "      <th>instrumentalness</th>\n",
       "      <th>liveness</th>\n",
       "      <th>loudness</th>\n",
       "      <th>speechiness</th>\n",
       "      <th>tempo</th>\n",
       "      <th>time_signature</th>\n",
       "    </tr>\n",
       "  </thead>\n",
       "  <tbody>\n",
       "    <tr>\n",
       "      <th>0</th>\n",
       "      <td>7MAibcTli4IisCtbHKrGMh</td>\n",
       "      <td>242096</td>\n",
       "      <td>90</td>\n",
       "      <td>0.586</td>\n",
       "      <td>0.1820</td>\n",
       "      <td>0.616</td>\n",
       "      <td>0.000000</td>\n",
       "      <td>0.0927</td>\n",
       "      <td>-7.964</td>\n",
       "      <td>0.0324</td>\n",
       "      <td>148.088</td>\n",
       "      <td>4</td>\n",
       "    </tr>\n",
       "    <tr>\n",
       "      <th>1</th>\n",
       "      <td>5QO79kh1waicV47BqGRL3g</td>\n",
       "      <td>215626</td>\n",
       "      <td>97</td>\n",
       "      <td>0.680</td>\n",
       "      <td>0.0212</td>\n",
       "      <td>0.826</td>\n",
       "      <td>0.000012</td>\n",
       "      <td>0.5430</td>\n",
       "      <td>-5.487</td>\n",
       "      <td>0.0309</td>\n",
       "      <td>118.051</td>\n",
       "      <td>4</td>\n",
       "    </tr>\n",
       "    <tr>\n",
       "      <th>2</th>\n",
       "      <td>1diS6nkxMQc3wwC4G1j0bh</td>\n",
       "      <td>165506</td>\n",
       "      <td>88</td>\n",
       "      <td>0.722</td>\n",
       "      <td>0.0319</td>\n",
       "      <td>0.588</td>\n",
       "      <td>0.000000</td>\n",
       "      <td>0.1830</td>\n",
       "      <td>-5.932</td>\n",
       "      <td>0.0544</td>\n",
       "      <td>134.010</td>\n",
       "      <td>4</td>\n",
       "    </tr>\n",
       "    <tr>\n",
       "      <th>3</th>\n",
       "      <td>4u4NyuceXP7Uzh7XFJKCr1</td>\n",
       "      <td>170813</td>\n",
       "      <td>89</td>\n",
       "      <td>0.658</td>\n",
       "      <td>0.0106</td>\n",
       "      <td>0.634</td>\n",
       "      <td>0.000000</td>\n",
       "      <td>0.1320</td>\n",
       "      <td>-5.797</td>\n",
       "      <td>0.0413</td>\n",
       "      <td>139.980</td>\n",
       "      <td>4</td>\n",
       "    </tr>\n",
       "    <tr>\n",
       "      <th>4</th>\n",
       "      <td>3Ofmpyhv5UAQ70mENzB277</td>\n",
       "      <td>132780</td>\n",
       "      <td>94</td>\n",
       "      <td>0.778</td>\n",
       "      <td>0.1750</td>\n",
       "      <td>0.695</td>\n",
       "      <td>0.000000</td>\n",
       "      <td>0.1500</td>\n",
       "      <td>-6.865</td>\n",
       "      <td>0.0913</td>\n",
       "      <td>149.996</td>\n",
       "      <td>4</td>\n",
       "    </tr>\n",
       "  </tbody>\n",
       "</table>\n",
       "</div>"
      ],
      "text/plain": [
       "                 track_id  length  popularity  danceability  acousticness  \\\n",
       "0  7MAibcTli4IisCtbHKrGMh  242096          90         0.586        0.1820   \n",
       "1  5QO79kh1waicV47BqGRL3g  215626          97         0.680        0.0212   \n",
       "2  1diS6nkxMQc3wwC4G1j0bh  165506          88         0.722        0.0319   \n",
       "3  4u4NyuceXP7Uzh7XFJKCr1  170813          89         0.658        0.0106   \n",
       "4  3Ofmpyhv5UAQ70mENzB277  132780          94         0.778        0.1750   \n",
       "\n",
       "   energy  instrumentalness  liveness  loudness  speechiness    tempo  \\\n",
       "0   0.616          0.000000    0.0927    -7.964       0.0324  148.088   \n",
       "1   0.826          0.000012    0.5430    -5.487       0.0309  118.051   \n",
       "2   0.588          0.000000    0.1830    -5.932       0.0544  134.010   \n",
       "3   0.634          0.000000    0.1320    -5.797       0.0413  139.980   \n",
       "4   0.695          0.000000    0.1500    -6.865       0.0913  149.996   \n",
       "\n",
       "   time_signature  \n",
       "0               4  \n",
       "1               4  \n",
       "2               4  \n",
       "3               4  \n",
       "4               4  "
      ]
     },
     "execution_count": 69,
     "metadata": {},
     "output_type": "execute_result"
    }
   ],
   "source": [
    "# Dropping columns that could lead to data leakage\n",
    "df = df.drop(columns=['name', 'album', 'artist', 'release_date'])\n",
    "df.head()"
   ]
  },
  {
   "cell_type": "code",
   "execution_count": 70,
   "metadata": {},
   "outputs": [
    {
     "data": {
      "text/plain": [
       "7MAibcTli4IisCtbHKrGMh    1\n",
       "7KT7VGnPU5QVXN3q1BOeqb    1\n",
       "2rkCYgvzyHp1AESIlJcqqY    1\n",
       "7EYLrneh08x29IAWLl7Tst    1\n",
       "2x4i2WnE05D2Z7yEeytmPr    1\n",
       "                         ..\n",
       "2Xa0oBYSZSXNk4DtNyrcYf    1\n",
       "48O6kz322Dzu1R6Al5147q    1\n",
       "3MDvya4tKmSsyPW9oXygB4    1\n",
       "4OsLDuaH0bWR6xM6nj66F8    1\n",
       "0jo2BDAxfgNrL5VplFuulx    1\n",
       "Name: track_id, Length: 8883, dtype: int64"
      ]
     },
     "execution_count": 70,
     "metadata": {},
     "output_type": "execute_result"
    }
   ],
   "source": [
    "# Dropping duplicated songs\n",
    "df = df.drop_duplicates(subset=['track_id'])\n",
    "df['track_id'].value_counts()"
   ]
  },
  {
   "cell_type": "code",
   "execution_count": null,
   "metadata": {},
   "outputs": [],
   "source": []
  },
  {
   "cell_type": "markdown",
   "metadata": {},
   "source": [
    "## Getting user's favorite tracks"
   ]
  },
  {
   "cell_type": "code",
   "execution_count": 71,
   "metadata": {},
   "outputs": [],
   "source": [
    "# Getting top 50 tracks from user\n",
    "results = sp.current_user_top_tracks(limit=1000, offset=0,time_range='short_term')"
   ]
  },
  {
   "cell_type": "code",
   "execution_count": 72,
   "metadata": {},
   "outputs": [
    {
     "data": {
      "text/html": [
       "<div>\n",
       "<style scoped>\n",
       "    .dataframe tbody tr th:only-of-type {\n",
       "        vertical-align: middle;\n",
       "    }\n",
       "\n",
       "    .dataframe tbody tr th {\n",
       "        vertical-align: top;\n",
       "    }\n",
       "\n",
       "    .dataframe thead th {\n",
       "        text-align: right;\n",
       "    }\n",
       "</style>\n",
       "<table border=\"1\" class=\"dataframe\">\n",
       "  <thead>\n",
       "    <tr style=\"text-align: right;\">\n",
       "      <th></th>\n",
       "      <th>track_name</th>\n",
       "      <th>album</th>\n",
       "      <th>track_id</th>\n",
       "      <th>artist</th>\n",
       "      <th>duration</th>\n",
       "      <th>popularity</th>\n",
       "    </tr>\n",
       "  </thead>\n",
       "  <tbody>\n",
       "    <tr>\n",
       "      <th>0</th>\n",
       "      <td>You Said</td>\n",
       "      <td>You Said</td>\n",
       "      <td>2k5rWMAz9RvFS3k3kk3cc5</td>\n",
       "      <td>Connor Price</td>\n",
       "      <td>135000</td>\n",
       "      <td>64</td>\n",
       "    </tr>\n",
       "    <tr>\n",
       "      <th>1</th>\n",
       "      <td>Aankhon Se Batana</td>\n",
       "      <td>Aankhon Se Batana</td>\n",
       "      <td>1ZiReD9pPTttQWwSoYqdyH</td>\n",
       "      <td>Dikshant</td>\n",
       "      <td>221271</td>\n",
       "      <td>67</td>\n",
       "    </tr>\n",
       "    <tr>\n",
       "      <th>2</th>\n",
       "      <td>Love Language</td>\n",
       "      <td>Love Language</td>\n",
       "      <td>526SpJgLqe5JZtyXNo0Ic6</td>\n",
       "      <td>Connor Price</td>\n",
       "      <td>170880</td>\n",
       "      <td>50</td>\n",
       "    </tr>\n",
       "    <tr>\n",
       "      <th>3</th>\n",
       "      <td>lead me on</td>\n",
       "      <td>lead me on</td>\n",
       "      <td>45HHTHXv7gQ5q2r89ui2Fy</td>\n",
       "      <td>sammy rash</td>\n",
       "      <td>127802</td>\n",
       "      <td>59</td>\n",
       "    </tr>\n",
       "    <tr>\n",
       "      <th>4</th>\n",
       "      <td>IDGAF (with blackbear)</td>\n",
       "      <td>IDGAF</td>\n",
       "      <td>6Jrdb6CFOJEGaHjaa6c4WR</td>\n",
       "      <td>BoyWithUke</td>\n",
       "      <td>140665</td>\n",
       "      <td>81</td>\n",
       "    </tr>\n",
       "  </tbody>\n",
       "</table>\n",
       "</div>"
      ],
      "text/plain": [
       "               track_name              album                track_id  \\\n",
       "0                You Said           You Said  2k5rWMAz9RvFS3k3kk3cc5   \n",
       "1       Aankhon Se Batana  Aankhon Se Batana  1ZiReD9pPTttQWwSoYqdyH   \n",
       "2           Love Language      Love Language  526SpJgLqe5JZtyXNo0Ic6   \n",
       "3              lead me on         lead me on  45HHTHXv7gQ5q2r89ui2Fy   \n",
       "4  IDGAF (with blackbear)              IDGAF  6Jrdb6CFOJEGaHjaa6c4WR   \n",
       "\n",
       "         artist  duration  popularity  \n",
       "0  Connor Price    135000          64  \n",
       "1      Dikshant    221271          67  \n",
       "2  Connor Price    170880          50  \n",
       "3    sammy rash    127802          59  \n",
       "4    BoyWithUke    140665          81  "
      ]
     },
     "execution_count": 72,
     "metadata": {},
     "output_type": "execute_result"
    }
   ],
   "source": [
    "# Convert it to Dataframe\n",
    "track_name = []\n",
    "track_id = []\n",
    "artist = []\n",
    "album = []\n",
    "duration = []\n",
    "popularity = []\n",
    "for i, items in enumerate(results['items']):\n",
    "        track_name.append(items['name'])\n",
    "        track_id.append(items['id'])\n",
    "        artist.append(items[\"artists\"][0][\"name\"])\n",
    "        duration.append(items[\"duration_ms\"])\n",
    "        album.append(items[\"album\"][\"name\"])\n",
    "        popularity.append(items[\"popularity\"])\n",
    "\n",
    "# Create the final df   \n",
    "df_favourite = pd.DataFrame({ \"track_name\": track_name, \n",
    "                             \"album\": album, \n",
    "                             \"track_id\": track_id,\n",
    "                             \"artist\": artist, \n",
    "                             \"duration\": duration, \n",
    "                             \"popularity\": popularity})\n",
    "\n",
    "df_favourite.head()"
   ]
  },
  {
   "cell_type": "code",
   "execution_count": 73,
   "metadata": {},
   "outputs": [
    {
     "name": "stdout",
     "output_type": "stream",
     "text": [
      "CPU times: total: 500 ms\n",
      "Wall time: 19.1 s\n"
     ]
    }
   ],
   "source": [
    "%%time\n",
    "# Getting track features for each song in favorite song dataframe\n",
    "fav_tracks = []\n",
    "for track in df_favourite['track_id']:\n",
    "    try:  \n",
    "        track = getTrackFeatures(track)\n",
    "        fav_tracks.append(track)\n",
    "    except:\n",
    "        pass"
   ]
  },
  {
   "cell_type": "code",
   "execution_count": 74,
   "metadata": {},
   "outputs": [
    {
     "data": {
      "text/html": [
       "<div>\n",
       "<style scoped>\n",
       "    .dataframe tbody tr th:only-of-type {\n",
       "        vertical-align: middle;\n",
       "    }\n",
       "\n",
       "    .dataframe tbody tr th {\n",
       "        vertical-align: top;\n",
       "    }\n",
       "\n",
       "    .dataframe thead th {\n",
       "        text-align: right;\n",
       "    }\n",
       "</style>\n",
       "<table border=\"1\" class=\"dataframe\">\n",
       "  <thead>\n",
       "    <tr style=\"text-align: right;\">\n",
       "      <th></th>\n",
       "      <th>track_id</th>\n",
       "      <th>name</th>\n",
       "      <th>album</th>\n",
       "      <th>artist</th>\n",
       "      <th>release_date</th>\n",
       "      <th>length</th>\n",
       "      <th>popularity</th>\n",
       "      <th>danceability</th>\n",
       "      <th>acousticness</th>\n",
       "      <th>energy</th>\n",
       "      <th>instrumentalness</th>\n",
       "      <th>liveness</th>\n",
       "      <th>loudness</th>\n",
       "      <th>speechiness</th>\n",
       "      <th>tempo</th>\n",
       "      <th>time_signature</th>\n",
       "    </tr>\n",
       "  </thead>\n",
       "  <tbody>\n",
       "    <tr>\n",
       "      <th>0</th>\n",
       "      <td>2k5rWMAz9RvFS3k3kk3cc5</td>\n",
       "      <td>You Said</td>\n",
       "      <td>You Said</td>\n",
       "      <td>Connor Price</td>\n",
       "      <td>2021-07-09</td>\n",
       "      <td>135000</td>\n",
       "      <td>64</td>\n",
       "      <td>0.726</td>\n",
       "      <td>0.141</td>\n",
       "      <td>0.481</td>\n",
       "      <td>0.000</td>\n",
       "      <td>0.155</td>\n",
       "      <td>-8.254</td>\n",
       "      <td>0.2070</td>\n",
       "      <td>79.978</td>\n",
       "      <td>4</td>\n",
       "    </tr>\n",
       "    <tr>\n",
       "      <th>1</th>\n",
       "      <td>1ZiReD9pPTttQWwSoYqdyH</td>\n",
       "      <td>Aankhon Se Batana</td>\n",
       "      <td>Aankhon Se Batana</td>\n",
       "      <td>Dikshant</td>\n",
       "      <td>2022-04-12</td>\n",
       "      <td>221271</td>\n",
       "      <td>67</td>\n",
       "      <td>0.544</td>\n",
       "      <td>0.791</td>\n",
       "      <td>0.307</td>\n",
       "      <td>0.000</td>\n",
       "      <td>0.110</td>\n",
       "      <td>-11.361</td>\n",
       "      <td>0.0334</td>\n",
       "      <td>177.808</td>\n",
       "      <td>4</td>\n",
       "    </tr>\n",
       "    <tr>\n",
       "      <th>2</th>\n",
       "      <td>526SpJgLqe5JZtyXNo0Ic6</td>\n",
       "      <td>Love Language</td>\n",
       "      <td>Love Language</td>\n",
       "      <td>Connor Price</td>\n",
       "      <td>2020-06-19</td>\n",
       "      <td>170880</td>\n",
       "      <td>50</td>\n",
       "      <td>0.750</td>\n",
       "      <td>0.326</td>\n",
       "      <td>0.401</td>\n",
       "      <td>0.177</td>\n",
       "      <td>0.269</td>\n",
       "      <td>-9.105</td>\n",
       "      <td>0.3050</td>\n",
       "      <td>139.695</td>\n",
       "      <td>4</td>\n",
       "    </tr>\n",
       "    <tr>\n",
       "      <th>3</th>\n",
       "      <td>45HHTHXv7gQ5q2r89ui2Fy</td>\n",
       "      <td>lead me on</td>\n",
       "      <td>lead me on</td>\n",
       "      <td>sammy rash</td>\n",
       "      <td>2021-11-05</td>\n",
       "      <td>127802</td>\n",
       "      <td>59</td>\n",
       "      <td>0.787</td>\n",
       "      <td>0.566</td>\n",
       "      <td>0.478</td>\n",
       "      <td>0.000</td>\n",
       "      <td>0.147</td>\n",
       "      <td>-8.761</td>\n",
       "      <td>0.0920</td>\n",
       "      <td>79.029</td>\n",
       "      <td>4</td>\n",
       "    </tr>\n",
       "    <tr>\n",
       "      <th>4</th>\n",
       "      <td>6Jrdb6CFOJEGaHjaa6c4WR</td>\n",
       "      <td>IDGAF (with blackbear)</td>\n",
       "      <td>IDGAF</td>\n",
       "      <td>BoyWithUke</td>\n",
       "      <td>2022-03-18</td>\n",
       "      <td>140665</td>\n",
       "      <td>81</td>\n",
       "      <td>0.783</td>\n",
       "      <td>0.426</td>\n",
       "      <td>0.750</td>\n",
       "      <td>0.000</td>\n",
       "      <td>0.241</td>\n",
       "      <td>-5.762</td>\n",
       "      <td>0.0780</td>\n",
       "      <td>97.953</td>\n",
       "      <td>4</td>\n",
       "    </tr>\n",
       "  </tbody>\n",
       "</table>\n",
       "</div>"
      ],
      "text/plain": [
       "                 track_id                    name              album  \\\n",
       "0  2k5rWMAz9RvFS3k3kk3cc5                You Said           You Said   \n",
       "1  1ZiReD9pPTttQWwSoYqdyH       Aankhon Se Batana  Aankhon Se Batana   \n",
       "2  526SpJgLqe5JZtyXNo0Ic6           Love Language      Love Language   \n",
       "3  45HHTHXv7gQ5q2r89ui2Fy              lead me on         lead me on   \n",
       "4  6Jrdb6CFOJEGaHjaa6c4WR  IDGAF (with blackbear)              IDGAF   \n",
       "\n",
       "         artist release_date  length  popularity  danceability  acousticness  \\\n",
       "0  Connor Price   2021-07-09  135000          64         0.726         0.141   \n",
       "1      Dikshant   2022-04-12  221271          67         0.544         0.791   \n",
       "2  Connor Price   2020-06-19  170880          50         0.750         0.326   \n",
       "3    sammy rash   2021-11-05  127802          59         0.787         0.566   \n",
       "4    BoyWithUke   2022-03-18  140665          81         0.783         0.426   \n",
       "\n",
       "   energy  instrumentalness  liveness  loudness  speechiness    tempo  \\\n",
       "0   0.481             0.000     0.155    -8.254       0.2070   79.978   \n",
       "1   0.307             0.000     0.110   -11.361       0.0334  177.808   \n",
       "2   0.401             0.177     0.269    -9.105       0.3050  139.695   \n",
       "3   0.478             0.000     0.147    -8.761       0.0920   79.029   \n",
       "4   0.750             0.000     0.241    -5.762       0.0780   97.953   \n",
       "\n",
       "   time_signature  \n",
       "0               4  \n",
       "1               4  \n",
       "2               4  \n",
       "3               4  \n",
       "4               4  "
      ]
     },
     "execution_count": 74,
     "metadata": {},
     "output_type": "execute_result"
    }
   ],
   "source": [
    "# Create favorite track with audio features dataset\n",
    "df_fav = pd.DataFrame(fav_tracks, columns = ['track_id', 'name', 'album', 'artist', 'release_date', 'length', 'popularity', 'danceability', 'acousticness', 'energy', 'instrumentalness', 'liveness', 'loudness', 'speechiness', 'tempo', 'time_signature'])\n",
    "df_fav.head()"
   ]
  },
  {
   "cell_type": "code",
   "execution_count": 75,
   "metadata": {},
   "outputs": [
    {
     "data": {
      "text/html": [
       "<div>\n",
       "<style scoped>\n",
       "    .dataframe tbody tr th:only-of-type {\n",
       "        vertical-align: middle;\n",
       "    }\n",
       "\n",
       "    .dataframe tbody tr th {\n",
       "        vertical-align: top;\n",
       "    }\n",
       "\n",
       "    .dataframe thead th {\n",
       "        text-align: right;\n",
       "    }\n",
       "</style>\n",
       "<table border=\"1\" class=\"dataframe\">\n",
       "  <thead>\n",
       "    <tr style=\"text-align: right;\">\n",
       "      <th></th>\n",
       "      <th>track_id</th>\n",
       "      <th>length</th>\n",
       "      <th>popularity</th>\n",
       "      <th>danceability</th>\n",
       "      <th>acousticness</th>\n",
       "      <th>energy</th>\n",
       "      <th>instrumentalness</th>\n",
       "      <th>liveness</th>\n",
       "      <th>loudness</th>\n",
       "      <th>speechiness</th>\n",
       "      <th>tempo</th>\n",
       "      <th>time_signature</th>\n",
       "    </tr>\n",
       "  </thead>\n",
       "  <tbody>\n",
       "    <tr>\n",
       "      <th>0</th>\n",
       "      <td>2k5rWMAz9RvFS3k3kk3cc5</td>\n",
       "      <td>135000</td>\n",
       "      <td>64</td>\n",
       "      <td>0.726</td>\n",
       "      <td>0.141</td>\n",
       "      <td>0.481</td>\n",
       "      <td>0.000</td>\n",
       "      <td>0.155</td>\n",
       "      <td>-8.254</td>\n",
       "      <td>0.2070</td>\n",
       "      <td>79.978</td>\n",
       "      <td>4</td>\n",
       "    </tr>\n",
       "    <tr>\n",
       "      <th>1</th>\n",
       "      <td>1ZiReD9pPTttQWwSoYqdyH</td>\n",
       "      <td>221271</td>\n",
       "      <td>67</td>\n",
       "      <td>0.544</td>\n",
       "      <td>0.791</td>\n",
       "      <td>0.307</td>\n",
       "      <td>0.000</td>\n",
       "      <td>0.110</td>\n",
       "      <td>-11.361</td>\n",
       "      <td>0.0334</td>\n",
       "      <td>177.808</td>\n",
       "      <td>4</td>\n",
       "    </tr>\n",
       "    <tr>\n",
       "      <th>2</th>\n",
       "      <td>526SpJgLqe5JZtyXNo0Ic6</td>\n",
       "      <td>170880</td>\n",
       "      <td>50</td>\n",
       "      <td>0.750</td>\n",
       "      <td>0.326</td>\n",
       "      <td>0.401</td>\n",
       "      <td>0.177</td>\n",
       "      <td>0.269</td>\n",
       "      <td>-9.105</td>\n",
       "      <td>0.3050</td>\n",
       "      <td>139.695</td>\n",
       "      <td>4</td>\n",
       "    </tr>\n",
       "    <tr>\n",
       "      <th>3</th>\n",
       "      <td>45HHTHXv7gQ5q2r89ui2Fy</td>\n",
       "      <td>127802</td>\n",
       "      <td>59</td>\n",
       "      <td>0.787</td>\n",
       "      <td>0.566</td>\n",
       "      <td>0.478</td>\n",
       "      <td>0.000</td>\n",
       "      <td>0.147</td>\n",
       "      <td>-8.761</td>\n",
       "      <td>0.0920</td>\n",
       "      <td>79.029</td>\n",
       "      <td>4</td>\n",
       "    </tr>\n",
       "    <tr>\n",
       "      <th>4</th>\n",
       "      <td>6Jrdb6CFOJEGaHjaa6c4WR</td>\n",
       "      <td>140665</td>\n",
       "      <td>81</td>\n",
       "      <td>0.783</td>\n",
       "      <td>0.426</td>\n",
       "      <td>0.750</td>\n",
       "      <td>0.000</td>\n",
       "      <td>0.241</td>\n",
       "      <td>-5.762</td>\n",
       "      <td>0.0780</td>\n",
       "      <td>97.953</td>\n",
       "      <td>4</td>\n",
       "    </tr>\n",
       "  </tbody>\n",
       "</table>\n",
       "</div>"
      ],
      "text/plain": [
       "                 track_id  length  popularity  danceability  acousticness  \\\n",
       "0  2k5rWMAz9RvFS3k3kk3cc5  135000          64         0.726         0.141   \n",
       "1  1ZiReD9pPTttQWwSoYqdyH  221271          67         0.544         0.791   \n",
       "2  526SpJgLqe5JZtyXNo0Ic6  170880          50         0.750         0.326   \n",
       "3  45HHTHXv7gQ5q2r89ui2Fy  127802          59         0.787         0.566   \n",
       "4  6Jrdb6CFOJEGaHjaa6c4WR  140665          81         0.783         0.426   \n",
       "\n",
       "   energy  instrumentalness  liveness  loudness  speechiness    tempo  \\\n",
       "0   0.481             0.000     0.155    -8.254       0.2070   79.978   \n",
       "1   0.307             0.000     0.110   -11.361       0.0334  177.808   \n",
       "2   0.401             0.177     0.269    -9.105       0.3050  139.695   \n",
       "3   0.478             0.000     0.147    -8.761       0.0920   79.029   \n",
       "4   0.750             0.000     0.241    -5.762       0.0780   97.953   \n",
       "\n",
       "   time_signature  \n",
       "0               4  \n",
       "1               4  \n",
       "2               4  \n",
       "3               4  \n",
       "4               4  "
      ]
     },
     "execution_count": 75,
     "metadata": {},
     "output_type": "execute_result"
    }
   ],
   "source": [
    "# Dropping columns that could lead to data leakage\n",
    "df_fav = df_fav.drop(columns=['name', 'album', 'artist', 'release_date'])\n",
    "df_fav.head()"
   ]
  },
  {
   "cell_type": "code",
   "execution_count": 76,
   "metadata": {},
   "outputs": [
    {
     "data": {
      "text/plain": [
       "2k5rWMAz9RvFS3k3kk3cc5    1\n",
       "3TfJtvgXTC0BIsRGXD3SLz    1\n",
       "3jvqqFqmRnZKZJXnOKV4zp    1\n",
       "0WXyJHcgaibGLH1xoiWDIa    1\n",
       "4T6FWA703h6H7zk1FoSARw    1\n",
       "0KSOLEBixnBYIKNHF1VbzF    1\n",
       "1O5mTSQa0sCce9ghhDqIZl    1\n",
       "2SUxn2O9NHL6GHGQFgwCY0    1\n",
       "45bE4HXI0AwGZXfZtMp8JR    1\n",
       "4mjTMmz0j6Wl3GhODoPqTx    1\n",
       "4LMlIX9Y8qziRafzW30mGc    1\n",
       "4eDtZP99H6xfasP4Tku9Ee    1\n",
       "2PR4jVXzyjCky2PkONvipq    1\n",
       "1ZiReD9pPTttQWwSoYqdyH    1\n",
       "0gGwIl6b1PRp2bE9wCbWa3    1\n",
       "1EWLY8o2kEQRR3OlPoLnns    1\n",
       "3Ofmpyhv5UAQ70mENzB277    1\n",
       "0NvGVd87SYZnryTcfQPKUO    1\n",
       "5Cr5e4NGjmbcem8nugnf4i    1\n",
       "01UeBfllW39eaKdiCw556R    1\n",
       "4SLWJ2ff0RHSJOSp2MPIHH    1\n",
       "0s76ExpXyMGVBlKLUr683e    1\n",
       "0OPIBKjAYBFzNpo1HzjqzQ    1\n",
       "0NLkVxf0PyxsXBG3EuZcJf    1\n",
       "5nTbPFqLKmQdIg1SD8KgG4    1\n",
       "7lvDsmTRXFE3dK4OjvRiWB    1\n",
       "1RlmAzI27AlIpvoRN3u6Iy    1\n",
       "47BBI51FKFwOMlIiX6m8ya    1\n",
       "526SpJgLqe5JZtyXNo0Ic6    1\n",
       "45HHTHXv7gQ5q2r89ui2Fy    1\n",
       "6Jrdb6CFOJEGaHjaa6c4WR    1\n",
       "3afkJSKX0EAMsJXTZnDXXJ    1\n",
       "7mxEWcW3A0jULs64ckyq9k    1\n",
       "5PiPZVKX9xIeqfg7sT0vpZ    1\n",
       "560V8xbikuV7YVXqbpDGOv    1\n",
       "7i2theCezASheQ8KmXRc7b    1\n",
       "3fwyItGexa88kR8j76dIqv    1\n",
       "4SmMVj2SnYXPA2M9LhtCnO    1\n",
       "6pvpFQ2jaI6oXAswo3GSUW    1\n",
       "5GlPyea0WIbj3PI66a9Dft    1\n",
       "4LtSTc3xANVhYeeN69nscM    1\n",
       "0lQaP3ttoUjMprcvRu3yeI    1\n",
       "6TVqffNTpDAlfCtDIKyFbZ    1\n",
       "2ZQLEuaDw9rxJ5u5YR0KEw    1\n",
       "6MZyrnqwsLnrWY5Gk0AyXg    1\n",
       "3F2BSn4ayglzMwquBRHZq6    1\n",
       "6KYSdsBXxbURZfIht3mES7    1\n",
       "02Ygu8lo3qSknRpcBnspso    1\n",
       "1l0v5JETBA5zbkIOY2Zh7q    1\n",
       "1juJ3mwsFerctbngtK42G4    1\n",
       "Name: track_id, dtype: int64"
      ]
     },
     "execution_count": 76,
     "metadata": {},
     "output_type": "execute_result"
    }
   ],
   "source": [
    "# Checking for duplicates in df_fav\n",
    "df_fav['track_id'].value_counts()"
   ]
  },
  {
   "cell_type": "code",
   "execution_count": 77,
   "metadata": {},
   "outputs": [],
   "source": [
    "# Creating favorite column to use in classification\n",
    "df_fav['favorite'] = 1\n",
    "df['favorite'] = 0 "
   ]
  },
  {
   "cell_type": "code",
   "execution_count": 78,
   "metadata": {},
   "outputs": [
    {
     "data": {
      "text/plain": [
       "array([ True,  True,  True,  True,  True,  True,  True,  True,  True,\n",
       "        True,  True,  True,  True])"
      ]
     },
     "execution_count": 78,
     "metadata": {},
     "output_type": "execute_result"
    }
   ],
   "source": [
    "# Checking if both datasets have the same columns\n",
    "df.columns == df_fav.columns"
   ]
  },
  {
   "cell_type": "markdown",
   "metadata": {},
   "source": [
    "## Preparing dataset for model creation"
   ]
  },
  {
   "cell_type": "code",
   "execution_count": 79,
   "metadata": {},
   "outputs": [
    {
     "name": "stdout",
     "output_type": "stream",
     "text": [
      "(8883, 13)\n",
      "(50, 13)\n"
     ]
    }
   ],
   "source": [
    "print(df.shape)\n",
    "print(df_fav.shape)"
   ]
  },
  {
   "cell_type": "code",
   "execution_count": 80,
   "metadata": {},
   "outputs": [
    {
     "data": {
      "text/plain": [
       "(8933, 13)"
      ]
     },
     "execution_count": 80,
     "metadata": {},
     "output_type": "execute_result"
    }
   ],
   "source": [
    "# Combining the favorite dataframe with the dataframe of Spotify's songs\n",
    "combined = pd.concat([df, df_fav])\n",
    "combined.shape"
   ]
  },
  {
   "cell_type": "code",
   "execution_count": 81,
   "metadata": {},
   "outputs": [
    {
     "data": {
      "text/plain": [
       "0    8883\n",
       "1      50\n",
       "Name: favorite, dtype: int64"
      ]
     },
     "execution_count": 81,
     "metadata": {},
     "output_type": "execute_result"
    }
   ],
   "source": [
    "combined.favorite.value_counts()"
   ]
  },
  {
   "cell_type": "markdown",
   "metadata": {},
   "source": [
    "The favorite songs to not favorite songs ratio is imbalanced, I will need to fix this when building the model"
   ]
  },
  {
   "cell_type": "code",
   "execution_count": 82,
   "metadata": {},
   "outputs": [
    {
     "data": {
      "text/html": [
       "<div>\n",
       "<style scoped>\n",
       "    .dataframe tbody tr th:only-of-type {\n",
       "        vertical-align: middle;\n",
       "    }\n",
       "\n",
       "    .dataframe tbody tr th {\n",
       "        vertical-align: top;\n",
       "    }\n",
       "\n",
       "    .dataframe thead th {\n",
       "        text-align: right;\n",
       "    }\n",
       "</style>\n",
       "<table border=\"1\" class=\"dataframe\">\n",
       "  <thead>\n",
       "    <tr style=\"text-align: right;\">\n",
       "      <th></th>\n",
       "      <th>track_id</th>\n",
       "      <th>length</th>\n",
       "      <th>popularity</th>\n",
       "      <th>danceability</th>\n",
       "      <th>acousticness</th>\n",
       "      <th>energy</th>\n",
       "      <th>instrumentalness</th>\n",
       "      <th>liveness</th>\n",
       "      <th>loudness</th>\n",
       "      <th>speechiness</th>\n",
       "      <th>tempo</th>\n",
       "      <th>time_signature</th>\n",
       "      <th>favorite</th>\n",
       "    </tr>\n",
       "  </thead>\n",
       "  <tbody>\n",
       "    <tr>\n",
       "      <th>0</th>\n",
       "      <td>2k5rWMAz9RvFS3k3kk3cc5</td>\n",
       "      <td>135000</td>\n",
       "      <td>64</td>\n",
       "      <td>0.726</td>\n",
       "      <td>0.141</td>\n",
       "      <td>0.481</td>\n",
       "      <td>0.000</td>\n",
       "      <td>0.155</td>\n",
       "      <td>-8.254</td>\n",
       "      <td>0.2070</td>\n",
       "      <td>79.978</td>\n",
       "      <td>4</td>\n",
       "      <td>1</td>\n",
       "    </tr>\n",
       "    <tr>\n",
       "      <th>1</th>\n",
       "      <td>1ZiReD9pPTttQWwSoYqdyH</td>\n",
       "      <td>221271</td>\n",
       "      <td>67</td>\n",
       "      <td>0.544</td>\n",
       "      <td>0.791</td>\n",
       "      <td>0.307</td>\n",
       "      <td>0.000</td>\n",
       "      <td>0.110</td>\n",
       "      <td>-11.361</td>\n",
       "      <td>0.0334</td>\n",
       "      <td>177.808</td>\n",
       "      <td>4</td>\n",
       "      <td>1</td>\n",
       "    </tr>\n",
       "    <tr>\n",
       "      <th>2</th>\n",
       "      <td>526SpJgLqe5JZtyXNo0Ic6</td>\n",
       "      <td>170880</td>\n",
       "      <td>50</td>\n",
       "      <td>0.750</td>\n",
       "      <td>0.326</td>\n",
       "      <td>0.401</td>\n",
       "      <td>0.177</td>\n",
       "      <td>0.269</td>\n",
       "      <td>-9.105</td>\n",
       "      <td>0.3050</td>\n",
       "      <td>139.695</td>\n",
       "      <td>4</td>\n",
       "      <td>1</td>\n",
       "    </tr>\n",
       "    <tr>\n",
       "      <th>3</th>\n",
       "      <td>45HHTHXv7gQ5q2r89ui2Fy</td>\n",
       "      <td>127802</td>\n",
       "      <td>59</td>\n",
       "      <td>0.787</td>\n",
       "      <td>0.566</td>\n",
       "      <td>0.478</td>\n",
       "      <td>0.000</td>\n",
       "      <td>0.147</td>\n",
       "      <td>-8.761</td>\n",
       "      <td>0.0920</td>\n",
       "      <td>79.029</td>\n",
       "      <td>4</td>\n",
       "      <td>1</td>\n",
       "    </tr>\n",
       "    <tr>\n",
       "      <th>4</th>\n",
       "      <td>6Jrdb6CFOJEGaHjaa6c4WR</td>\n",
       "      <td>140665</td>\n",
       "      <td>81</td>\n",
       "      <td>0.783</td>\n",
       "      <td>0.426</td>\n",
       "      <td>0.750</td>\n",
       "      <td>0.000</td>\n",
       "      <td>0.241</td>\n",
       "      <td>-5.762</td>\n",
       "      <td>0.0780</td>\n",
       "      <td>97.953</td>\n",
       "      <td>4</td>\n",
       "      <td>1</td>\n",
       "    </tr>\n",
       "  </tbody>\n",
       "</table>\n",
       "</div>"
      ],
      "text/plain": [
       "                 track_id  length  popularity  danceability  acousticness  \\\n",
       "0  2k5rWMAz9RvFS3k3kk3cc5  135000          64         0.726         0.141   \n",
       "1  1ZiReD9pPTttQWwSoYqdyH  221271          67         0.544         0.791   \n",
       "2  526SpJgLqe5JZtyXNo0Ic6  170880          50         0.750         0.326   \n",
       "3  45HHTHXv7gQ5q2r89ui2Fy  127802          59         0.787         0.566   \n",
       "4  6Jrdb6CFOJEGaHjaa6c4WR  140665          81         0.783         0.426   \n",
       "\n",
       "   energy  instrumentalness  liveness  loudness  speechiness    tempo  \\\n",
       "0   0.481             0.000     0.155    -8.254       0.2070   79.978   \n",
       "1   0.307             0.000     0.110   -11.361       0.0334  177.808   \n",
       "2   0.401             0.177     0.269    -9.105       0.3050  139.695   \n",
       "3   0.478             0.000     0.147    -8.761       0.0920   79.029   \n",
       "4   0.750             0.000     0.241    -5.762       0.0780   97.953   \n",
       "\n",
       "   time_signature  favorite  \n",
       "0               4         1  \n",
       "1               4         1  \n",
       "2               4         1  \n",
       "3               4         1  \n",
       "4               4         1  "
      ]
     },
     "execution_count": 82,
     "metadata": {},
     "output_type": "execute_result"
    }
   ],
   "source": [
    "# Creating dataframe of favorite songs\n",
    "df_fav = combined.loc[combined['favorite'] == 1]\n",
    "df_fav.head()"
   ]
  },
  {
   "cell_type": "code",
   "execution_count": 83,
   "metadata": {},
   "outputs": [
    {
     "data": {
      "text/plain": [
       "(8883, 13)"
      ]
     },
     "execution_count": 83,
     "metadata": {},
     "output_type": "execute_result"
    }
   ],
   "source": [
    "# Removing favorite songs from playlist songs\n",
    "df = combined.loc[combined['favorite'] != 1]\n",
    "df.shape"
   ]
  },
  {
   "cell_type": "code",
   "execution_count": 84,
   "metadata": {},
   "outputs": [
    {
     "data": {
      "text/plain": [
       "(50, 13)"
      ]
     },
     "execution_count": 84,
     "metadata": {},
     "output_type": "execute_result"
    }
   ],
   "source": [
    "df_fav.shape"
   ]
  },
  {
   "cell_type": "code",
   "execution_count": 85,
   "metadata": {},
   "outputs": [],
   "source": [
    "# Saving these dataframes to use in model creation\n",
    "df.to_csv('encoded_playlist_songs.csv', index=False)\n",
    "df_fav.to_csv('favorite_songs.csv', index=False)"
   ]
  },
  {
   "cell_type": "code",
   "execution_count": null,
   "metadata": {},
   "outputs": [],
   "source": []
  }
 ],
 "metadata": {
  "interpreter": {
   "hash": "b64e5434eb6f78b23ded7093c27034844fda971e57a0689a97b233b8e8d5583b"
  },
  "kernelspec": {
   "display_name": "Python 3.10.2 64-bit",
   "language": "python",
   "name": "python3"
  },
  "language_info": {
   "codemirror_mode": {
    "name": "ipython",
    "version": 3
   },
   "file_extension": ".py",
   "mimetype": "text/x-python",
   "name": "python",
   "nbconvert_exporter": "python",
   "pygments_lexer": "ipython3",
   "version": "3.10.2"
  },
  "orig_nbformat": 2
 },
 "nbformat": 4,
 "nbformat_minor": 2
}
